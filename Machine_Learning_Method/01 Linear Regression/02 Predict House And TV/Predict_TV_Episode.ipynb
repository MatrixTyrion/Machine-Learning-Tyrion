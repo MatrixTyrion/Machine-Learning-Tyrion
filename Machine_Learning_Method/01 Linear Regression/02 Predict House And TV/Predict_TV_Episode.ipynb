{
 "cells": [
  {
   "cell_type": "code",
   "execution_count": 1,
   "metadata": {},
   "outputs": [],
   "source": [
    "import numpy as np\n",
    "import pandas as pd\n",
    "import matplotlib.pyplot as plt\n",
    "from sklearn import datasets, linear_model"
   ]
  },
  {
   "cell_type": "code",
   "execution_count": 2,
   "metadata": {},
   "outputs": [],
   "source": [
    "# We have two episode that need to predict which will have more viewers next week\n",
    "# So, we have two x,y\n",
    "# And fit our data to two different linear regression models for each episode"
   ]
  },
  {
   "cell_type": "code",
   "execution_count": 3,
   "metadata": {},
   "outputs": [],
   "source": [
    "def get_data(file_name):\n",
    "    data = pd.read_csv(file_name)\n",
    "    print(data, '\\n')\n",
    "\n",
    "    flash_X = data['Flash_Episode']\n",
    "    flash_Y = data['Flash_US_Viewers']\n",
    "    \n",
    "    arrow_X = data['Arrow_Episode']\n",
    "    arrow_Y = data['Arrow_US_Viewers']\n",
    "    \n",
    "    return flash_X,flash_Y,arrow_X,arrow_Y"
   ]
  },
  {
   "cell_type": "code",
   "execution_count": 4,
   "metadata": {},
   "outputs": [],
   "source": [
    "def reshape_data(flash_X,flash_Y,arrow_X,arrow_Y):\n",
    "    flash_X = flash_X[:,np.newaxis]\n",
    "    flash_Y = flash_Y[:,np.newaxis]\n",
    "    arrow_X = arrow_X[:,np.newaxis]\n",
    "    arrow_Y = arrow_Y[:,np.newaxis]\n",
    "    return flash_X,flash_Y,arrow_X,arrow_Y"
   ]
  },
  {
   "cell_type": "code",
   "execution_count": 5,
   "metadata": {},
   "outputs": [],
   "source": [
    "def compare_two_episode(x1, y1, x2, y2):\n",
    "    regr1 = linear_model.LinearRegression()\n",
    "    regr1.fit(x1, y1)\n",
    "    predict1 = regr1.predict(9)\n",
    "    \n",
    "    regr2 = linear_model.LinearRegression()\n",
    "    regr2.fit(x2, y2)\n",
    "    predict2 = regr2.predict(9)\n",
    "    \n",
    "    if predict1 > predict2:\n",
    "        print('The flash-TV will more Viewers')\n",
    "    else:\n",
    "        print('The Arrow-TV will more Viewers')"
   ]
  },
  {
   "cell_type": "code",
   "execution_count": 6,
   "metadata": {},
   "outputs": [
    {
     "name": "stdout",
     "output_type": "stream",
     "text": [
      "   Flash_Episode  Flash_US_Viewers  Arrow_Episode  Arrow_US_Viewers\n",
      "0              1              4.83              1              2.84\n",
      "1              2              4.27              2              2.32\n",
      "2              3              3.59              3              2.55\n",
      "3              4              3.53              4              2.49\n",
      "4              5              3.46              5              2.73\n",
      "5              6              3.73              6              2.60\n",
      "6              7              3.47              7              2.64\n",
      "7              8              4.34              8              3.92\n",
      "8              9              4.66              9              3.06 \n",
      "\n",
      "The flash-TV will more Viewers\n"
     ]
    }
   ],
   "source": [
    "flash_X,flash_Y,arrow_X,arrow_Y = get_data('TV_data.csv')\n",
    "flash_X,flash_Y,arrow_X,arrow_Y = reshape_data(flash_X,flash_Y,arrow_X,arrow_Y)\n",
    "compare_two_episode(flash_X,flash_Y,arrow_X,arrow_Y)"
   ]
  },
  {
   "cell_type": "code",
   "execution_count": null,
   "metadata": {},
   "outputs": [],
   "source": []
  }
 ],
 "metadata": {
  "kernelspec": {
   "display_name": "Python 3",
   "language": "python",
   "name": "python3"
  },
  "language_info": {
   "codemirror_mode": {
    "name": "ipython",
    "version": 3
   },
   "file_extension": ".py",
   "mimetype": "text/x-python",
   "name": "python",
   "nbconvert_exporter": "python",
   "pygments_lexer": "ipython3",
   "version": "3.6.4"
  }
 },
 "nbformat": 4,
 "nbformat_minor": 2
}
