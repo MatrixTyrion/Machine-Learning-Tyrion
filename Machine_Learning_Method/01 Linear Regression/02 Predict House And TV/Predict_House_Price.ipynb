{
 "cells": [
  {
   "cell_type": "code",
   "execution_count": 1,
   "metadata": {},
   "outputs": [],
   "source": [
    "import numpy as np\n",
    "import pandas as pd\n",
    "import matplotlib.pyplot as plt\n",
    "from sklearn import datasets, linear_model"
   ]
  },
  {
   "cell_type": "code",
   "execution_count": 2,
   "metadata": {},
   "outputs": [],
   "source": [
    "def get_data_by_concat(file_name):\n",
    "    data = pd.read_csv(file_name)\n",
    "    \n",
    "    Y = data['Price']\n",
    "    feature_1 = data['Square_Feet']\n",
    "    \n",
    "    feature_0 = pd.Series(np.ones(len(data)))\n",
    "    \n",
    "    X = pd.concat([feature_0, feature_1], axis=1)\n",
    "    X.columns = ['Init', 'Square_Feet']\n",
    "    \n",
    "    return X,Y"
   ]
  },
  {
   "cell_type": "code",
   "execution_count": 3,
   "metadata": {},
   "outputs": [],
   "source": [
    "def linear_model_main_concat(X, Y, predict_value):\n",
    "    regr = linear_model.LinearRegression()\n",
    "    regr.fit(X, Y)\n",
    "    \n",
    "    predict_outcome = regr.predict(predict_value)\n",
    "    predictions = {}\n",
    "    predictions['intercept'] = regr.intercept_ # 截距\n",
    "    predictions['coefficient'] = regr.coef_    # 回归系数\n",
    "    predictions['predicted_value'] = predict_outcome\n",
    "\n",
    "    plt.plot(X['Square_Feet'], regr.predict(X), color='red', linewidth=1)\n",
    "    plt.plot(X['Square_Feet'], Y, 'o')\n",
    "    plt.show()\n",
    "\n",
    "    return predictions"
   ]
  },
  {
   "cell_type": "code",
   "execution_count": 4,
   "metadata": {},
   "outputs": [
    {
     "data": {
      "image/png": "[encoded data removed]",
      "text/plain": [
       "<matplotlib.figure.Figure at 0x18d521c4780>"
      ]
     },
     "metadata": {},
     "output_type": "display_data"
    },
    {
     "name": "stdout",
     "output_type": "stream",
     "text": [
      "intercept 1771.8085106382914\n",
      "coefficient [ 0.         28.77659574]\n",
      "predicted_value [21915.42553191]\n"
     ]
    }
   ],
   "source": [
    "X = Y = pd.DataFrame()\n",
    "X,Y= get_data_by_concat('data_house.csv')\n",
    "predictvalue = [[1, 700]]\n",
    "result = linear_model_main_concat(X, Y, predictvalue)\n",
    "print('intercept', result['intercept'])\n",
    "print('coefficient', result['coefficient'])\n",
    "print('predicted_value', result['predicted_value'])"
   ]
  },
  {
   "cell_type": "code",
   "execution_count": null,
   "metadata": {},
   "outputs": [],
   "source": []
  },
  {
   "cell_type": "markdown",
   "metadata": {},
   "source": [
    "# 结果验证"
   ]
  },
  {
   "cell_type": "code",
   "execution_count": 5,
   "metadata": {},
   "outputs": [
    {
     "data": {
      "text/plain": [
       "0     6450\n",
       "1     7450\n",
       "2     8450\n",
       "3     9450\n",
       "4    11450\n",
       "5    15450\n",
       "6    18450\n",
       "Name: Price, dtype: int64"
      ]
     },
     "execution_count": 5,
     "metadata": {},
     "output_type": "execute_result"
    }
   ],
   "source": [
    "Y"
   ]
  },
  {
   "cell_type": "code",
   "execution_count": 6,
   "metadata": {},
   "outputs": [
    {
     "data": {
      "text/plain": [
       "array([ 6088.29787234,  7527.12765957,  8965.95744681, 10404.78723404,\n",
       "       11843.61702128, 13282.44680851, 19037.76595745])"
      ]
     },
     "execution_count": 6,
     "metadata": {},
     "output_type": "execute_result"
    }
   ],
   "source": [
    "np.dot(result['coefficient'], X.T) + result['intercept']"
   ]
  },
  {
   "cell_type": "code",
   "execution_count": 7,
   "metadata": {},
   "outputs": [
    {
     "data": {
      "text/plain": [
       "array([21915.42553191])"
      ]
     },
     "execution_count": 7,
     "metadata": {},
     "output_type": "execute_result"
    }
   ],
   "source": [
    "np.dot(result['coefficient'], [[1],[700]]) + result['intercept']"
   ]
  },
  {
   "cell_type": "code",
   "execution_count": null,
   "metadata": {},
   "outputs": [],
   "source": []
  },
  {
   "cell_type": "markdown",
   "metadata": {},
   "source": [
    "# 通过 zip 提取数据\n",
    "##### for Square_Feet, Price in zip(data['Square_Feet'], data['Price'])"
   ]
  },
  {
   "cell_type": "code",
   "execution_count": 8,
   "metadata": {},
   "outputs": [],
   "source": [
    "def get_data_by_zip(file_name):\n",
    "    data = pd.read_csv(file_name)\n",
    "    #print(data, '\\n')\n",
    "    X = []\n",
    "    Y = []\n",
    "    \n",
    "    for Square_Feet, Price in zip(data['Square_Feet'], data['Price']):\n",
    "        X.append([float(Square_Feet)])\n",
    "        Y.append([float(Price)])\n",
    "    \n",
    "    return X,Y"
   ]
  },
  {
   "cell_type": "code",
   "execution_count": 9,
   "metadata": {},
   "outputs": [],
   "source": [
    "def linear_model_main_zip(X, Y, predict_value):\n",
    "    regr = linear_model.LinearRegression()\n",
    "    regr.fit(X, Y)\n",
    "    \n",
    "    predict_outcome = regr.predict(predict_value)\n",
    "    predictions = {}\n",
    "    predictions['intercept'] = regr.intercept_\n",
    "    predictions['coefficient'] = regr.coef_\n",
    "    predictions['predicted_value'] = predict_outcome\n",
    "\n",
    "    plt.plot(X, regr.predict(X), color='red', linewidth=1)\n",
    "    plt.plot(X, Y, 'o')\n",
    "    plt.show()\n",
    "    \n",
    "    return predictions"
   ]
  },
  {
   "cell_type": "code",
   "execution_count": 10,
   "metadata": {},
   "outputs": [
    {
     "name": "stdout",
     "output_type": "stream",
     "text": [
      "[[150.0], [200.0], [250.0], [300.0], [350.0], [400.0], [600.0]]\n",
      "[[6450.0], [7450.0], [8450.0], [9450.0], [11450.0], [15450.0], [18450.0]]\n"
     ]
    },
    {
     "data": {
      "image/png": "[encoded data removed]",
      "text/plain": [
       "<matplotlib.figure.Figure at 0x18d522b8a90>"
      ]
     },
     "metadata": {},
     "output_type": "display_data"
    },
    {
     "name": "stdout",
     "output_type": "stream",
     "text": [
      "intercept [1771.80851064]\n",
      "coefficient [[28.77659574]]\n",
      "predicted_value [[21915.42553191]]\n"
     ]
    }
   ],
   "source": [
    "X = Y = pd.DataFrame()\n",
    "X,Y= get_data_by_zip('data_house.csv')\n",
    "# print(X, Y, sep='\\n\\n', end='\\n\\n')\n",
    "predictvalue = [[700]]\n",
    "print(X)\n",
    "print(Y)\n",
    "result = linear_model_main_zip(X, Y, predictvalue)\n",
    "print('intercept', result['intercept'])\n",
    "print('coefficient', result['coefficient'])\n",
    "print('predicted_value', result['predicted_value'])"
   ]
  },
  {
   "cell_type": "code",
   "execution_count": null,
   "metadata": {},
   "outputs": [],
   "source": []
  }
 ],
 "metadata": {
  "kernelspec": {
   "display_name": "Python 3",
   "language": "python",
   "name": "python3"
  },
  "language_info": {
   "codemirror_mode": {
    "name": "ipython",
    "version": 3
   },
   "file_extension": ".py",
   "mimetype": "text/x-python",
   "name": "python",
   "nbconvert_exporter": "python",
   "pygments_lexer": "ipython3",
   "version": "3.6.4"
  }
 },
 "nbformat": 4,
 "nbformat_minor": 2
}
