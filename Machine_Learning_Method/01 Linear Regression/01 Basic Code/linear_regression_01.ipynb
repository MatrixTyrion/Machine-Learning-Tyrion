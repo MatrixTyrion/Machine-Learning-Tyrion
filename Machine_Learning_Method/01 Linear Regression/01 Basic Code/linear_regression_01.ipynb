{
 "cells": [
  {
   "cell_type": "code",
   "execution_count": 1,
   "metadata": {},
   "outputs": [],
   "source": [
    "import numpy as np\n",
    "import matplotlib.pyplot as plt"
   ]
  },
  {
   "cell_type": "code",
   "execution_count": 2,
   "metadata": {},
   "outputs": [],
   "source": [
    "def Cost_Function_Error(train_data, theta_0, theta_1):\n",
    "    sample_number = len(train_data)\n",
    "    totalError = 0\n",
    "    for i in range(sample_number):\n",
    "        hyp = theta_0 * 1 + theta_1 * train_data[i, 0]\n",
    "        totalError += (hyp - train_data[i, 1]) ** 2\n",
    "    return totalError / (2 * len(train_data))"
   ]
  },
  {
   "cell_type": "code",
   "execution_count": 3,
   "metadata": {},
   "outputs": [],
   "source": [
    "def Gradient_Descent_Update_Theta(train_data, theta_0, theta_1, lr):\n",
    "    theta_0_gd = 0.0\n",
    "    theta_1_gd = 0.0\n",
    "    \n",
    "    for i in range(len(train_data)):\n",
    "        hyp = theta_0 * 1 + theta_1 * train_data[i, 0]\n",
    "        theta_0_gd += (hyp - train_data[i, 1]) * 1\n",
    "        theta_1_gd += (hyp - train_data[i, 1]) * train_data[i, 0]\n",
    "    \n",
    "    theta_0_gd = theta_0_gd / len(train_data)\n",
    "    theta_1_gd = theta_1_gd / len(train_data)\n",
    "    \n",
    "    theta_0 = theta_0 - lr * theta_0_gd\n",
    "    theta_1 = theta_1 - lr * theta_1_gd\n",
    "    \n",
    "    return theta_0, theta_1"
   ]
  },
  {
   "cell_type": "code",
   "execution_count": 4,
   "metadata": {},
   "outputs": [],
   "source": [
    "def optimizer(train_data, theta_0, theta_1, lr, iter_num, max_error):\n",
    "    error = 0.0\n",
    "    global lst, last_error\n",
    "    for i in range(iter_num):\n",
    "        theta_0, theta_1 = Gradient_Descent_Update_Theta(train_data, theta_0, theta_1, lr)\n",
    "        error = Cost_Function_Error(train_data, theta_0, theta_1)\n",
    "        lst[i] = error\n",
    "        if max_error > last_error - error:\n",
    "            print('Error {0} small then {1}, iter {2}'.format(error, last_error, i))\n",
    "            break\n",
    "        last_error = error\n",
    "    return theta_0, theta_1    "
   ]
  },
  {
   "cell_type": "code",
   "execution_count": 5,
   "metadata": {},
   "outputs": [],
   "source": [
    "def plot_data(data, theta_0, theta_1):\n",
    "    y_predicet = theta_0 * 1 + theta_1 * data[: , 0]\n",
    "    plt.plot(data[:, 0], data[:, 1], 'o')   # plot data point\n",
    "    plt.plot(data[:, 0], y_predicet, 'k-')  # plot predict fitting curve\n",
    "    plt.show()"
   ]
  },
  {
   "cell_type": "code",
   "execution_count": 6,
   "metadata": {},
   "outputs": [],
   "source": [
    "def plot_cost_function_iter(time):\n",
    "    plt.plot(range(time), lst[:time], '-')\n",
    "    plt.show()"
   ]
  },
  {
   "cell_type": "code",
   "execution_count": 7,
   "metadata": {
    "slideshow": {
     "slide_type": "-"
    }
   },
   "outputs": [],
   "source": [
    "def Linear_Regression():\n",
    "    # get train data\n",
    "    data = np.loadtxt('data.csv', delimiter=',')\n",
    "    \n",
    "    # To Some Init\n",
    "    '''\n",
    "        learning_rate, theta, iter_num, permit_error\n",
    "    '''\n",
    "    learning_rate = 0.001\n",
    "    theta = np.zeros((2,1))\n",
    "    theta[0] = 0.0\n",
    "    theta[1] = 0.0\n",
    "    iter_num = 4000\n",
    "    permit_error = 1e-5\n",
    "    \n",
    "    print('Intital Variables:\\n theta[0] = {0}\\n theta[1] = {1}\\n error = {2}\\n'.format(\n",
    "        theta[0], theta[1], Cost_Function_Error(data, theta[0], theta[1])))\n",
    "\n",
    "    [theta_0, theta_1] = optimizer(data, theta[0], theta[1], learning_rate, iter_num, permit_error)\n",
    "    \n",
    "    print('End Variables:\\n theta[0] = {0}\\n theta[1] = {1}\\n error = {2}\\n'.format(\n",
    "        theta_0, theta_1, Cost_Function_Error(data, theta_0, theta_1)))\n",
    "    \n",
    "    plot_data(data, theta_0, theta_1)"
   ]
  },
  {
   "cell_type": "code",
   "execution_count": 8,
   "metadata": {},
   "outputs": [
    {
     "name": "stdout",
     "output_type": "stream",
     "text": [
      "Intital Variables:\n",
      " theta[0] = [0.]\n",
      " theta[1] = [0.]\n",
      " error = [92.34182927]\n",
      "\n",
      "Error [0.68665747] small then [0.68666747], iter 3585\n",
      "End Variables:\n",
      " theta[0] = [0.81264]\n",
      " theta[1] = [1.92370112]\n",
      " error = [0.68665747]\n",
      "\n"
     ]
    },
    {
     "data": {
      "image/png": "[encoded data removed]",
      "text/plain": [
       "<matplotlib.figure.Figure at 0x1f1e40a5438>"
      ]
     },
     "metadata": {},
     "output_type": "display_data"
    }
   ],
   "source": [
    "lst = np.zeros(4000)\n",
    "last_error = 1e1000\n",
    "Linear_Regression()"
   ]
  },
  {
   "cell_type": "code",
   "execution_count": 9,
   "metadata": {},
   "outputs": [
    {
     "data": {
      "image/png": "[encoded data removed]",
      "text/plain": [
       "<matplotlib.figure.Figure at 0x1f1e40a52e8>"
      ]
     },
     "metadata": {},
     "output_type": "display_data"
    },
    {
     "data": {
      "image/png": "[encoded data removed]",
      "text/plain": [
       "<matplotlib.figure.Figure at 0x1f1e40a5da0>"
      ]
     },
     "metadata": {},
     "output_type": "display_data"
    }
   ],
   "source": [
    "plot_cost_function_iter(10)\n",
    "plot_cost_function_iter(90)"
   ]
  },
  {
   "cell_type": "code",
   "execution_count": null,
   "metadata": {},
   "outputs": [],
   "source": []
  },
  {
   "cell_type": "code",
   "execution_count": null,
   "metadata": {},
   "outputs": [],
   "source": []
  },
  {
   "cell_type": "code",
   "execution_count": null,
   "metadata": {},
   "outputs": [],
   "source": []
  }
 ],
 "metadata": {
  "kernelspec": {
   "display_name": "Python 3",
   "language": "python",
   "name": "python3"
  },
  "language_info": {
   "codemirror_mode": {
    "name": "ipython",
    "version": 3
   },
   "file_extension": ".py",
   "mimetype": "text/x-python",
   "name": "python",
   "nbconvert_exporter": "python",
   "pygments_lexer": "ipython3",
   "version": "3.6.4"
  }
 },
 "nbformat": 4,
 "nbformat_minor": 2
}
