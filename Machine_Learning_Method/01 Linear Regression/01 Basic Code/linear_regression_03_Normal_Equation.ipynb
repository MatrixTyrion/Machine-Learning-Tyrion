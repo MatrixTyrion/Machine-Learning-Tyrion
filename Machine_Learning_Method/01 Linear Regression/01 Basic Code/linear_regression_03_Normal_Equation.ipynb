{
 "cells": [
  {
   "cell_type": "code",
   "execution_count": 1,
   "metadata": {},
   "outputs": [],
   "source": [
    "import numpy as np\n",
    "import matplotlib.pyplot as plt"
   ]
  },
  {
   "cell_type": "code",
   "execution_count": 2,
   "metadata": {},
   "outputs": [],
   "source": [
    "def vector_data(data):\n",
    "    data = np.loadtxt('data.csv', delimiter=',')\n",
    "    \n",
    "    # Vector Feature\n",
    "    feature_0 = np.ones(len(data))\n",
    "    feature_1 = data[:,0].reshape((1,len(data)))\n",
    "    X = np.vstack((feature_0, feature_1))\n",
    "    \n",
    "    # Vector Targer\n",
    "    Y = data[:,1].reshape((len(data), 1))\n",
    "    \n",
    "    return X, Y"
   ]
  },
  {
   "cell_type": "code",
   "execution_count": 3,
   "metadata": {},
   "outputs": [],
   "source": [
    "def Cost_Function_Error(data, theta):\n",
    "    totalError = 0\n",
    "    \n",
    "    X, Y = vector_data(data)\n",
    "    hyp = np.dot(theta.T, X)\n",
    "    error = (hyp - Y.T) ** 2\n",
    "    # Sample set need sum each error in every sample point\n",
    "    totalError = np.sum(error) / (2 * len(data))\n",
    "\n",
    "    return totalError"
   ]
  },
  {
   "cell_type": "code",
   "execution_count": 4,
   "metadata": {},
   "outputs": [],
   "source": [
    "def Normal_Equation(data):\n",
    "    X, Y = vector_data(data)\n",
    "    X = np.transpose(X)\n",
    "    X_T = np.transpose(X)\n",
    "    \n",
    "    A = np.dot(X_T, X)\n",
    "    Ai = np.linalg.pinv(A)\n",
    "    B = np.dot(Ai, X_T)\n",
    "    C = np.dot(B, Y)\n",
    "    return C"
   ]
  },
  {
   "cell_type": "code",
   "execution_count": 5,
   "metadata": {},
   "outputs": [],
   "source": [
    "def linear_regression_vecter():\n",
    "    data = np.loadtxt('data.csv', delimiter=',')\n",
    "    \n",
    "    theta = np.array([[0.0], [0.0]])\n",
    "    \n",
    "    print('Intial Variables:\\n theta[0] = {0}\\n theta[1] = {1}\\n error = {2}\\n'.format(\n",
    "        theta[0], theta[1], Cost_Function_Error(data, theta)))\n",
    "    \n",
    "    theta = Normal_Equation(data)\n",
    "    Normal_Equation(data)\n",
    "    print('End Variables:\\n theta[0] = {0}\\n theta[1] = {1}\\n error = {2}\\n'.format(\n",
    "        theta[0], theta[1], Cost_Function_Error(data, theta)))\n",
    "    \n",
    "    pass"
   ]
  },
  {
   "cell_type": "code",
   "execution_count": 6,
   "metadata": {},
   "outputs": [
    {
     "name": "stdout",
     "output_type": "stream",
     "text": [
      "Intial Variables:\n",
      " theta[0] = [0.]\n",
      " theta[1] = [0.]\n",
      " error = 92.34182926829268\n",
      "\n",
      "End Variables:\n",
      " theta[0] = [1.24977978]\n",
      " theta[1] = [1.86585571]\n",
      " error = 0.6646186177595755\n",
      "\n"
     ]
    }
   ],
   "source": [
    "linear_regression_vecter()"
   ]
  },
  {
   "cell_type": "code",
   "execution_count": null,
   "metadata": {},
   "outputs": [],
   "source": []
  },
  {
   "cell_type": "code",
   "execution_count": null,
   "metadata": {},
   "outputs": [],
   "source": []
  }
 ],
 "metadata": {
  "kernelspec": {
   "display_name": "Python 3",
   "language": "python",
   "name": "python3"
  },
  "language_info": {
   "codemirror_mode": {
    "name": "ipython",
    "version": 3
   },
   "file_extension": ".py",
   "mimetype": "text/x-python",
   "name": "python",
   "nbconvert_exporter": "python",
   "pygments_lexer": "ipython3",
   "version": "3.6.6"
  },
  "toc": {
   "base_numbering": 1,
   "nav_menu": {},
   "number_sections": true,
   "sideBar": true,
   "skip_h1_title": false,
   "title_cell": "Table of Contents",
   "title_sidebar": "Contents",
   "toc_cell": false,
   "toc_position": {},
   "toc_section_display": true,
   "toc_window_display": false
  }
 },
 "nbformat": 4,
 "nbformat_minor": 2
}
