{
 "cells": [
  {
   "cell_type": "code",
   "execution_count": 2,
   "metadata": {},
   "outputs": [],
   "source": [
    "import numpy as np\n",
    "import matplotlib.pyplot as plt"
   ]
  },
  {
   "cell_type": "code",
   "execution_count": 2,
   "metadata": {},
   "outputs": [],
   "source": [
    "def vector_data(data):\n",
    "    data = np.loadtxt('data.csv', delimiter=',')\n",
    "    \n",
    "    # Vector Feature\n",
    "    feature_0 = np.ones(len(data))\n",
    "    feature_1 = data[:,0].reshape((1,len(data)))\n",
    "    X = np.vstack((feature_0, feature_1))\n",
    "    \n",
    "    # Vector Targer\n",
    "    Y = data[:,1].reshape((len(data), 1))\n",
    "    \n",
    "    return X, Y"
   ]
  },
  {
   "cell_type": "code",
   "execution_count": 3,
   "metadata": {},
   "outputs": [],
   "source": [
    "def Cost_Function_Error(data, theta):\n",
    "    totalError = 0\n",
    "    \n",
    "    X, Y = vector_data(data)\n",
    "    hyp = np.dot(theta.T, X)\n",
    "    error = (hyp - Y.T) ** 2\n",
    "    # Sample set need sum each error in every sample point\n",
    "    totalError = np.sum(error) / (2 * len(data))\n",
    "\n",
    "    return totalError"
   ]
  },
  {
   "cell_type": "code",
   "execution_count": 4,
   "metadata": {},
   "outputs": [],
   "source": [
    "def Gradient_Descent_Update_Theta(data, theta, lr):\n",
    "    theta_0 = theta_1 = 0\n",
    "\n",
    "    X, Y = vector_data(data)\n",
    "    hyp = np.dot(theta.T, X)\n",
    "    error_mean = (hyp - Y.T) / len(data)\n",
    "    diff = np.dot(X, error_mean.T)\n",
    "    \n",
    "    theta_0, theta_1 = theta - lr * diff\n",
    "\n",
    "    return theta_0, theta_1"
   ]
  },
  {
   "cell_type": "code",
   "execution_count": 5,
   "metadata": {},
   "outputs": [],
   "source": [
    "def optimizer(data, theta, lr, iterNum, maxError):\n",
    "    X, Y = vector_data(data)\n",
    "    error = 0.0\n",
    "    global lst\n",
    "    \n",
    "    for i in range(iterNum):\n",
    "        theta[0], theta[1] = Gradient_Descent_Update_Theta(data, theta, lr)\n",
    "        error = Cost_Function_Error(data, theta)\n",
    "        lst[i] = error\n",
    "\n",
    "    return theta"
   ]
  },
  {
   "cell_type": "code",
   "execution_count": 6,
   "metadata": {},
   "outputs": [],
   "source": [
    "def linear_regression_vecter():\n",
    "    data = np.loadtxt('data.csv', delimiter=',')\n",
    "    \n",
    "    lr = 0.001\n",
    "    theta = np.array([[0.0], [0.0]])\n",
    "    iterNum = 4000\n",
    "    maxError = 1e-3\n",
    "\n",
    "    print('Intital Variables:\\n theta[0] = {0}\\n theta[1] = {1}\\n error = {2}\\n'.format(\n",
    "        theta[0], theta[1], Cost_Function_Error(data, theta)))\n",
    "    [theta_0, theta_1] = optimizer(data, theta, lr, iterNum, maxError)\n",
    "    print('End Variables:\\n theta[0] = {0}\\n theta[1] = {1}\\n error = {2}\\n'.format(\n",
    "        theta_0, theta_1, Cost_Function_Error(data, theta)))\n",
    "    plot_data(data, theta_0, theta_1)"
   ]
  },
  {
   "cell_type": "code",
   "execution_count": null,
   "metadata": {},
   "outputs": [],
   "source": []
  },
  {
   "cell_type": "code",
   "execution_count": 7,
   "metadata": {},
   "outputs": [],
   "source": [
    "def plot_cost_function_iter(time):\n",
    "    plt.plot(range(time), lst[:time], '-')\n",
    "    plt.show()"
   ]
  },
  {
   "cell_type": "code",
   "execution_count": 8,
   "metadata": {},
   "outputs": [],
   "source": [
    "def plot_data(data, theta_0, theta_1):\n",
    "    y_predicet = theta_0 * 1 + theta_1 * data[: , 0]\n",
    "    plt.plot(data[:, 0], data[:, 1], 'o')   # plot data point\n",
    "    plt.plot(data[:, 0], y_predicet, 'k-')  # plot predict fitting curve\n",
    "    plt.show()"
   ]
  },
  {
   "cell_type": "code",
   "execution_count": 9,
   "metadata": {},
   "outputs": [
    {
     "name": "stdout",
     "output_type": "stream",
     "text": [
      "Intital Variables:\n",
      " theta[0] = [0.]\n",
      " theta[1] = [0.]\n",
      " error = 92.34182926829268\n",
      "\n",
      "End Variables:\n",
      " theta[0] = [0.851804]\n",
      " theta[1] = [1.91851867]\n",
      " error = 0.6828853844889947\n",
      "\n"
     ]
    },
    {
     "data": {
      "image/png": "[encoded data removed]",
      "text/plain": [
       "<matplotlib.figure.Figure at 0x1f0747db208>"
      ]
     },
     "metadata": {},
     "output_type": "display_data"
    }
   ],
   "source": [
    "lst = np.zeros(4000)\n",
    "linear_regression_vecter()"
   ]
  },
  {
   "cell_type": "code",
   "execution_count": 10,
   "metadata": {},
   "outputs": [
    {
     "data": {
      "image/png": "[encoded data removed]",
      "text/plain": [
       "<matplotlib.figure.Figure at 0x1f075791c50>"
      ]
     },
     "metadata": {},
     "output_type": "display_data"
    },
    {
     "data": {
      "image/png": "[encoded data removed]",
      "text/plain": [
       "<matplotlib.figure.Figure at 0x1f075791b38>"
      ]
     },
     "metadata": {},
     "output_type": "display_data"
    }
   ],
   "source": [
    "plot_cost_function_iter(10)\n",
    "plot_cost_function_iter(90)"
   ]
  },
  {
   "cell_type": "code",
   "execution_count": 11,
   "metadata": {},
   "outputs": [
    {
     "name": "stdout",
     "output_type": "stream",
     "text": [
      "[ Col-Vec A ]:\n",
      "[[0]\n",
      " [1]\n",
      " [2]\n",
      " [3]\n",
      " [4]]\n",
      "\n",
      "[ Col-Vec-B ]:\n",
      "[[1.]\n",
      " [1.]\n",
      " [1.]\n",
      " [1.]\n",
      " [1.]]\n"
     ]
    }
   ],
   "source": [
    "A = np.arange(5).reshape((5, 1))\n",
    "B = np.ones(5).reshape((5,1))\n",
    "print('[ Col-Vec A ]:\\n{0}\\n\\n[ Col-Vec-B ]:\\n{1}'.format(A, B))"
   ]
  },
  {
   "cell_type": "code",
   "execution_count": 12,
   "metadata": {},
   "outputs": [
    {
     "data": {
      "text/plain": [
       "array([[0., 0., 0., 0., 0.],\n",
       "       [1., 1., 1., 1., 1.],\n",
       "       [2., 2., 2., 2., 2.],\n",
       "       [3., 3., 3., 3., 3.],\n",
       "       [4., 4., 4., 4., 4.]])"
      ]
     },
     "execution_count": 12,
     "metadata": {},
     "output_type": "execute_result"
    }
   ],
   "source": [
    "np.dot(A, B.T)"
   ]
  },
  {
   "cell_type": "code",
   "execution_count": null,
   "metadata": {},
   "outputs": [],
   "source": []
  },
  {
   "cell_type": "code",
   "execution_count": 8,
   "metadata": {},
   "outputs": [],
   "source": [
    "a = np.ones(10)\n",
    "b = a.reshape((2, 5))"
   ]
  },
  {
   "cell_type": "code",
   "execution_count": 9,
   "metadata": {},
   "outputs": [
    {
     "data": {
      "text/plain": [
       "array([[  1., 100.,   1.,   1.,   1.],\n",
       "       [  1.,   1.,   1.,   1.,   1.]])"
      ]
     },
     "execution_count": 9,
     "metadata": {},
     "output_type": "execute_result"
    }
   ],
   "source": [
    "a[1] = 100\n",
    "b"
   ]
  },
  {
   "cell_type": "code",
   "execution_count": null,
   "metadata": {},
   "outputs": [],
   "source": []
  },
  {
   "cell_type": "code",
   "execution_count": 10,
   "metadata": {},
   "outputs": [
    {
     "data": {
      "text/plain": [
       "(1, 4, 3)"
      ]
     },
     "execution_count": 10,
     "metadata": {},
     "output_type": "execute_result"
    }
   ],
   "source": [
    "image = np.array([[[1,2,3], [4,5,6], [7,8,9], [1,1,1]]])\n",
    "image.shape"
   ]
  },
  {
   "cell_type": "code",
   "execution_count": 11,
   "metadata": {},
   "outputs": [
    {
     "data": {
      "text/plain": [
       "array([[1, 2, 3, 4, 5, 6],\n",
       "       [7, 8, 9, 1, 1, 1]])"
      ]
     },
     "execution_count": 11,
     "metadata": {},
     "output_type": "execute_result"
    }
   ],
   "source": [
    "image.reshape((-1, 6))"
   ]
  },
  {
   "cell_type": "code",
   "execution_count": 12,
   "metadata": {},
   "outputs": [
    {
     "data": {
      "text/plain": [
       "array([[1, 2],\n",
       "       [3, 4],\n",
       "       [5, 6]])"
      ]
     },
     "execution_count": 12,
     "metadata": {},
     "output_type": "execute_result"
    }
   ],
   "source": [
    "a = np.array([[1,2,3], [4,5,6]])\n",
    "np.reshape(a, (3,-1))"
   ]
  },
  {
   "cell_type": "code",
   "execution_count": 15,
   "metadata": {},
   "outputs": [
    {
     "data": {
      "text/plain": [
       "array([[ 0,  1,  2,  3],\n",
       "       [ 4,  5,  6,  7],\n",
       "       [ 8,  9, 10, 11],\n",
       "       [12, 13, 14, 15]])"
      ]
     },
     "execution_count": 15,
     "metadata": {},
     "output_type": "execute_result"
    }
   ],
   "source": [
    "m = np.arange(16).reshape((-1, 4))\n",
    "m"
   ]
  },
  {
   "cell_type": "code",
   "execution_count": 16,
   "metadata": {},
   "outputs": [
    {
     "data": {
      "text/plain": [
       "array([4, 5, 6, 7])"
      ]
     },
     "execution_count": 16,
     "metadata": {},
     "output_type": "execute_result"
    }
   ],
   "source": [
    "m[1]"
   ]
  },
  {
   "cell_type": "code",
   "execution_count": 17,
   "metadata": {},
   "outputs": [
    {
     "data": {
      "text/plain": [
       "array([ 1,  5,  9, 13])"
      ]
     },
     "execution_count": 17,
     "metadata": {},
     "output_type": "execute_result"
    }
   ],
   "source": [
    "m[:, 1]"
   ]
  },
  {
   "cell_type": "code",
   "execution_count": null,
   "metadata": {},
   "outputs": [],
   "source": []
  }
 ],
 "metadata": {
  "kernelspec": {
   "display_name": "Python 3",
   "language": "python",
   "name": "python3"
  },
  "language_info": {
   "codemirror_mode": {
    "name": "ipython",
    "version": 3
   },
   "file_extension": ".py",
   "mimetype": "text/x-python",
   "name": "python",
   "nbconvert_exporter": "python",
   "pygments_lexer": "ipython3",
   "version": "3.6.4"
  }
 },
 "nbformat": 4,
 "nbformat_minor": 2
}
