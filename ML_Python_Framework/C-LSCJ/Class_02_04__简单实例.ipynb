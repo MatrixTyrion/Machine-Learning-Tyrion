{
 "cells": [
  {
   "cell_type": "code",
   "execution_count": 1,
   "metadata": {},
   "outputs": [],
   "source": [
    "import tensorflow as tf\n",
    "import numpy as np"
   ]
  },
  {
   "cell_type": "code",
   "execution_count": 2,
   "metadata": {},
   "outputs": [],
   "source": [
    "# 使用 numpy 生成 100 个随机点\n",
    "x_data = np.random.rand(100)\n",
    "y_data = x_data * 0.1 + 0.2"
   ]
  },
  {
   "cell_type": "code",
   "execution_count": 3,
   "metadata": {},
   "outputs": [],
   "source": [
    "# 构造一个线性模型\n",
    "b = tf.Variable(0.) # 表示要使用小数\n",
    "k = tf.Variable(0.)\n",
    "y = k * x_data + b"
   ]
  },
  {
   "cell_type": "code",
   "execution_count": 4,
   "metadata": {},
   "outputs": [],
   "source": [
    "# 定义 <二次> 代价函数\n",
    "loss = tf.reduce_mean(tf.square(y_data - y))"
   ]
  },
  {
   "cell_type": "code",
   "execution_count": 5,
   "metadata": {},
   "outputs": [],
   "source": [
    "# 定义一个梯度下降法来进行训练的优化器\n",
    "lr = tf.Variable(0.2)\n",
    "optimizer = tf.train.GradientDescentOptimizer(lr)"
   ]
  },
  {
   "cell_type": "code",
   "execution_count": 6,
   "metadata": {},
   "outputs": [],
   "source": [
    "# 定义一个最小化代价函数\n",
    "train = optimizer.minimize(loss)"
   ]
  },
  {
   "cell_type": "code",
   "execution_count": 7,
   "metadata": {},
   "outputs": [],
   "source": [
    "init = tf.global_variables_initializer()"
   ]
  },
  {
   "cell_type": "code",
   "execution_count": 8,
   "metadata": {},
   "outputs": [
    {
     "name": "stdout",
     "output_type": "stream",
     "text": [
      "0 [0.054149684, 0.10038262, 0.015281928]\n",
      "20 [0.103883386, 0.19789757, 1.1456327e-06]\n",
      "40 [0.1024136, 0.19869335, 4.4253423e-07]\n",
      "60 [0.10150009, 0.1991879, 1.7094166e-07]\n",
      "80 [0.100932315, 0.19949527, 6.603024e-08]\n",
      "100 [0.100579455, 0.1996863, 2.5506386e-08]\n",
      "120 [0.10036014, 0.19980504, 9.852624e-09]\n",
      "140 [0.10022385, 0.19987883, 3.8061527e-09]\n",
      "160 [0.10013912, 0.19992469, 1.4701067e-09]\n",
      "180 [0.10008646, 0.1999532, 5.6772054e-10]\n"
     ]
    }
   ],
   "source": [
    "with tf.Session() as sess:\n",
    "    sess.run(init)\n",
    "    for step in range(200):\n",
    "        sess.run(train)\n",
    "        if step % 20 == 0:\n",
    "            print(step, sess.run([k, b, loss]))"
   ]
  },
  {
   "cell_type": "code",
   "execution_count": null,
   "metadata": {},
   "outputs": [],
   "source": []
  }
 ],
 "metadata": {
  "kernelspec": {
   "display_name": "Python 3",
   "language": "python",
   "name": "python3"
  },
  "language_info": {
   "codemirror_mode": {
    "name": "ipython",
    "version": 3
   },
   "file_extension": ".py",
   "mimetype": "text/x-python",
   "name": "python",
   "nbconvert_exporter": "python",
   "pygments_lexer": "ipython3",
   "version": "3.6.6"
  },
  "toc": {
   "base_numbering": 1,
   "nav_menu": {},
   "number_sections": true,
   "sideBar": true,
   "skip_h1_title": false,
   "title_cell": "Table of Contents",
   "title_sidebar": "Contents",
   "toc_cell": false,
   "toc_position": {},
   "toc_section_display": true,
   "toc_window_display": false
  }
 },
 "nbformat": 4,
 "nbformat_minor": 2
}
