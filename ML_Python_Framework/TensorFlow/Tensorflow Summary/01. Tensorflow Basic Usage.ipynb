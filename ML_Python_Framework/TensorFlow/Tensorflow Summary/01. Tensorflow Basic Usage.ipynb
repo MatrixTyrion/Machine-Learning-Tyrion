{
 "cells": [
  {
   "cell_type": "code",
   "execution_count": 1,
   "metadata": {},
   "outputs": [],
   "source": [
    "import tensorflow as tf\n",
    "import numpy as np"
   ]
  },
  {
   "cell_type": "markdown",
   "metadata": {},
   "source": [
    "# Constant & Variable"
   ]
  },
  {
   "cell_type": "markdown",
   "metadata": {},
   "source": [
    "**`tf.constant`**(value, dtype=None, shape=None, name='Const', verify_shape=False)\n",
    "+ tf.constant_initializer"
   ]
  },
  {
   "cell_type": "code",
   "execution_count": 2,
   "metadata": {},
   "outputs": [
    {
     "name": "stdout",
     "output_type": "stream",
     "text": [
      "[1 2 3 4]\n"
     ]
    }
   ],
   "source": [
    "cost = tf.constant([1,2,3,4])\n",
    "with tf.Session() as sess:\n",
    "    print(sess.run(cost))"
   ]
  },
  {
   "cell_type": "code",
   "execution_count": 3,
   "metadata": {},
   "outputs": [
    {
     "name": "stdout",
     "output_type": "stream",
     "text": [
      "[[0. 0. 0. 0. 0. 0. 0. 0.]]\n"
     ]
    }
   ],
   "source": [
    "bias = tf.constant(0.0, dtype=tf.float32, shape=[1,8])\n",
    "with tf.Session() as sess:\n",
    "    tf.global_variables_initializer().run()\n",
    "    print(sess.run(bias))"
   ]
  },
  {
   "cell_type": "markdown",
   "metadata": {},
   "source": [
    "----------------------------------"
   ]
  },
  {
   "cell_type": "markdown",
   "metadata": {},
   "source": [
    "**`tf.Variable`**(initial_value, trainable, collections, validate_shape, name, dtype)\n",
    "+ initial_value : A `Tensor`, or Python object convertible to a `Tensor`, which is the initial value for the Variable.\n",
    "+ trainable: \n",
    "    + If `True`, the default, also adds the variable to the graph collection `GraphKeys.TRAINABLE_VARIABLES`. \n",
    "    + This collection is used as the default list of variables to use by the `Optimizer` classes.\n",
    "+ collections: \n",
    "    + List of graph collections keys. \n",
    "    + The new variable is added to these collections. Defaults to `[GraphKeys.GLOBAL_VARIABLES]`.\n",
    "+ validate_shape: \n",
    "    + If `False`, allows the variable to be initialized with a value of unknown shape.\n",
    "    + If `True`, the default, the shape of `initial_value` must be known."
   ]
  },
  {
   "cell_type": "code",
   "execution_count": 4,
   "metadata": {},
   "outputs": [
    {
     "name": "stdout",
     "output_type": "stream",
     "text": [
      "[[0. 0. 0. 0.]\n",
      " [0. 0. 0. 0.]\n",
      " [0. 0. 0. 0.]]\n"
     ]
    }
   ],
   "source": [
    "zeros = tf.zeros([3,4])\n",
    "var = tf.Variable(zeros)\n",
    "with tf.Session() as sess:\n",
    "    tf.global_variables_initializer().run()\n",
    "    print(sess.run(var))"
   ]
  },
  {
   "cell_type": "code",
   "execution_count": 5,
   "metadata": {},
   "outputs": [
    {
     "name": "stdout",
     "output_type": "stream",
     "text": [
      "[[-0.3574394  -3.3459775   0.75897485]\n",
      " [ 2.2388954  -1.5581603  -0.53937155]]\n"
     ]
    }
   ],
   "source": [
    "weights = tf.Variable(tf.random_normal([2,3], stddev=2))\n",
    "\n",
    "with tf.Session() as sess:\n",
    "    tf.global_variables_initializer().run()\n",
    "    print(sess.run(weights))"
   ]
  },
  {
   "cell_type": "code",
   "execution_count": null,
   "metadata": {},
   "outputs": [],
   "source": []
  },
  {
   "cell_type": "markdown",
   "metadata": {},
   "source": [
    "# Variable & Placeholder & Fetch"
   ]
  },
  {
   "cell_type": "markdown",
   "metadata": {},
   "source": [
    "**`Fetch`**\n",
    "+ 在一个绘画中可以`同时执行多个op`"
   ]
  },
  {
   "cell_type": "code",
   "execution_count": 6,
   "metadata": {},
   "outputs": [
    {
     "name": "stdout",
     "output_type": "stream",
     "text": [
      "[mul, add] : [21.0, 7.0]\n"
     ]
    }
   ],
   "source": [
    "input1 = tf.constant(3.0)\n",
    "input2 = tf.constant(2.0)\n",
    "input3 = tf.constant(5.0)\n",
    "\n",
    "add = tf.add(input2, input3)\n",
    "mul = tf.multiply(input1, add)\n",
    "\n",
    "with tf.Session() as sess:\n",
    "    result = sess.run([mul, add])  # <<<　Fetch\n",
    "    print(\"[mul, add] :\", result)"
   ]
  },
  {
   "cell_type": "markdown",
   "metadata": {},
   "source": [
    "----------------------------------"
   ]
  },
  {
   "cell_type": "markdown",
   "metadata": {},
   "source": [
    "**`Feed`**\n",
    "+ **在运行时, 才传入相应的值**\n",
    "+ 占位符 : tf.placeholder(tf.float32)\n",
    "+ feed_dict = {.. value ..}"
   ]
  },
  {
   "cell_type": "code",
   "execution_count": 7,
   "metadata": {},
   "outputs": [
    {
     "name": "stdout",
     "output_type": "stream",
     "text": [
      "[14.]\n"
     ]
    }
   ],
   "source": [
    "input1 = tf.placeholder(tf.float32)  # 创建 float32 类型的占位符\n",
    "input2 = tf.placeholder(tf.float32)\n",
    "\n",
    "output = tf.multiply(input1, input2)\n",
    "\n",
    "with tf.Session() as sess:\n",
    "    res = sess.run(output, feed_dict={\n",
    "        input1:[7.0],\n",
    "        input2:[2.]\n",
    "    })\n",
    "    print(res)"
   ]
  },
  {
   "cell_type": "code",
   "execution_count": 8,
   "metadata": {},
   "outputs": [
    {
     "name": "stdout",
     "output_type": "stream",
     "text": [
      "[[1.898734  1.0420545 1.5595341]]\n"
     ]
    }
   ],
   "source": [
    "w1 = tf.Variable(tf.random_normal([3,2], stddev=1))\n",
    "w2 = tf.Variable(tf.random_normal([1,3], stddev=1))\n",
    "\n",
    "x = tf.placeholder(tf.float32, shape=(2,3), name=\"input\")\n",
    "a = tf.matmul(w1, x)\n",
    "y = tf.matmul(w2, a)\n",
    "\n",
    "with tf.Session() as sess:\n",
    "    tf.global_variables_initializer().run()\n",
    "    res = sess.run(y, feed_dict={\n",
    "        x : [[0.7,0.5,0.5],[0.9,0.4,0.8]]\n",
    "    })\n",
    "    print(res)"
   ]
  },
  {
   "cell_type": "code",
   "execution_count": null,
   "metadata": {},
   "outputs": [],
   "source": []
  },
  {
   "cell_type": "markdown",
   "metadata": {},
   "source": [
    "# get_variable & variable_scope(\"\", reuse= )"
   ]
  },
  {
   "cell_type": "markdown",
   "metadata": {},
   "source": [
    "**`tf.get_variable`**(name, shape=None, dtype=None, initializer=None, regularizer=None, trainable=None, collections=None)\n",
    "+ 初始化更方便\n",
    "```\n",
    "W = tf.get_variable(\"W\", shape=[784, 256], initializer=tf.contrib.layers.xavier_initializer())\n",
    "```"
   ]
  },
  {
   "cell_type": "markdown",
   "metadata": {},
   "source": [
    "**`tf.variable_scope`**(name_or_scope, reuse=None)"
   ]
  },
  {
   "cell_type": "markdown",
   "metadata": {},
   "source": [
    "+ 当神经网络的结构更加复杂, 参数更多时, 就需要一个更好的方式来传递和管理神经网络中的参数\n",
    "+ Tensorflow 提供了`通过变量名称`来创建或者获取一个变量的机制\n",
    "+ 通过这个机制, 在不同的函数中可以直接通过变量的名字来使用变量, 而不需要将变量通过参数的形式到处传递"
   ]
  },
  {
   "cell_type": "markdown",
   "metadata": {},
   "source": [
    "+ tf.get_variable() 用于创建变量时, 它和 tf.Variable() 的功能是基本等价的\n",
    "    + 对于 tf.Variable 函数, 变量名称是一个可选的参数\n",
    "    + 对于 tf.get_variable 函数, 变量名称是一个必选参数\n",
    "```\n",
    "    v = tf.get_variable(\"var_00\", shape=[1], initializer=tf.constant_initializer(1.0))\n",
    "    v = tf.Variable(tf.constant(1.0, shape=[1]), name='var_00')\n",
    "```"
   ]
  },
  {
   "cell_type": "markdown",
   "metadata": {},
   "source": [
    "----"
   ]
  },
  {
   "cell_type": "markdown",
   "metadata": {},
   "source": [
    "**`tf.get_variable 工作机制`**"
   ]
  },
  {
   "cell_type": "markdown",
   "metadata": {},
   "source": [
    "+ 当 `tf.get_variable_scope().reuse == False`，调用该函数会创建新的变量\n",
    "```\n",
    "      with tf.variable_scope(\"foo\"):\n",
    "          v = tf.get_variable(\"v\", [1])\n",
    "      assert v.name == \"foo/v:0\"\n",
    "```\n",
    "    　　\n",
    "\n",
    "+ 当 `tf.get_variable_scope().reuse == True`，调用该函数会重用已经创建的变量\n",
    "```\n",
    "      with tf.variable_scope(\"foo\"):\n",
    "          v = tf.get_variable(\"v\", [1])\n",
    "      with tf.variable_scope(\"foo\", reuse=True):\n",
    "          v1 = tf.get_variable(\"v\", [1])\n",
    "      assert v1 is v\n",
    "```"
   ]
  },
  {
   "cell_type": "markdown",
   "metadata": {},
   "source": [
    "----"
   ]
  },
  {
   "cell_type": "markdown",
   "metadata": {},
   "source": [
    "**`tf.variable_scope 工作机制`**"
   ]
  },
  {
   "cell_type": "markdown",
   "metadata": {},
   "source": [
    "+ `tf.variable_scope()`用来指定变量的作用域，作为变量名的前缀，支持嵌套\n",
    "```\n",
    "    with tf.variable_scope(\"foo\"):\n",
    "        with tf.variable_scope(\"bar\"):\n",
    "            v = tf.get_variable(\"v\", [1])\n",
    "    assert v.name == \"foo/bar/v:0\"\n",
    "```\n",
    "\n",
    "+ 当前环境的作用域可以通过函数 `tf.get_variable_scope()` 获取\n",
    "+ 并且 **`reuse flag`** 可以通过调用 `reuse_variables()` 设置为True\n",
    "```\n",
    "    with tf.variable_scope(\"foo\"):\n",
    "        v = tf.get_variable(\"v\", [1])\n",
    "        tf.get_variable_scope().reuse_variables()\n",
    "        v1 = tf.get_variable(\"v\", [1])\n",
    "    assert v1 is v\n",
    "```"
   ]
  },
  {
   "cell_type": "markdown",
   "metadata": {},
   "source": [
    "----"
   ]
  },
  {
   "cell_type": "markdown",
   "metadata": {},
   "source": [
    "**`Sharing variables`**\n",
    "+ 使用`tf.variable_scope()`来生成一个上下文管理器, 在这个上下文管理器中, 通过`tf.get_variable()`来`创建/获取`变量\n",
    "+ **`tf.variable_scope(., reuse=True)`** & **`tf.get_variable()`** 获取\n",
    "    + 获取 : 如果变量不存在, 则tf.get_variable()将报错\n",
    "    + 创建 : 如果同名的变量已经存在, 则tf.get_variable()函数将报错"
   ]
  },
  {
   "cell_type": "markdown",
   "metadata": {},
   "source": [
    "**`reuse = tf.AUTO_REUSE`**\n",
    "+ 自动复用\n",
    "+ 如果变量存在则复用，不存在则创建\n",
    "+ 避免了代码的繁琐"
   ]
  },
  {
   "cell_type": "code",
   "execution_count": 9,
   "metadata": {},
   "outputs": [
    {
     "name": "stdout",
     "output_type": "stream",
     "text": [
      "foo/v:0\n",
      "foo/v:0\n"
     ]
    }
   ],
   "source": [
    "def foo():\n",
    "    with tf.variable_scope(\"foo\", reuse=tf.AUTO_REUSE):\n",
    "        v = tf.get_variable(\"v\", [1], initializer=tf.ones_initializer)\n",
    "    return v\n",
    "\n",
    "v1 = foo()  # Creates v.\n",
    "v2 = foo()  # Gets the same, existing v.\n",
    "\n",
    "print(v1.name)\n",
    "print(v2.name)\n",
    "assert v1 == v2"
   ]
  },
  {
   "cell_type": "markdown",
   "metadata": {},
   "source": [
    "**`Example - 00`**"
   ]
  },
  {
   "cell_type": "code",
   "execution_count": 10,
   "metadata": {},
   "outputs": [
    {
     "name": "stdout",
     "output_type": "stream",
     "text": [
      "Tyrion/var_01:0\n",
      "[0.]\n"
     ]
    }
   ],
   "source": [
    "with tf.Session() as sess:\n",
    "    with tf.variable_scope(\"Tyrion\"):\n",
    "        var = tf.get_variable('var_01', [1], initializer=tf.zeros_initializer)\n",
    "        print(var.name)\n",
    "\n",
    "    with tf.variable_scope(\"Tyrion\", reuse=True):\n",
    "        get_var = tf.get_variable(\"var_01\")\n",
    "        tf.global_variables_initializer().run()\n",
    "        print(sess.run(get_var))"
   ]
  },
  {
   "cell_type": "markdown",
   "metadata": {},
   "source": [
    "**`Example - 01`**"
   ]
  },
  {
   "cell_type": "code",
   "execution_count": 11,
   "metadata": {},
   "outputs": [],
   "source": [
    "with tf.variable_scope(\"foo\"):\n",
    "    with tf.variable_scope(\"bar\"):\n",
    "        v = tf.get_variable(\"var_02\", [1])\n",
    "        assert v.name == \"foo/bar/var_02:0\""
   ]
  },
  {
   "cell_type": "markdown",
   "metadata": {},
   "source": [
    "**`Example - 02`**"
   ]
  },
  {
   "cell_type": "code",
   "execution_count": 12,
   "metadata": {},
   "outputs": [],
   "source": [
    "def conv_relu(input, kernel_shape, bias_shape):\n",
    "    weights = tf.get_variable(\"weights\", kernel_shape, initializer=tf.random_normal_initializer())\n",
    "    biases = tf.get_variable(\"biases\", bias_shape, initializer=tf.constant_initializer(0.0))\n",
    "    conv = tf.nn.conv2d(input, weights, strides=[1, 1, 1, 1], padding='SAME')\n",
    "    return tf.nn.relu(conv + biases)"
   ]
  },
  {
   "cell_type": "code",
   "execution_count": 13,
   "metadata": {},
   "outputs": [],
   "source": [
    "# 需要两个卷积层，可以通过 tf.variable_scope() 指定作用域进行区分\n",
    "# 如 with tf.variable_scope(\"conv1\") 指定了第一个卷积层作用域为conv1\n",
    "# 在这个作用域下有两个变量 weights 和 biases\n",
    "\n",
    "def my_image_filter(input_images):\n",
    "    with tf.variable_scope(\"conv1\"):\n",
    "        # Variables created here will be named \"conv1/weights\", \"conv1/biases\".\n",
    "        relu1 = conv_relu(input_images, [5, 5, 32, 32], [32])\n",
    "    with tf.variable_scope(\"conv2\"):\n",
    "        # Variables created here will be named \"conv2/weights\", \"conv2/biases\".\n",
    "        return conv_relu(relu1, [5, 5, 32, 32], [32])"
   ]
  },
  {
   "cell_type": "markdown",
   "metadata": {},
   "source": [
    "+ 在 image_filters 这个作用域, 重复使用第一张图片输入时创建的变量，调用函数reuse_variables()\n",
    "```\n",
    "with tf.variable_scope(\"image_filters\") as scope:\n",
    "    result1 = my_image_filter(image1)\n",
    "    scope.reuse_variables()\n",
    "    result2 = my_image_filter(image2)\n",
    "```"
   ]
  },
  {
   "cell_type": "markdown",
   "metadata": {},
   "source": [
    "**`Example - 03`**"
   ]
  },
  {
   "cell_type": "code",
   "execution_count": 14,
   "metadata": {},
   "outputs": [],
   "source": [
    "def func(in_put, in_channel, out_channel):\n",
    "    with tf.variable_scope(name_or_scope='', reuse=tf.AUTO_REUSE): ### 改动部分 ###\n",
    "        weights = tf.get_variable(name=\"weights\", shape=[2, 2, in_channel, out_channel], \n",
    "                                  initializer=tf.contrib.layers.xavier_initializer_conv2d())\n",
    "        convolution = tf.nn.conv2d(input=in_put, filter=weights, strides=[1, 1, 1, 1], padding=\"SAME\")\n",
    "        return convolution\n",
    "\n",
    "def main():\n",
    "    with tf.Graph().as_default():\n",
    "        input_x = tf.placeholder(dtype=tf.float32, shape=[1, 4, 4, 1])\n",
    "        for _ in range(5):    # 重复调用\n",
    "            output = func(input_x, 1, 1)\n",
    "            with tf.Session() as sess:\n",
    "                sess.run(tf.global_variables_initializer())\n",
    "                _output = sess.run([output], feed_dict={\n",
    "                    input_x : np.random.uniform(low=0, high=255, size=[1, 4, 4, 1])\n",
    "                })\n",
    "                # print(_output)\n",
    "\n",
    "if __name__ == \"__main__\":\n",
    "    main()"
   ]
  },
  {
   "cell_type": "markdown",
   "metadata": {},
   "source": [
    "--------------------------------------------------------"
   ]
  },
  {
   "cell_type": "markdown",
   "metadata": {},
   "source": [
    "# generator"
   ]
  },
  {
   "cell_type": "markdown",
   "metadata": {},
   "source": [
    "+ **`Use already have value`**\n",
    "+ **`Fix Value`**\n",
    "+ **`Sequence`**\n",
    "+ **`Random Value`**\n",
    "+ **`initializer`**"
   ]
  },
  {
   "cell_type": "markdown",
   "metadata": {},
   "source": [
    "**`Tensor.initialized_value()`**"
   ]
  },
  {
   "cell_type": "code",
   "execution_count": 15,
   "metadata": {},
   "outputs": [
    {
     "name": "stdout",
     "output_type": "stream",
     "text": [
      "[[-1.1493891   0.60526866 -2.0620763 ]\n",
      " [-3.920175   -0.45096406 -3.321645  ]]\n",
      "\n",
      "[[-2.2987783  1.2105373 -4.1241527]\n",
      " [-7.84035   -0.9019281 -6.64329  ]]\n"
     ]
    }
   ],
   "source": [
    "weights = tf.Variable(tf.random_normal([2,3], stddev=2))\n",
    "\n",
    "weights_ = tf.Variable(weights.initialized_value() * 2.0)\n",
    "\n",
    "with tf.Session() as sess:\n",
    "    tf.global_variables_initializer().run()\n",
    "    print(sess.run(weights))\n",
    "    print()\n",
    "    print(sess.run(weights_))"
   ]
  },
  {
   "cell_type": "markdown",
   "metadata": {},
   "source": [
    "**`Fix Value`**\n",
    "+ tf.`fill`(dims, value, name=None)\n",
    "+ tf.`zeros`(shape, dtype=tf.float32, name=None) / tf.`ones`( )\n",
    "+ tf.`zeros_like`(tensor, dtype=None, name=None, optimize=True) / tf.`ones_like`( )"
   ]
  },
  {
   "cell_type": "code",
   "execution_count": 16,
   "metadata": {},
   "outputs": [
    {
     "name": "stdout",
     "output_type": "stream",
     "text": [
      "[[1 1 1 1]\n",
      " [1 1 1 1]\n",
      " [1 1 1 1]]\n"
     ]
    }
   ],
   "source": [
    "f_one = tf.fill([3,4], 1)\n",
    "\n",
    "with tf.Session() as sess:\n",
    "    print(sess.run(f_one))"
   ]
  },
  {
   "cell_type": "code",
   "execution_count": 17,
   "metadata": {},
   "outputs": [
    {
     "name": "stdout",
     "output_type": "stream",
     "text": [
      "[[0. 0. 0. 0.]\n",
      " [0. 0. 0. 0.]\n",
      " [0. 0. 0. 0.]]\n",
      "[[0. 0. 0. 0.]\n",
      " [0. 0. 0. 0.]\n",
      " [0. 0. 0. 0.]\n",
      " [0. 0. 0. 0.]]\n",
      "\n",
      "(3, 4)\n",
      "(4, 4)\n"
     ]
    }
   ],
   "source": [
    "ones = tf.ones([4,4])\n",
    "zeros = tf.zeros([3,4])\n",
    "zeros_l = tf.zeros_like(ones)\n",
    "\n",
    "with tf.Session() as sess:\n",
    "    tf.global_variables_initializer().run()\n",
    "    print(sess.run(zeros))\n",
    "    print(sess.run(zeros_l))\n",
    "    print()\n",
    "    print(zeros.get_shape())\n",
    "    print(zeros_l.get_shape())"
   ]
  },
  {
   "cell_type": "markdown",
   "metadata": {},
   "source": [
    "**`Sequence`**"
   ]
  },
  {
   "cell_type": "markdown",
   "metadata": {},
   "source": [
    "+ **`tf.linspace(start, stop, num, name=None)`**\n",
    "    + 在 [start,stop] 范围内产生 num 个数的等差数列\n",
    "    + start & stop 要用浮点数表示\n",
    "    \n",
    "+ **`tf.range(start, limit=None, delta=1, dtype=None, name='range')`**\n",
    "    + 在 [start,limit) 范围内以步进值 delta 产生等差数列"
   ]
  },
  {
   "cell_type": "code",
   "execution_count": 18,
   "metadata": {},
   "outputs": [
    {
     "name": "stdout",
     "output_type": "stream",
     "text": [
      "[1. 2. 3. 4. 5.]\n",
      "[1 2 3 4]\n"
     ]
    }
   ],
   "source": [
    "x = tf.linspace(start=1.0, stop=5.0, num=5, name=None)\n",
    "y = tf.range(start=1,limit=5, delta=1)\n",
    "with tf.Session() as sess:\n",
    "    print(sess.run(x))\n",
    "    print(sess.run(y))"
   ]
  },
  {
   "cell_type": "markdown",
   "metadata": {},
   "source": [
    "**`Random Value`**"
   ]
  },
  {
   "cell_type": "markdown",
   "metadata": {},
   "source": [
    "+ **`tf.random_normal(shape, mean=0.0, stddev=1.0, dtype=tf.float32, seed=None, name=None)`**\n",
    "    + Outputs random values from a normal distribution.\n",
    "    + 正态分布"
   ]
  },
  {
   "cell_type": "markdown",
   "metadata": {},
   "source": [
    "+ **`tf.truncated_normal(shape, mean=0.0, stddev=1.0, dtype=tf.float32, seed=None, name=None)`**\n",
    "    + Outputs random values from a truncated normal distribution.\n",
    "    + 截断正态分布，只保留 [mean-2*stddev, mean+2*stddev] 内的随机数"
   ]
  },
  {
   "cell_type": "markdown",
   "metadata": {},
   "source": [
    "+ **`tf.random_uniform(shape, minval=0, maxval=None, dtype=tf.float32, seed=None, name=None)`**\n",
    "    + Outputs random values from a uniform distribution.\n",
    "    + 均匀分布 : [minval, maxval)"
   ]
  },
  {
   "cell_type": "markdown",
   "metadata": {},
   "source": [
    "**`initializer`**"
   ]
  },
  {
   "cell_type": "markdown",
   "metadata": {},
   "source": [
    "+ tf.ones_initializer(dtype=tf.float32)\n",
    "+ tf.zeros_initializer(dtype=tf.float32)\n",
    "+ tf.constant_initializer(value=0, dtype=tf.float32, verify_shape=False)\n",
    "+ tf.random_uniform_initializer(minval=0, maxval=None, seed=None, dtype=tf.float32)\n",
    "+ tf.random_normal_initializer(mean=0.0, stddev=1.0, seed=None, dtype=tf.float32)\n",
    "+ tf.truncated_normal_initializer(mean=0.0, stddev=1.0, seed=None, dtype=tf.float32)"
   ]
  },
  {
   "cell_type": "markdown",
   "metadata": {},
   "source": [
    "# Graph & Session"
   ]
  },
  {
   "cell_type": "code",
   "execution_count": null,
   "metadata": {},
   "outputs": [],
   "source": []
  },
  {
   "cell_type": "code",
   "execution_count": 19,
   "metadata": {},
   "outputs": [],
   "source": [
    "sess = tf.Session()\n",
    "# ...\n",
    "sess.close()"
   ]
  },
  {
   "cell_type": "code",
   "execution_count": 20,
   "metadata": {},
   "outputs": [],
   "source": [
    "with tf.Session() as sess:\n",
    "    pass"
   ]
  },
  {
   "cell_type": "code",
   "execution_count": 21,
   "metadata": {},
   "outputs": [
    {
     "ename": "SyntaxError",
     "evalue": "invalid syntax (<ipython-input-21-add701d4640e>, line 1)",
     "output_type": "error",
     "traceback": [
      "\u001b[0;36m  File \u001b[0;32m\"<ipython-input-21-add701d4640e>\"\u001b[0;36m, line \u001b[0;32m1\u001b[0m\n\u001b[0;31m    + **Operation 需要在 Graph 中执行**\u001b[0m\n\u001b[0m       ^\u001b[0m\n\u001b[0;31mSyntaxError\u001b[0m\u001b[0;31m:\u001b[0m invalid syntax\n"
     ]
    }
   ],
   "source": [
    "+ **Operation 需要在 Graph 中执行**\n",
    "+ **Graph 需要在 Session 中执行**"
   ]
  },
  {
   "cell_type": "code",
   "execution_count": null,
   "metadata": {},
   "outputs": [],
   "source": []
  },
  {
   "cell_type": "code",
   "execution_count": null,
   "metadata": {},
   "outputs": [],
   "source": [
    "g1 = tf.Graph()\n",
    "with g1.as_default():\n",
    "    v = tf.get_variable('v', initializer=tf.zeros(shape=[1]))\n",
    "\n",
    "g2 = tf.Graph()\n",
    "with g2.as_default():\n",
    "    v = tf.get_variable('v', initializer=tf.ones(shape=[1]))"
   ]
  },
  {
   "cell_type": "code",
   "execution_count": null,
   "metadata": {},
   "outputs": [],
   "source": [
    "with tf.Session(graph=g1) as sess:\n",
    "    tf.global_variables_initializer().run()\n",
    "    with tf.variable_scope(\"\", reuse=True):\n",
    "        print(sess.run(tf.get_variable('v')), \"in Graph-01\")\n",
    "\n",
    "with tf.Session(graph=g2) as sess:\n",
    "    tf.global_variables_initializer().run()\n",
    "    with tf.variable_scope(\"\", reuse=True):\n",
    "        print(sess.run(tf.get_variable('v')), \"in Graph-02\")"
   ]
  },
  {
   "cell_type": "code",
   "execution_count": null,
   "metadata": {},
   "outputs": [],
   "source": [
    "g = tf.Graph()\n",
    "with g.as_default():\n",
    "    zero = tf.Variable(initial_value=tf.zeros(shape=[1]), name='Var')\n",
    "    one = tf.Variable(initial_value=tf.ones(shape=[1,2,3]), name='Var1')\n",
    "    \n",
    "with tf.Session(graph=g) as sess:\n",
    "    init = tf.global_variables_initializer()\n",
    "    sess.run(init)\n",
    "    print(sess.run(zero))\n",
    "    print(sess.run(one))"
   ]
  },
  {
   "cell_type": "code",
   "execution_count": null,
   "metadata": {},
   "outputs": [],
   "source": []
  },
  {
   "cell_type": "code",
   "execution_count": null,
   "metadata": {},
   "outputs": [],
   "source": []
  },
  {
   "cell_type": "code",
   "execution_count": null,
   "metadata": {},
   "outputs": [],
   "source": [
    "# graph"
   ]
  },
  {
   "cell_type": "code",
   "execution_count": null,
   "metadata": {},
   "outputs": [],
   "source": [
    "**`tf.get_default_graph() : 获取当前默认计算图`**"
   ]
  },
  {
   "cell_type": "code",
   "execution_count": null,
   "metadata": {},
   "outputs": [],
   "source": [
    "a = tf.constant(1)"
   ]
  },
  {
   "cell_type": "code",
   "execution_count": null,
   "metadata": {},
   "outputs": [],
   "source": [
    "a.graph is tf.get_default_graph()"
   ]
  },
  {
   "cell_type": "code",
   "execution_count": null,
   "metadata": {},
   "outputs": [],
   "source": []
  },
  {
   "cell_type": "code",
   "execution_count": null,
   "metadata": {},
   "outputs": [],
   "source": []
  },
  {
   "cell_type": "code",
   "execution_count": null,
   "metadata": {},
   "outputs": [],
   "source": []
  },
  {
   "cell_type": "code",
   "execution_count": null,
   "metadata": {},
   "outputs": [],
   "source": []
  },
  {
   "cell_type": "code",
   "execution_count": null,
   "metadata": {},
   "outputs": [],
   "source": [
    "# Session"
   ]
  },
  {
   "cell_type": "code",
   "execution_count": null,
   "metadata": {},
   "outputs": [],
   "source": [
    "**`tf.Tensor.eval() / sess.run(t)`**"
   ]
  },
  {
   "cell_type": "code",
   "execution_count": null,
   "metadata": {},
   "outputs": [],
   "source": [
    "+ Basic Usage"
   ]
  },
  {
   "cell_type": "code",
   "execution_count": null,
   "metadata": {},
   "outputs": [],
   "source": [
    "test = tf.constant([1,2,3], name='test')"
   ]
  },
  {
   "cell_type": "code",
   "execution_count": null,
   "metadata": {},
   "outputs": [],
   "source": [
    "sess = tf.Session()\n",
    "with sess.as_default():\n",
    "    print(sess is tf.get_default_session())\n",
    "    \n",
    "    print(test.eval() == sess.run(test))\n",
    "    print(test.eval())\n",
    "    print(sess.run(test))"
   ]
  },
  {
   "cell_type": "code",
   "execution_count": null,
   "metadata": {},
   "outputs": [],
   "source": [
    "+ **`sess.run() 可以一步获取多个tensor中的值`**"
   ]
  },
  {
   "cell_type": "code",
   "execution_count": null,
   "metadata": {},
   "outputs": [],
   "source": [
    "a = tf.constant([1, 2, 3], name='a')\n",
    "b = tf.constant([3, 4, 5], name='b')"
   ]
  },
  {
   "cell_type": "code",
   "execution_count": null,
   "metadata": {},
   "outputs": [],
   "source": [
    "add = tf.add(a, b, name='add')\n",
    "mul = tf.multiply(a, b, name='mul')"
   ]
  },
  {
   "cell_type": "code",
   "execution_count": null,
   "metadata": {},
   "outputs": [],
   "source": [
    "with tf.Session() as sess:\n",
    "    print(sess.run([add, mul]))\n",
    "    print(add.eval(session=sess), mul.eval(session=sess))"
   ]
  },
  {
   "cell_type": "code",
   "execution_count": null,
   "metadata": {},
   "outputs": [],
   "source": []
  },
  {
   "cell_type": "markdown",
   "metadata": {},
   "source": [
    "# collection"
   ]
  },
  {
   "cell_type": "code",
   "execution_count": null,
   "metadata": {},
   "outputs": [],
   "source": [
    "**`tf.GraphKeys`**"
   ]
  },
  {
   "cell_type": "code",
   "execution_count": null,
   "metadata": {},
   "outputs": [],
   "source": [
    "+ tf.GraphKeys.**GLOBAL_VARIABLES**\n",
    "    + 默认的 Variable 对象集合，在分布式环境共性\n",
    "    + 使用场景：持久化 Tensorflow 模型\n",
    "\n",
    "\n",
    "+ tf.GraphKeys.**LOCAL_VARIABLES**\n",
    "    + 每台计算机的局部变量\n",
    "    + 通常用于临时变量，如：计数器\n",
    "    + 使用 tf.contrib.framework.local_variable 添加到此集合\n",
    "\n",
    "\n",
    "+ tf.GraphKeys.**MODEL_VARIABLES**\n",
    "    + 在构建模型时，所有用于正向传播的 Variable 都将添加到这里\n",
    "    + 使用 tf.contrib.framework.model_variable 添加到此集合\n",
    "\n",
    "\n",
    "+ tf.GraphKeys.**TRAINABLE_VARIABLES**\n",
    "    + 将有优化器训练的变量\n",
    "    + tf.trainable_variables()\n",
    "\n",
    "\n",
    "+ tf.GraphKeys.**SUMMARIES**\n",
    "    + 日志生成相关的张量\n",
    "    + Tensorflow 计算可视化\n",
    "\n",
    "\n",
    "+ tf.GraphKeys.**MOVING_AVERAGE_VARIABLES**\n",
    "    + 所有计算了滑动平均值的变量\n",
    "    + tf.moving_average_variables\n",
    "\n",
    "\n",
    "+ tf.GraphKeys.**REGULARIZATION_LOSSES**\n",
    "    + 收集在图构造期间正则化损失"
   ]
  },
  {
   "cell_type": "code",
   "execution_count": null,
   "metadata": {},
   "outputs": [],
   "source": [
    "**`tf.GraphKeys 使用`**"
   ]
  },
  {
   "cell_type": "markdown",
   "metadata": {},
   "source": [
    "# operation / op"
   ]
  },
  {
   "cell_type": "code",
   "execution_count": null,
   "metadata": {},
   "outputs": [],
   "source": [
    "# Property"
   ]
  },
  {
   "cell_type": "code",
   "execution_count": null,
   "metadata": {},
   "outputs": [],
   "source": [
    "tf.shape(Tensor)\n",
    "# tf.shape 函数本身也是返回一个张量，因而，需要用 sess.run() 来得到具体的值"
   ]
  },
  {
   "cell_type": "code",
   "execution_count": null,
   "metadata": {},
   "outputs": [],
   "source": [
    "Tensor.get_shape()"
   ]
  },
  {
   "cell_type": "code",
   "execution_count": null,
   "metadata": {},
   "outputs": [],
   "source": [
    "tf.reshape(tensor, shape, name=None)\n",
    "&\n",
    "-1"
   ]
  },
  {
   "cell_type": "code",
   "execution_count": null,
   "metadata": {},
   "outputs": [],
   "source": [
    "t = tf.constant([1,2,3,4,5,6,7,8,9,10,11,12])\n",
    "t1 = tf.reshape(t, [-1,3])\n",
    "with tf.Session() as sess:\n",
    "    print(sess.run(t1))"
   ]
  },
  {
   "cell_type": "code",
   "execution_count": null,
   "metadata": {},
   "outputs": [],
   "source": [
    "a = tf.constant([[1,2,3],[1,2,3],[1,2,3],[1,2,3]], name='a')\n",
    "b = tf.constant([[3,4,5],[3,4,5],[3,4,5],[3,4,5]], name='b')\n",
    "\n",
    "result = tf.add(a,b, name='add')\n",
    "print(result)"
   ]
  },
  {
   "cell_type": "code",
   "execution_count": null,
   "metadata": {},
   "outputs": [],
   "source": [
    "result.get_shape()"
   ]
  },
  {
   "cell_type": "code",
   "execution_count": null,
   "metadata": {},
   "outputs": [],
   "source": [
    "assign"
   ]
  },
  {
   "cell_type": "code",
   "execution_count": null,
   "metadata": {},
   "outputs": [],
   "source": [
    "**`Implement Loop add one`**"
   ]
  },
  {
   "cell_type": "code",
   "execution_count": null,
   "metadata": {},
   "outputs": [],
   "source": [
    "count = tf.Variable(0, name='counter')\n",
    "one = tf.constant(1)\n",
    "new_value = tf.add(count, one)"
   ]
  },
  {
   "cell_type": "code",
   "execution_count": null,
   "metadata": {},
   "outputs": [],
   "source": [
    "**赋值op : tf.assign(old, new)**"
   ]
  },
  {
   "cell_type": "code",
   "execution_count": null,
   "metadata": {},
   "outputs": [],
   "source": [
    "update = tf.assign(count, new_value)"
   ]
  },
  {
   "cell_type": "code",
   "execution_count": null,
   "metadata": {},
   "outputs": [],
   "source": [
    "init = tf.global_variables_initializer()\n",
    "\n",
    "with tf.Session() as sess:\n",
    "    sess.run(init)\n",
    "    print(sess.run(count))\n",
    "    for _ in range(5):\n",
    "        sess.run(update)\n",
    "        print(sess.run(count))"
   ]
  },
  {
   "cell_type": "code",
   "execution_count": null,
   "metadata": {},
   "outputs": [],
   "source": [
    "product = tf.matmul(m1, m2)"
   ]
  },
  {
   "cell_type": "code",
   "execution_count": null,
   "metadata": {},
   "outputs": [],
   "source": [
    "print(product)"
   ]
  },
  {
   "cell_type": "code",
   "execution_count": null,
   "metadata": {},
   "outputs": [],
   "source": []
  },
  {
   "cell_type": "code",
   "execution_count": null,
   "metadata": {},
   "outputs": [],
   "source": []
  },
  {
   "cell_type": "code",
   "execution_count": null,
   "metadata": {},
   "outputs": [],
   "source": []
  },
  {
   "cell_type": "code",
   "execution_count": null,
   "metadata": {},
   "outputs": [],
   "source": [
    "+ **`tf.random_shuffle()`**\n",
    "tf.one_hot"
   ]
  },
  {
   "cell_type": "code",
   "execution_count": null,
   "metadata": {},
   "outputs": [],
   "source": []
  },
  {
   "cell_type": "code",
   "execution_count": null,
   "metadata": {},
   "outputs": [],
   "source": []
  }
 ],
 "metadata": {
  "kernelspec": {
   "display_name": "Python 3",
   "language": "python",
   "name": "python3"
  },
  "language_info": {
   "codemirror_mode": {
    "name": "ipython",
    "version": 3
   },
   "file_extension": ".py",
   "mimetype": "text/x-python",
   "name": "python",
   "nbconvert_exporter": "python",
   "pygments_lexer": "ipython3",
   "version": "3.6.6"
  },
  "toc": {
   "base_numbering": 1,
   "nav_menu": {},
   "number_sections": true,
   "sideBar": true,
   "skip_h1_title": false,
   "title_cell": "Table of Contents",
   "title_sidebar": "Contents",
   "toc_cell": false,
   "toc_position": {},
   "toc_section_display": true,
   "toc_window_display": true
  }
 },
 "nbformat": 4,
 "nbformat_minor": 2
}
