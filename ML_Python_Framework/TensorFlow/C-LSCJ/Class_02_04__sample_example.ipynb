{
 "cells": [
  {
   "cell_type": "code",
   "execution_count": 1,
   "metadata": {},
   "outputs": [],
   "source": [
    "import tensorflow as tf\n",
    "import numpy as np"
   ]
  },
  {
   "cell_type": "code",
   "execution_count": 2,
   "metadata": {},
   "outputs": [],
   "source": [
    "# creat random data\n",
    "x_data = np.random.rand(100) # a uniform distribution\n",
    "y_data = x_data * 0.1 + 0.2"
   ]
  },
  {
   "cell_type": "code",
   "execution_count": 3,
   "metadata": {},
   "outputs": [],
   "source": [
    "# creat linear model\n",
    "b = tf.Variable(0.) # 表示要使用小数\n",
    "k = tf.Variable(0.)\n",
    "y = k * x_data + b"
   ]
  },
  {
   "cell_type": "code",
   "execution_count": 4,
   "metadata": {},
   "outputs": [],
   "source": [
    "# MSE loss function\n",
    "loss = tf.reduce_mean(tf.square(y_data - y))"
   ]
  },
  {
   "cell_type": "markdown",
   "metadata": {},
   "source": [
    "**`定义:优化器 - 梯度下降`**"
   ]
  },
  {
   "cell_type": "code",
   "execution_count": 5,
   "metadata": {},
   "outputs": [],
   "source": [
    "lr = tf.Variable(0.2)\n",
    "optimizer = tf.train.GradientDescentOptimizer(lr)"
   ]
  },
  {
   "cell_type": "markdown",
   "metadata": {},
   "source": [
    "**`优化目标 - 最小化代价函数`**"
   ]
  },
  {
   "cell_type": "code",
   "execution_count": 6,
   "metadata": {},
   "outputs": [],
   "source": [
    "train = optimizer.minimize(loss)"
   ]
  },
  {
   "cell_type": "code",
   "execution_count": 7,
   "metadata": {},
   "outputs": [
    {
     "name": "stdout",
     "output_type": "stream",
     "text": [
      "0 [0.055441, 0.100717, 0.01513494]\n",
      "20 [0.104734525, 0.19738102, 1.8643262e-06]\n",
      "40 [0.10282587, 0.19843687, 6.641512e-07]\n",
      "60 [0.10168666, 0.19906703, 2.366017e-07]\n",
      "80 [0.10100671, 0.19944313, 8.428972e-08]\n",
      "100 [0.10060086, 0.19966763, 3.002687e-08]\n",
      "120 [0.10035862, 0.19980162, 1.0696502e-08]\n",
      "140 [0.100214034, 0.19988161, 3.8100834e-09]\n",
      "160 [0.10012776, 0.19992933, 1.3575218e-09]\n",
      "180 [0.10007625, 0.19995782, 4.8366405e-10]\n"
     ]
    }
   ],
   "source": [
    "init = tf.global_variables_initializer()\n",
    "\n",
    "with tf.Session() as sess:\n",
    "    sess.run(init)\n",
    "    for step in range(200):\n",
    "        sess.run(train)\n",
    "        if step % 20 == 0:\n",
    "            res = sess.run([k, b, loss])\n",
    "            print(step, res)"
   ]
  },
  {
   "cell_type": "code",
   "execution_count": null,
   "metadata": {},
   "outputs": [],
   "source": []
  }
 ],
 "metadata": {
  "kernelspec": {
   "display_name": "Python 3",
   "language": "python",
   "name": "python3"
  },
  "language_info": {
   "codemirror_mode": {
    "name": "ipython",
    "version": 3
   },
   "file_extension": ".py",
   "mimetype": "text/x-python",
   "name": "python",
   "nbconvert_exporter": "python",
   "pygments_lexer": "ipython3",
   "version": "3.6.6"
  },
  "toc": {
   "base_numbering": 1,
   "nav_menu": {},
   "number_sections": true,
   "sideBar": true,
   "skip_h1_title": false,
   "title_cell": "Table of Contents",
   "title_sidebar": "Contents",
   "toc_cell": false,
   "toc_position": {},
   "toc_section_display": true,
   "toc_window_display": false
  }
 },
 "nbformat": 4,
 "nbformat_minor": 2
}
