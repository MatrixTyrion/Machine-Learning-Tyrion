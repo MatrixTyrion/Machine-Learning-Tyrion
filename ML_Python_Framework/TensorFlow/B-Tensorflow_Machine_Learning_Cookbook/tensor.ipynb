{
 "cells": [
  {
   "cell_type": "code",
   "execution_count": 2,
   "metadata": {},
   "outputs": [],
   "source": [
    "import tensorflow as tf\n",
    "import numpy as np"
   ]
  },
  {
   "cell_type": "code",
   "execution_count": 4,
   "metadata": {},
   "outputs": [],
   "source": [
    "a =tf.constant(np.arange(10))"
   ]
  },
  {
   "cell_type": "code",
   "execution_count": 13,
   "metadata": {},
   "outputs": [
    {
     "name": "stdout",
     "output_type": "stream",
     "text": [
      "[0 1 2 3 4 5 6 7 8 9]\n"
     ]
    }
   ],
   "source": [
    "with tf.Session() as sess:\n",
    "    res = sess.run(a)\n",
    "    print(res)"
   ]
  },
  {
   "cell_type": "code",
   "execution_count": null,
   "metadata": {},
   "outputs": [],
   "source": []
  },
  {
   "cell_type": "code",
   "execution_count": 19,
   "metadata": {},
   "outputs": [
    {
     "name": "stdout",
     "output_type": "stream",
     "text": [
      "0\n",
      "1 [1, 2]\n",
      "2 [2, 3]\n",
      "3 [3, 4]\n",
      "4 [4, 5]\n",
      "5 [5, 6]\n",
      "6 [6, 7]\n",
      "7 [7, 8]\n",
      "8 [8, 9]\n",
      "9 [9, 10]\n",
      "10 [10, 11]\n"
     ]
    }
   ],
   "source": [
    "count = tf.Variable(0, name='Counter')\n",
    "one = tf.constant(1)\n",
    "fetch = tf.add(one, count)\n",
    "\n",
    "new_value = tf.add(count, one)\n",
    "update = tf.assign(count, new_value)\n",
    "\n",
    "init = tf.global_variables_initializer()\n",
    "\n",
    "with tf.Session() as sess:\n",
    "    sess.run(init)\n",
    "    print(sess.run(count))\n",
    "    for _ in range(10):\n",
    "        sess.run(update)\n",
    "        print(sess.run(count), sess.run([count, fetch]))"
   ]
  },
  {
   "cell_type": "code",
   "execution_count": 21,
   "metadata": {},
   "outputs": [
    {
     "name": "stdout",
     "output_type": "stream",
     "text": [
      "[1.21  2.332]\n"
     ]
    }
   ],
   "source": [
    "input_01 = tf.placeholder(tf.float32)\n",
    "input_02 = tf.placeholder(tf.float32)\n",
    "out = tf.multiply(input_01, input_02)\n",
    "\n",
    "with tf.Session() as sess:\n",
    "    res = sess.run(out, feed_dict={\n",
    "        input_01 : [1., 2.12],\n",
    "        input_02 : [1.21, 1.1]\n",
    "    })\n",
    "    print(res)"
   ]
  },
  {
   "cell_type": "code",
   "execution_count": null,
   "metadata": {},
   "outputs": [],
   "source": []
  },
  {
   "cell_type": "code",
   "execution_count": null,
   "metadata": {},
   "outputs": [],
   "source": []
  },
  {
   "cell_type": "code",
   "execution_count": null,
   "metadata": {},
   "outputs": [],
   "source": []
  },
  {
   "cell_type": "code",
   "execution_count": null,
   "metadata": {},
   "outputs": [],
   "source": []
  }
 ],
 "metadata": {
  "kernelspec": {
   "display_name": "Python 3",
   "language": "python",
   "name": "python3"
  },
  "language_info": {
   "codemirror_mode": {
    "name": "ipython",
    "version": 3
   },
   "file_extension": ".py",
   "mimetype": "text/x-python",
   "name": "python",
   "nbconvert_exporter": "python",
   "pygments_lexer": "ipython3",
   "version": "3.6.6"
  },
  "toc": {
   "base_numbering": 1,
   "nav_menu": {},
   "number_sections": true,
   "sideBar": true,
   "skip_h1_title": false,
   "title_cell": "Table of Contents",
   "title_sidebar": "Contents",
   "toc_cell": false,
   "toc_position": {},
   "toc_section_display": true,
   "toc_window_display": false
  }
 },
 "nbformat": 4,
 "nbformat_minor": 2
}
