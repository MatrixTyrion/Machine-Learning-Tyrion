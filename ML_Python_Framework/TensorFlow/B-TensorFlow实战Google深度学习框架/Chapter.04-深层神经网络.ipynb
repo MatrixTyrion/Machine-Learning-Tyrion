{
 "cells": [
  {
   "cell_type": "code",
   "execution_count": 1,
   "metadata": {},
   "outputs": [],
   "source": [
    "import tensorflow as tf\n",
    "import numpy as np"
   ]
  },
  {
   "cell_type": "code",
   "execution_count": 2,
   "metadata": {},
   "outputs": [
    {
     "name": "stdout",
     "output_type": "stream",
     "text": [
      "[1.91865955]\n",
      "1.9186595478618151\n"
     ]
    }
   ],
   "source": [
    "from numpy.random import RandomState\n",
    "rdm = RandomState(1)\n",
    "\n",
    "y_  = tf.constant(rdm.rand(1,10))\n",
    "y = np.array([0.0, 1.0, 0, 0, 0, 0, 0, 0, 0, 0])\n",
    "\n",
    "cross_entropy = tf.nn.softmax_cross_entropy_with_logits_v2(labels=y, logits=y_)\n",
    "with tf.Session() as sess:\n",
    "    loss = sess.run(cross_entropy)\n",
    "    print(loss)\n",
    "\n",
    "y_softmax = tf.nn.softmax(logits=y_)\n",
    "cross_entropy_v1 = -tf.reduce_sum(y * tf.log(y_softmax))\n",
    "\n",
    "with tf.Session() as sess:\n",
    "    loss = sess.run(cross_entropy_v1)\n",
    "    print(loss)"
   ]
  },
  {
   "cell_type": "code",
   "execution_count": null,
   "metadata": {},
   "outputs": [],
   "source": []
  },
  {
   "cell_type": "code",
   "execution_count": 3,
   "metadata": {},
   "outputs": [
    {
     "name": "stdout",
     "output_type": "stream",
     "text": [
      "WARNING:tensorflow:From <ipython-input-3-7b2eb18e8011>:6: softmax_cross_entropy_with_logits (from tensorflow.python.ops.nn_ops) is deprecated and will be removed in a future version.\n",
      "Instructions for updating:\n",
      "\n",
      "Future major versions of TensorFlow will allow gradients to flow\n",
      "into the labels input on backprop by default.\n",
      "\n",
      "See @{tf.nn.softmax_cross_entropy_with_logits_v2}.\n",
      "\n",
      "step2:cross_entropy result=\n",
      "1.222818\n",
      "Function(softmax_cross_entropy_with_logits) result=\n",
      "1.2228179\n"
     ]
    }
   ],
   "source": [
    "logits = tf.constant([[1.0,2.0,3.0],[1.0,2.0,3.0],[1.0,2.0,3.0]])\n",
    "y  = tf.nn.softmax(logits)\n",
    "y_ = tf.constant([[0.0,0.0,1.0],[0.0,0.0,1.0],[0.0,0.0,1.0]])\n",
    "cross_entropy = -tf.reduce_sum(y_*tf.log(y))\n",
    "\n",
    "cross_entropy2 = tf.reduce_sum(tf.nn.softmax_cross_entropy_with_logits(logits=logits, labels=y_))\n",
    "\n",
    "with tf.Session() as sess:\n",
    "    c_e = sess.run(cross_entropy)\n",
    "    c_e2 = sess.run(cross_entropy2)\n",
    "    print(\"step2:cross_entropy result=\")\n",
    "    print(c_e)\n",
    "    print(\"Function(softmax_cross_entropy_with_logits) result=\")\n",
    "    print(c_e2)"
   ]
  },
  {
   "cell_type": "code",
   "execution_count": null,
   "metadata": {},
   "outputs": [],
   "source": []
  },
  {
   "cell_type": "code",
   "execution_count": 4,
   "metadata": {},
   "outputs": [
    {
     "name": "stdout",
     "output_type": "stream",
     "text": [
      "0.04493472585997595\n",
      "0.04493472585997595\n",
      "0.04493472585997595\n"
     ]
    }
   ],
   "source": [
    "Truth = np.array([0,0,1,0])\n",
    "Pred_logits = np.array([3.5,2.1,7.89,4.4])\n",
    "\n",
    "loss = tf.nn.softmax_cross_entropy_with_logits(labels=Truth,logits=Pred_logits)\n",
    "loss2 = tf.nn.softmax_cross_entropy_with_logits_v2(labels=Truth,logits=Pred_logits)\n",
    "loss3 = tf.nn.sparse_softmax_cross_entropy_with_logits(labels=tf.argmax(Truth),logits=Pred_logits)\n",
    "\n",
    "with tf.Session() as sess:\n",
    "    print(sess.run(loss))\n",
    "    print(sess.run(loss2))\n",
    "    print(sess.run(loss3))"
   ]
  },
  {
   "cell_type": "code",
   "execution_count": null,
   "metadata": {},
   "outputs": [],
   "source": []
  }
 ],
 "metadata": {
  "kernelspec": {
   "display_name": "Python 3",
   "language": "python",
   "name": "python3"
  },
  "language_info": {
   "codemirror_mode": {
    "name": "ipython",
    "version": 3
   },
   "file_extension": ".py",
   "mimetype": "text/x-python",
   "name": "python",
   "nbconvert_exporter": "python",
   "pygments_lexer": "ipython3",
   "version": "3.6.6"
  },
  "toc": {
   "base_numbering": 1,
   "nav_menu": {},
   "number_sections": true,
   "sideBar": true,
   "skip_h1_title": false,
   "title_cell": "Table of Contents",
   "title_sidebar": "Contents",
   "toc_cell": false,
   "toc_position": {},
   "toc_section_display": true,
   "toc_window_display": false
  }
 },
 "nbformat": 4,
 "nbformat_minor": 2
}
