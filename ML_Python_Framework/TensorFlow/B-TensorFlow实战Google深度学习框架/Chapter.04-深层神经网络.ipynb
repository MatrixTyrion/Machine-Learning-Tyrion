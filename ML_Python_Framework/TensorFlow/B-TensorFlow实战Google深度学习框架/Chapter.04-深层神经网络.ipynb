{
 "cells": [
  {
   "cell_type": "code",
   "execution_count": 1,
   "metadata": {},
   "outputs": [],
   "source": [
    "import tensorflow as tf\n",
    "import numpy as np"
   ]
  },
  {
   "cell_type": "code",
   "execution_count": 2,
   "metadata": {},
   "outputs": [
    {
     "name": "stdout",
     "output_type": "stream",
     "text": [
      "[1.91865955]\n",
      "1.9186595478618151\n"
     ]
    }
   ],
   "source": [
    "from numpy.random import RandomState\n",
    "rdm = RandomState(1)\n",
    "\n",
    "y_  = tf.constant(rdm.rand(1,10))\n",
    "y = np.array([0.0, 1.0, 0, 0, 0, 0, 0, 0, 0, 0])\n",
    "\n",
    "cross_entropy = tf.nn.softmax_cross_entropy_with_logits_v2(labels=y, logits=y_)\n",
    "with tf.Session() as sess:\n",
    "    loss = sess.run(cross_entropy)\n",
    "    print(loss)\n",
    "\n",
    "y_softmax = tf.nn.softmax(logits=y_)\n",
    "cross_entropy_v1 = -tf.reduce_sum(y * tf.log(y_softmax))\n",
    "\n",
    "with tf.Session() as sess:\n",
    "    loss = sess.run(cross_entropy_v1)\n",
    "    print(loss)"
   ]
  },
  {
   "cell_type": "code",
   "execution_count": null,
   "metadata": {},
   "outputs": [],
   "source": []
  },
  {
   "cell_type": "code",
   "execution_count": 3,
   "metadata": {},
   "outputs": [
    {
     "name": "stdout",
     "output_type": "stream",
     "text": [
      "WARNING:tensorflow:From <ipython-input-3-7b2eb18e8011>:6: softmax_cross_entropy_with_logits (from tensorflow.python.ops.nn_ops) is deprecated and will be removed in a future version.\n",
      "Instructions for updating:\n",
      "\n",
      "Future major versions of TensorFlow will allow gradients to flow\n",
      "into the labels input on backprop by default.\n",
      "\n",
      "See @{tf.nn.softmax_cross_entropy_with_logits_v2}.\n",
      "\n",
      "step2:cross_entropy result=\n",
      "1.222818\n",
      "Function(softmax_cross_entropy_with_logits) result=\n",
      "1.2228179\n"
     ]
    }
   ],
   "source": [
    "logits = tf.constant([[1.0,2.0,3.0],[1.0,2.0,3.0],[1.0,2.0,3.0]])\n",
    "y  = tf.nn.softmax(logits)\n",
    "y_ = tf.constant([[0.0,0.0,1.0],[0.0,0.0,1.0],[0.0,0.0,1.0]])\n",
    "cross_entropy = -tf.reduce_sum(y_*tf.log(y))\n",
    "\n",
    "cross_entropy2 = tf.reduce_sum(tf.nn.softmax_cross_entropy_with_logits(logits=logits, labels=y_))\n",
    "\n",
    "with tf.Session() as sess:\n",
    "    c_e = sess.run(cross_entropy)\n",
    "    c_e2 = sess.run(cross_entropy2)\n",
    "    print(\"step2:cross_entropy result=\")\n",
    "    print(c_e)\n",
    "    print(\"Function(softmax_cross_entropy_with_logits) result=\")\n",
    "    print(c_e2)"
   ]
  },
  {
   "cell_type": "code",
   "execution_count": null,
   "metadata": {},
   "outputs": [],
   "source": []
  },
  {
   "cell_type": "code",
   "execution_count": 4,
   "metadata": {},
   "outputs": [
    {
     "name": "stdout",
     "output_type": "stream",
     "text": [
      "0.04493472585997595\n",
      "0.04493472585997595\n",
      "0.04493472585997595\n"
     ]
    }
   ],
   "source": [
    "Truth = np.array([0,0,1,0])\n",
    "Pred_logits = np.array([3.5,2.1,7.89,4.4])\n",
    "\n",
    "loss = tf.nn.softmax_cross_entropy_with_logits(labels=Truth,logits=Pred_logits)\n",
    "loss2 = tf.nn.softmax_cross_entropy_with_logits_v2(labels=Truth,logits=Pred_logits)\n",
    "loss3 = tf.nn.sparse_softmax_cross_entropy_with_logits(labels=tf.argmax(Truth),logits=Pred_logits)\n",
    "\n",
    "with tf.Session() as sess:\n",
    "    print(sess.run(loss))\n",
    "    print(sess.run(loss2))\n",
    "    print(sess.run(loss3))"
   ]
  },
  {
   "cell_type": "code",
   "execution_count": null,
   "metadata": {},
   "outputs": [],
   "source": []
  },
  {
   "cell_type": "code",
   "execution_count": 5,
   "metadata": {},
   "outputs": [],
   "source": [
    "if False:\n",
    "    batch_size = n\n",
    "    x = tf.placeholder(tf.float32, shape=(batch_size,2), name='x-input')\n",
    "    y_ = tf.placeholder(tf.float32, shape=(batch_size,1), name='y-input')\n",
    "    \n",
    "    loss = ...\n",
    "    train_step = tf.train.AdamOptimizer(0.001).minimize(loss)\n",
    "    \n",
    "    with tf.Session() as sess:\n",
    "        for i in range(STEP):\n",
    "            current_x, current_y = ...\n",
    "            sess.run(train_step, feed_dict={\n",
    "                x : current_x,\n",
    "                y_ : current_y\n",
    "            })"
   ]
  },
  {
   "cell_type": "code",
   "execution_count": null,
   "metadata": {},
   "outputs": [],
   "source": []
  },
  {
   "cell_type": "markdown",
   "metadata": {},
   "source": [
    "**`tf.train.exponential_decay`**"
   ]
  },
  {
   "cell_type": "code",
   "execution_count": null,
   "metadata": {},
   "outputs": [],
   "source": [
    "if False:\n",
    "    global_step = tf.Variable(0)\n",
    "    \n",
    "    # 通过 exponential_decay 函数来生成学习率\n",
    "    leanring_rate = tf.train.exponential_decay(\n",
    "        0.1, global_step, decay_steps=100, decay_rate=0.96, staircase=True\n",
    "    )\n",
    "    \n",
    "    # 使用'指数衰减学习率'\n",
    "    # 在 minimize 函数中传入 global_step, 并将自动更新 global_step 参数\n",
    "    # 从而使得学习率也得到相应更新\n",
    "    optimizer = tf.train.GradientDescentOptimizer(leanring_rate)\n",
    "    learning_step = optimizer.minimize(...my_loss.., global_step=global_step)"
   ]
  },
  {
   "cell_type": "code",
   "execution_count": null,
   "metadata": {},
   "outputs": [],
   "source": []
  },
  {
   "cell_type": "markdown",
   "metadata": {},
   "source": [
    "**`Regularization`**"
   ]
  },
  {
   "cell_type": "code",
   "execution_count": 6,
   "metadata": {},
   "outputs": [
    {
     "name": "stdout",
     "output_type": "stream",
     "text": [
      "5.0\n",
      "7.5\n",
      "12.5\n"
     ]
    }
   ],
   "source": [
    "weight = tf.constant([[1.0, -2.0], [-3.0, 4.0]])\n",
    "\n",
    "with tf.Session() as sess:\n",
    "    l1 = tf.contrib.layers.l1_regularizer(.5)(weight)\n",
    "    l2 = tf.contrib.layers.l2_regularizer(.5)(weight)\n",
    "    l1_l2 = tf.contrib.layers.l1_l2_regularizer(.5, .5)(weight)\n",
    "    \n",
    "    print(sess.run(l1))\n",
    "    print(sess.run(l2))\n",
    "    print(sess.run(l1_l2))"
   ]
  },
  {
   "cell_type": "code",
   "execution_count": null,
   "metadata": {},
   "outputs": [],
   "source": []
  },
  {
   "cell_type": "markdown",
   "metadata": {},
   "source": [
    "**`Exponential Moving Average`**"
   ]
  },
  {
   "cell_type": "code",
   "execution_count": 7,
   "metadata": {},
   "outputs": [],
   "source": [
    "var = tf.Variable(0, dtype=tf.float32)\n",
    "\n",
    "# 模拟社交网络迭代轮数, 动态控制衰减率\n",
    "step = tf.Variable(0, trainable=False)\n",
    "\n",
    "# 定义一个滑动平均累\n",
    "ema = tf.train.ExponentialMovingAverage(decay=0.99, num_updates=step)\n",
    "\n",
    "# 定义一个滑动平均的操作\n",
    "# 这里需要给定一个列表, 每次执行这个操作时, 列表里的元素都会被更新\n",
    "maintain_average_op = ema.apply([var])"
   ]
  },
  {
   "cell_type": "code",
   "execution_count": 12,
   "metadata": {},
   "outputs": [
    {
     "name": "stdout",
     "output_type": "stream",
     "text": [
      "[0.0, 0.0]\n",
      "[5.0, 4.5]\n",
      "[10.0, 4.555]\n",
      "[10.0, 4.60945]\n"
     ]
    }
   ],
   "source": [
    "with tf.Session() as sess:\n",
    "    tf.global_variables_initializer().run()\n",
    "    \n",
    "    print(sess.run([var, ema.average(var)]))\n",
    "\n",
    "    # 更新v1的滑动平均值，衰减率为min{0.99,(1+step)/(10+step)=0.1}=0.1,\n",
    "    # 所以v1的滑动平均被更新为0.1*0+0.9*5=4.5\n",
    "    sess.run(tf.assign(var, 5))\n",
    "    sess.run(maintain_average_op)\n",
    "    print(sess.run([var, ema.average(var)]))\n",
    "    \n",
    "    # decay = min{0.99, (1+step)/(10+step)} = 0.99\n",
    "    # 0.99 * 4.5 + 0.01 * 10 = 4.555\n",
    "    sess.run(tf.assign(step, 10000))\n",
    "    sess.run(tf.assign(var, 10))\n",
    "    sess.run(maintain_average_op)\n",
    "    print(sess.run([var, ema.average(var)]))\n",
    "    \n",
    "    # 0.99 * 4.555 + 0.01 * 10\n",
    "    sess.run(maintain_average_op)\n",
    "    print(sess.run([var, ema.average(var)]))"
   ]
  },
  {
   "cell_type": "code",
   "execution_count": null,
   "metadata": {},
   "outputs": [],
   "source": []
  }
 ],
 "metadata": {
  "kernelspec": {
   "display_name": "Python 3",
   "language": "python",
   "name": "python3"
  },
  "language_info": {
   "codemirror_mode": {
    "name": "ipython",
    "version": 3
   },
   "file_extension": ".py",
   "mimetype": "text/x-python",
   "name": "python",
   "nbconvert_exporter": "python",
   "pygments_lexer": "ipython3",
   "version": "3.6.6"
  },
  "toc": {
   "base_numbering": 1,
   "nav_menu": {},
   "number_sections": true,
   "sideBar": true,
   "skip_h1_title": false,
   "title_cell": "Table of Contents",
   "title_sidebar": "Contents",
   "toc_cell": false,
   "toc_position": {},
   "toc_section_display": true,
   "toc_window_display": false
  }
 },
 "nbformat": 4,
 "nbformat_minor": 2
}
