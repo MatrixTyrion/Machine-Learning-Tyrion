{
 "cells": [
  {
   "cell_type": "code",
   "execution_count": 1,
   "metadata": {},
   "outputs": [],
   "source": [
    "import tensorflow as tf"
   ]
  },
  {
   "cell_type": "code",
   "execution_count": 2,
   "metadata": {},
   "outputs": [],
   "source": [
    "a = tf.constant(1)"
   ]
  },
  {
   "cell_type": "code",
   "execution_count": 3,
   "metadata": {},
   "outputs": [
    {
     "data": {
      "text/plain": [
       "True"
      ]
     },
     "execution_count": 3,
     "metadata": {},
     "output_type": "execute_result"
    }
   ],
   "source": [
    "a.graph is tf.get_default_graph()"
   ]
  },
  {
   "cell_type": "code",
   "execution_count": null,
   "metadata": {},
   "outputs": [],
   "source": []
  },
  {
   "cell_type": "markdown",
   "metadata": {},
   "source": [
    "+ tf.get_variable() & tf.Variable()\n",
    "+ tf.Graph()\n",
    "+ tf.variable_scope()"
   ]
  },
  {
   "cell_type": "code",
   "execution_count": 4,
   "metadata": {},
   "outputs": [],
   "source": [
    "g1 = tf.Graph()\n",
    "with g1.as_default():\n",
    "    v = tf.get_variable(\"Var\", shape=(1,2,3), initializer=tf.zeros_initializer())"
   ]
  },
  {
   "cell_type": "code",
   "execution_count": 5,
   "metadata": {},
   "outputs": [],
   "source": [
    "g2 = tf.Graph()\n",
    "with g2.as_default():\n",
    "    v = tf.get_variable(\"Var\", shape=(2,3,2), initializer=tf.ones_initializer())"
   ]
  },
  {
   "cell_type": "code",
   "execution_count": 6,
   "metadata": {},
   "outputs": [
    {
     "name": "stdout",
     "output_type": "stream",
     "text": [
      "[[[0. 0. 0.]\n",
      "  [0. 0. 0.]]]\n"
     ]
    }
   ],
   "source": [
    "with tf.Session(graph=g1) as sess:\n",
    "    tf.global_variables_initializer().run()\n",
    "    with tf.variable_scope(\"\", reuse=True):\n",
    "        print(sess.run(tf.get_variable(\"Var\")))    "
   ]
  },
  {
   "cell_type": "code",
   "execution_count": 7,
   "metadata": {},
   "outputs": [
    {
     "name": "stdout",
     "output_type": "stream",
     "text": [
      "[[[1. 1.]\n",
      "  [1. 1.]\n",
      "  [1. 1.]]\n",
      "\n",
      " [[1. 1.]\n",
      "  [1. 1.]\n",
      "  [1. 1.]]]\n"
     ]
    }
   ],
   "source": [
    "with tf.Session(graph=g2) as sess:\n",
    "    tf.global_variables_initializer().run()\n",
    "    with tf.variable_scope(\"\", reuse=True):\n",
    "        print(sess.run(tf.get_variable(\"Var\")))"
   ]
  },
  {
   "cell_type": "code",
   "execution_count": null,
   "metadata": {},
   "outputs": [],
   "source": []
  },
  {
   "cell_type": "code",
   "execution_count": 8,
   "metadata": {},
   "outputs": [
    {
     "name": "stdout",
     "output_type": "stream",
     "text": [
      "[0.]\n",
      "[[[1. 1. 1.]\n",
      "  [1. 1. 1.]]]\n"
     ]
    }
   ],
   "source": [
    "g = tf.Graph()\n",
    "with g.as_default():\n",
    "    zero = tf.Variable(initial_value=tf.zeros(shape=[1]), name='Var')\n",
    "    one = tf.Variable(initial_value=tf.ones(shape=[1,2,3]), name='Var1')\n",
    "    \n",
    "with tf.Session(graph=g) as sess:\n",
    "    init = tf.global_variables_initializer()\n",
    "    sess.run(init)\n",
    "    print(sess.run(zero))\n",
    "    print(sess.run(one))"
   ]
  },
  {
   "cell_type": "code",
   "execution_count": null,
   "metadata": {},
   "outputs": [],
   "source": []
  },
  {
   "cell_type": "code",
   "execution_count": 9,
   "metadata": {},
   "outputs": [
    {
     "name": "stdout",
     "output_type": "stream",
     "text": [
      "Tensor(\"add:0\", shape=(4, 3), dtype=int32)\n"
     ]
    }
   ],
   "source": [
    "a = tf.constant([[1,2,3],[1,2,3],[1,2,3],[1,2,3]], name='a')\n",
    "b = tf.constant([[3,4,5],[3,4,5],[3,4,5],[3,4,5]], name='b')\n",
    "\n",
    "result = tf.add(a,b, name='add')\n",
    "print(result)"
   ]
  },
  {
   "cell_type": "code",
   "execution_count": 10,
   "metadata": {},
   "outputs": [
    {
     "data": {
      "text/plain": [
       "TensorShape([Dimension(4), Dimension(3)])"
      ]
     },
     "execution_count": 10,
     "metadata": {},
     "output_type": "execute_result"
    }
   ],
   "source": [
    "result.get_shape()"
   ]
  },
  {
   "cell_type": "code",
   "execution_count": null,
   "metadata": {},
   "outputs": [],
   "source": []
  },
  {
   "cell_type": "markdown",
   "metadata": {},
   "source": [
    "+ tf.Tensor.eval() / sess.run(t)"
   ]
  },
  {
   "cell_type": "code",
   "execution_count": 11,
   "metadata": {},
   "outputs": [],
   "source": [
    "t = tf.constant([1,2,3], name=\"test\")"
   ]
  },
  {
   "cell_type": "code",
   "execution_count": 12,
   "metadata": {},
   "outputs": [
    {
     "name": "stdout",
     "output_type": "stream",
     "text": [
      "[1 2 3]\n",
      "[1 2 3]\n"
     ]
    }
   ],
   "source": [
    "sess = tf.Session()\n",
    "with sess.as_default():\n",
    "    print(t.eval())\n",
    "    print(sess.run(t))"
   ]
  },
  {
   "cell_type": "code",
   "execution_count": 13,
   "metadata": {},
   "outputs": [
    {
     "name": "stdout",
     "output_type": "stream",
     "text": [
      "[1 2 3]\n"
     ]
    }
   ],
   "source": [
    "sess = tf.Session()\n",
    "print(t.eval(session=sess))"
   ]
  },
  {
   "cell_type": "code",
   "execution_count": null,
   "metadata": {},
   "outputs": [],
   "source": []
  },
  {
   "cell_type": "code",
   "execution_count": 14,
   "metadata": {},
   "outputs": [],
   "source": [
    "test = tf.constant([1,2,3], name='test')"
   ]
  },
  {
   "cell_type": "code",
   "execution_count": 15,
   "metadata": {},
   "outputs": [
    {
     "name": "stdout",
     "output_type": "stream",
     "text": [
      "True\n",
      "[ True  True  True]\n",
      "[1 2 3]\n",
      "[1 2 3]\n"
     ]
    }
   ],
   "source": [
    "sess = tf.Session()\n",
    "with sess.as_default():\n",
    "    print(sess is tf.get_default_session())\n",
    "    \n",
    "    print(test.eval() == sess.run(test))\n",
    "    print(test.eval())\n",
    "    print(sess.run(test))"
   ]
  },
  {
   "cell_type": "markdown",
   "metadata": {},
   "source": [
    "**`sess.run() 可以一步获取多个tensor中的值`**"
   ]
  },
  {
   "cell_type": "code",
   "execution_count": 16,
   "metadata": {},
   "outputs": [],
   "source": [
    "a = tf.constant([1, 2, 3], name='a')\n",
    "b = tf.constant([3, 4, 5], name='b')"
   ]
  },
  {
   "cell_type": "code",
   "execution_count": 17,
   "metadata": {},
   "outputs": [],
   "source": [
    "add = tf.add(a, b, name='add')\n",
    "mul = tf.multiply(a, b, name='mul')"
   ]
  },
  {
   "cell_type": "code",
   "execution_count": 18,
   "metadata": {},
   "outputs": [
    {
     "name": "stdout",
     "output_type": "stream",
     "text": [
      "[array([4, 6, 8]), array([ 3,  8, 15])]\n",
      "[4 6 8] [ 3  8 15]\n"
     ]
    }
   ],
   "source": [
    "with tf.Session() as sess:\n",
    "    print(sess.run([add, mul]))\n",
    "    print(add.eval(session=sess), mul.eval(session=sess))"
   ]
  },
  {
   "cell_type": "code",
   "execution_count": null,
   "metadata": {},
   "outputs": [],
   "source": []
  },
  {
   "cell_type": "code",
   "execution_count": 19,
   "metadata": {},
   "outputs": [
    {
     "name": "stdout",
     "output_type": "stream",
     "text": [
      "[[[1. 1. 1. 1.]\n",
      "  [1. 1. 1. 1.]\n",
      "  [1. 1. 1. 1.]]\n",
      "\n",
      " [[1. 1. 1. 1.]\n",
      "  [1. 1. 1. 1.]\n",
      "  [1. 1. 1. 1.]]]\n"
     ]
    }
   ],
   "source": [
    "ones = tf.ones([2,3,4])\n",
    "rand = tf.random_normal([2,3,4], mean=10, stddev=10)\n",
    "\n",
    "var = tf.Variable(initial_value=ones)\n",
    "with tf.Session() as sess:\n",
    "    tf.global_variables_initializer().run()\n",
    "    print(sess.run(var))"
   ]
  },
  {
   "cell_type": "code",
   "execution_count": null,
   "metadata": {},
   "outputs": [],
   "source": []
  },
  {
   "cell_type": "code",
   "execution_count": 23,
   "metadata": {},
   "outputs": [
    {
     "name": "stdout",
     "output_type": "stream",
     "text": [
      "[[-0.93353766]]\n"
     ]
    }
   ],
   "source": [
    "w1 = tf.Variable(tf.random_normal([3,2], stddev=1))\n",
    "w2 = tf.Variable(tf.random_normal([1,3], stddev=1))\n",
    "\n",
    "x = tf.placeholder(tf.float32, shape=(2,1), name=\"input\")\n",
    "a = tf.matmul(w1, x)\n",
    "y = tf.matmul(w2, a)\n",
    "\n",
    "with tf.Session() as sess:\n",
    "    tf.global_variables_initializer().run()\n",
    "    res = sess.run(y, feed_dict={\n",
    "        x : [[0.7],[0.9]]\n",
    "    })\n",
    "    print(res)"
   ]
  },
  {
   "cell_type": "code",
   "execution_count": 24,
   "metadata": {},
   "outputs": [
    {
     "name": "stdout",
     "output_type": "stream",
     "text": [
      "[[-1.6142296 -0.8062438 -1.3774065]]\n"
     ]
    }
   ],
   "source": [
    "w1 = tf.Variable(tf.random_normal([3,2], stddev=1))\n",
    "w2 = tf.Variable(tf.random_normal([1,3], stddev=1))\n",
    "\n",
    "x = tf.placeholder(tf.float32, shape=(2,3), name=\"input\")\n",
    "a = tf.matmul(w1, x)\n",
    "y = tf.matmul(w2, a)\n",
    "\n",
    "with tf.Session() as sess:\n",
    "    tf.global_variables_initializer().run()\n",
    "    res = sess.run(y, feed_dict={\n",
    "        x : [[0.7,0.5,0.5],[0.9,0.4,0.8]]\n",
    "    })\n",
    "    print(res)"
   ]
  },
  {
   "cell_type": "code",
   "execution_count": null,
   "metadata": {},
   "outputs": [],
   "source": []
  },
  {
   "cell_type": "code",
   "execution_count": 27,
   "metadata": {},
   "outputs": [
    {
     "name": "stdout",
     "output_type": "stream",
     "text": [
      "[[0.25851858 0.11242405 0.23139453]]\n",
      "[<tf.Variable 'Variable:0' shape=(2, 3, 4) dtype=float32_ref>, <tf.Variable 'Variable_1:0' shape=(3, 2) dtype=float32_ref>, <tf.Variable 'Variable_2:0' shape=(1, 3) dtype=float32_ref>, <tf.Variable 'Variable_3:0' shape=(3, 2) dtype=float32_ref>, <tf.Variable 'Variable_4:0' shape=(1, 3) dtype=float32_ref>, <tf.Variable 'Variable_5:0' shape=(3, 2) dtype=float32_ref>, <tf.Variable 'Variable_6:0' shape=(1, 3) dtype=float32_ref>, <tf.Variable 'Variable_7:0' shape=(3, 2) dtype=float32_ref>, <tf.Variable 'Variable_8:0' shape=(1, 3) dtype=float32_ref>, <tf.Variable 'Variable_9:0' shape=(3, 2) dtype=float32_ref>, <tf.Variable 'Variable_10:0' shape=(1, 3) dtype=float32_ref>, <tf.Variable 'Variable_11:0' shape=(3, 2) dtype=float32_ref>, <tf.Variable 'Variable_12:0' shape=(1, 3) dtype=float32_ref>, <tf.Variable 'Variable_13:0' shape=(3, 2) dtype=float32_ref>, <tf.Variable 'Variable_14:0' shape=(1, 3) dtype=float32_ref>]\n"
     ]
    }
   ],
   "source": [
    "w1 = tf.Variable(tf.random_normal([3,2], stddev=1))\n",
    "w2 = tf.Variable(tf.random_normal([1,3], stddev=1))\n",
    "\n",
    "x = tf.placeholder(tf.float32, shape=(2,3), name=\"input\")\n",
    "a = tf.matmul(w1, x)\n",
    "y = tf.matmul(w2, a)\n",
    "\n",
    "y_ = [[-1.5, -0.5, 1]]\n",
    "cross_entropy = tf.reduce_mean(y_ * tf.log(tf.clip_by_value(y, 1e-10, 1.0)))\n",
    "learning_rate = 0.001\n",
    "train_step = tf.train.AdadeltaOptimizer(learning_rate).minimize(cross_entropy)\n",
    "\n",
    "with tf.Session() as sess:\n",
    "    tf.global_variables_initializer().run()\n",
    "    res = sess.run(y, feed_dict={\n",
    "        x : [[0.7,0.5,0.5],[0.9,0.4,0.8]]\n",
    "    })\n",
    "    print(res)\n",
    "    print(tf.trainable_variables())"
   ]
  },
  {
   "cell_type": "code",
   "execution_count": null,
   "metadata": {},
   "outputs": [],
   "source": []
  },
  {
   "cell_type": "code",
   "execution_count": 60,
   "metadata": {
    "scrolled": false
   },
   "outputs": [
    {
     "name": "stdout",
     "output_type": "stream",
     "text": [
      "[0.417022   0.12417332]\n",
      "[[-0.8113182   1.4845988 ]\n",
      " [ 0.06532937 -2.4427042 ]\n",
      " [ 0.0992484   0.5912243 ]]\n",
      "[[-0.8113182   1.4845988   0.06532937]]\n",
      "After 0 training_step(s) ,cross_entropy on all data is 10.1598\n",
      "After 1000 training_step(s) ,cross_entropy on all data is 0.0161879\n",
      "After 2000 training_step(s) ,cross_entropy on all data is 0.00604948\n",
      "After 3000 training_step(s) ,cross_entropy on all data is 0.00330034\n",
      "After 4000 training_step(s) ,cross_entropy on all data is 0.000244847\n",
      "[[-3.165786   -0.65562004]\n",
      " [ 0.8128642  -1.2751489 ]\n",
      " [ 5.766369    3.5891197 ]]\n",
      "[[-3.9340394   0.38874954  3.9193282 ]]\n"
     ]
    }
   ],
   "source": [
    "import numpy as np\n",
    "from numpy.random import RandomState\n",
    "\n",
    "batch_size=8\n",
    "\n",
    "w1 = tf.Variable(tf.random_normal([3,2],stddev=1,seed=1))\n",
    "w2 = tf.Variable(tf.random_normal([1,3],stddev=1,seed=1))\n",
    "\n",
    "x = tf.placeholder(tf.float32,shape=(2,None),name='x_input')\n",
    "y_ = tf.placeholder(tf.float32,shape=(1,None),name ='y_input')\n",
    "\n",
    "a = tf.matmul(w1,x)\n",
    "y = tf.matmul(w2,a)\n",
    "\n",
    "#tf.clip_by_value()可以将计算的数值限制在一个范围内（1e-10~1.0）\n",
    "#y_表示真实值，y表示预测值，定义的是交叉熵损失函数\n",
    "#对于回归问题，最常用的损失函数是均方误差（MSE）mse = tf.reduce_mean(tf.square(y_-y))\n",
    "cross_entropy = -tf.reduce_mean(\n",
    "            y_*tf.log(tf.clip_by_value(y,1e-10,1.0)))\n",
    "#多分类问题适合softmax+cross_entrpy\n",
    "#cross_entropy2 = tf.nn.softmax_cross_entropy_with_logits(y,y_)\n",
    "train_step = tf.train.AdamOptimizer(0.015).minimize(cross_entropy)\n",
    "\n",
    "rdm = RandomState(1)\n",
    "dataset_size=128\n",
    "X = rdm.rand(2, dataset_size)\n",
    "Y = np.array([int(x1+x2<1) for (x1,x2) in X.T]).reshape(1,-1)\n",
    "print(X[:,0])\n",
    "\n",
    "with tf.Session() as sess:\n",
    "    init_op = tf.initialize_all_variables()\n",
    "    sess.run(init_op)\n",
    "    print (sess.run(w1))\n",
    "    print (sess.run(w2))\n",
    "    \n",
    "    steps = 5000\n",
    "    for i in range(steps):\n",
    "        start = (i*batch_size)%dataset_size\n",
    "        end = min(start+batch_size,dataset_size)\n",
    "        sess.run(train_step,feed_dict = {x:X[:,start:end],y_:Y[:,start:end]})\n",
    "        if i%1000==0:\n",
    "            total_cross_entropy = sess.run(\n",
    "                cross_entropy,feed_dict={x:X,y_:Y})\n",
    "            print(\"After %d training_step(s) ,cross_entropy on all data is %g\"%(i,total_cross_entropy))\n",
    "    print (sess.run(w1))\n",
    "    print (sess.run(w2))"
   ]
  },
  {
   "cell_type": "code",
   "execution_count": null,
   "metadata": {},
   "outputs": [],
   "source": []
  },
  {
   "cell_type": "code",
   "execution_count": 53,
   "metadata": {
    "scrolled": false
   },
   "outputs": [
    {
     "name": "stdout",
     "output_type": "stream",
     "text": [
      "[[4.17022005e-01 7.20324493e-01]\n",
      " [1.14374817e-04 3.02332573e-01]\n",
      " [1.46755891e-01 9.23385948e-02]\n",
      " [1.86260211e-01 3.45560727e-01]\n",
      " [3.96767474e-01 5.38816734e-01]\n",
      " [4.19194514e-01 6.85219500e-01]\n",
      " [2.04452250e-01 8.78117436e-01]\n",
      " [2.73875932e-02 6.70467510e-01]\n",
      " [4.17304802e-01 5.58689828e-01]\n",
      " [1.40386939e-01 1.98101489e-01]\n",
      " [8.00744569e-01 9.68261576e-01]\n",
      " [3.13424178e-01 6.92322616e-01]\n",
      " [8.76389152e-01 8.94606664e-01]\n",
      " [8.50442114e-02 3.90547832e-02]\n",
      " [1.69830420e-01 8.78142503e-01]\n",
      " [9.83468338e-02 4.21107625e-01]\n",
      " [9.57889530e-01 5.33165285e-01]\n",
      " [6.91877114e-01 3.15515631e-01]\n",
      " [6.86500928e-01 8.34625672e-01]\n",
      " [1.82882773e-02 7.50144315e-01]\n",
      " [9.88861089e-01 7.48165654e-01]\n",
      " [2.80443992e-01 7.89279328e-01]\n",
      " [1.03226007e-01 4.47893526e-01]\n",
      " [9.08595503e-01 2.93614148e-01]\n",
      " [2.87775339e-01 1.30028572e-01]\n",
      " [1.93669579e-02 6.78835533e-01]\n",
      " [2.11628116e-01 2.65546659e-01]\n",
      " [4.91573159e-01 5.33625451e-02]\n",
      " [5.74117605e-01 1.46728575e-01]\n",
      " [5.89305537e-01 6.99758360e-01]\n",
      " [1.02334429e-01 4.14055988e-01]\n",
      " [6.94400158e-01 4.14179270e-01]\n",
      " [4.99534589e-02 5.35896406e-01]\n",
      " [6.63794645e-01 5.14889112e-01]\n",
      " [9.44594756e-01 5.86555041e-01]\n",
      " [9.03401915e-01 1.37474704e-01]\n",
      " [1.39276347e-01 8.07391289e-01]\n",
      " [3.97676837e-01 1.65354197e-01]\n",
      " [9.27508580e-01 3.47765860e-01]\n",
      " [7.50812103e-01 7.25997985e-01]\n",
      " [8.83306091e-01 6.23672207e-01]\n",
      " [7.50942434e-01 3.48898342e-01]\n",
      " [2.69927892e-01 8.95886218e-01]\n",
      " [4.28091190e-01 9.64840047e-01]\n",
      " [6.63441498e-01 6.21695720e-01]\n",
      " [1.14745973e-01 9.49489259e-01]\n",
      " [4.49912133e-01 5.78389614e-01]\n",
      " [4.08136803e-01 2.37026980e-01]\n",
      " [9.03379521e-01 5.73679487e-01]\n",
      " [2.87032703e-03 6.17144914e-01]\n",
      " [3.26644902e-01 5.27058102e-01]\n",
      " [8.85942099e-01 3.57269760e-01]\n",
      " [9.08535151e-01 6.23360116e-01]\n",
      " [1.58212428e-02 9.29437234e-01]\n",
      " [6.90896918e-01 9.97322850e-01]\n",
      " [1.72340508e-01 1.37135750e-01]\n",
      " [9.32595463e-01 6.96818161e-01]\n",
      " [6.60001727e-02 7.55463053e-01]\n",
      " [7.53876188e-01 9.23024536e-01]\n",
      " [7.11524759e-01 1.24270962e-01]\n",
      " [1.98801338e-02 2.62109869e-02]\n",
      " [2.83064880e-02 2.46211068e-01]\n",
      " [8.60027949e-01 5.38831064e-01]\n",
      " [5.52821979e-01 8.42030892e-01]\n",
      " [1.24173315e-01 2.79183679e-01]\n",
      " [5.85759271e-01 9.69595748e-01]\n",
      " [5.61030219e-01 1.86472894e-02]\n",
      " [8.00632673e-01 2.32974274e-01]\n",
      " [8.07105196e-01 3.87860644e-01]\n",
      " [8.63541855e-01 7.47121643e-01]\n",
      " [5.56240234e-01 1.36455226e-01]\n",
      " [5.99176895e-02 1.21343456e-01]\n",
      " [4.45518785e-02 1.07494129e-01]\n",
      " [2.25709339e-01 7.12988980e-01]\n",
      " [5.59716982e-01 1.25559802e-02]\n",
      " [7.19742797e-02 9.67276330e-01]\n",
      " [5.68100462e-01 2.03293235e-01]\n",
      " [2.52325745e-01 7.43825854e-01]\n",
      " [1.95429481e-01 5.81358927e-01]\n",
      " [9.70019989e-01 8.46828801e-01]\n",
      " [2.39847759e-01 4.93769714e-01]\n",
      " [6.19955718e-01 8.28980900e-01]\n",
      " [1.56791395e-01 1.85762022e-02]\n",
      " [7.00221437e-02 4.86345111e-01]\n",
      " [6.06329462e-01 5.68851437e-01]\n",
      " [3.17362409e-01 9.88616154e-01]\n",
      " [5.79745219e-01 3.80141173e-01]\n",
      " [5.50948219e-01 7.45334431e-01]\n",
      " [6.69232893e-01 2.64919558e-01]\n",
      " [6.63348344e-02 3.70084198e-01]\n",
      " [6.29717507e-01 2.10174010e-01]\n",
      " [7.52755554e-01 6.65364814e-02]\n",
      " [2.60315099e-01 8.04754564e-01]\n",
      " [1.93434283e-01 6.39460881e-01]\n",
      " [5.24670309e-01 9.24807970e-01]\n",
      " [2.63296770e-01 6.59610907e-02]\n",
      " [7.35065963e-01 7.72178030e-01]\n",
      " [9.07815853e-01 9.31972069e-01]\n",
      " [1.39515730e-02 2.34362086e-01]\n",
      " [6.16778357e-01 9.49016321e-01]\n",
      " [9.50176119e-01 5.56653188e-01]\n",
      " [9.15606350e-01 6.41566209e-01]\n",
      " [3.90007714e-01 4.85990667e-01]\n",
      " [6.04310483e-01 5.49547922e-01]\n",
      " [9.26181427e-01 9.18733436e-01]\n",
      " [3.94875613e-01 9.63262528e-01]\n",
      " [1.73955667e-01 1.26329519e-01]\n",
      " [1.35079158e-01 5.05662166e-01]\n",
      " [2.15248053e-02 9.47970211e-01]\n",
      " [8.27115471e-01 1.50189807e-02]\n",
      " [1.76196256e-01 3.32063574e-01]\n",
      " [1.30996845e-01 8.09490692e-01]\n",
      " [3.44736653e-01 9.40107482e-01]\n",
      " [5.82014180e-01 8.78831984e-01]\n",
      " [8.44734445e-01 9.05392319e-01]\n",
      " [4.59880266e-01 5.46346816e-01]\n",
      " [7.98603591e-01 2.85718852e-01]\n",
      " [4.90253523e-01 5.99110308e-01]\n",
      " [1.55332756e-02 5.93481408e-01]\n",
      " [4.33676349e-01 8.07360529e-01]\n",
      " [3.15244803e-01 8.92888709e-01]\n",
      " [5.77857215e-01 1.84010202e-01]\n",
      " [7.87929234e-01 6.12031177e-01]\n",
      " [5.39092721e-02 4.20193680e-01]\n",
      " [6.79068837e-01 9.18601778e-01]\n",
      " [4.02024891e-04 9.76759149e-01]\n",
      " [3.76580315e-01 9.73783538e-01]\n",
      " [6.04716101e-01 8.28845808e-01]]\n",
      "[[0], [1], [1], [1], [1], [0], [0], [1], [1], [1], [0], [0], [0], [1], [0], [1], [0], [0], [0], [1], [0], [0], [1], [0], [1], [1], [1], [1], [1], [0], [1], [0], [1], [0], [0], [0], [1], [1], [0], [0], [0], [0], [0], [0], [0], [0], [0], [1], [0], [1], [1], [0], [0], [1], [0], [1], [0], [1], [0], [1], [1], [1], [0], [0], [1], [0], [1], [0], [0], [0], [1], [1], [1], [1], [1], [0], [1], [1], [1], [0], [1], [0], [1], [1], [0], [0], [1], [0], [1], [1], [1], [1], [0], [1], [0], [1], [0], [0], [1], [0], [0], [0], [1], [0], [0], [0], [1], [1], [1], [1], [1], [1], [0], [0], [0], [0], [0], [0], [1], [0], [0], [1], [0], [1], [0], [1], [0], [0]]\n",
      "[[-0.8113182   1.4845988   0.06532937]\n",
      " [-2.4427042   0.0992484   0.5912243 ]]\n",
      "[[-0.8113182 ]\n",
      " [ 1.4845988 ]\n",
      " [ 0.06532937]]\n",
      "After 0 training_step(s) ,cross_entropy on all data is 0.0674925\n",
      "After 1000 training_step(s) ,cross_entropy on all data is 0.0163385\n",
      "After 2000 training_step(s) ,cross_entropy on all data is 0.00907547\n",
      "After 3000 training_step(s) ,cross_entropy on all data is 0.00714436\n",
      "After 4000 training_step(s) ,cross_entropy on all data is 0.00578471\n",
      "[[-1.9618275  2.582354   1.6820377]\n",
      " [-3.4681718  1.0698231  2.11789  ]]\n",
      "[[-1.824715 ]\n",
      " [ 2.6854665]\n",
      " [ 1.418195 ]]\n"
     ]
    }
   ],
   "source": [
    "import tensorflow as tf\n",
    "from numpy.random import RandomState\n",
    "\n",
    "batch_size=8\n",
    "\n",
    "w1 = tf.Variable(tf.random_normal([2,3],stddev=1,seed=1))\n",
    "w2 = tf.Variable(tf.random_normal([3,1],stddev=1,seed=1))\n",
    "\n",
    "x = tf.placeholder(tf.float32,shape=(None,2),name='x_input')\n",
    "y_ = tf.placeholder(tf.float32,shape=(None,1),name ='y_input')\n",
    "\n",
    "a = tf.matmul(x,w1)\n",
    "y = tf.matmul(a,w2)\n",
    "\n",
    "#tf.clip_by_value()可以将计算的数值限制在一个范围内（1e-10~1.0）\n",
    "#y_表示真实值，y表示预测值，定义的是交叉熵损失函数\n",
    "#对于回归问题，最常用的损失函数是均方误差（MSE）mse = tf.reduce_mean(tf.square(y_-y))\n",
    "cross_entropy = -tf.reduce_mean(\n",
    "            y_*tf.log(tf.clip_by_value(y,1e-10,1.0)))\n",
    "#多分类问题适合softmax+cross_entrpy\n",
    "#cross_entropy2 = tf.nn.softmax_cross_entropy_with_logits(y,y_)\n",
    "train_step = tf.train.AdamOptimizer(0.001).minimize(cross_entropy)\n",
    "\n",
    "rdm = RandomState(1)\n",
    "dataset_size=128\n",
    "X = rdm.rand(dataset_size,2)\n",
    "print(X)\n",
    "Y = [[int(x1+x2<1)] for (x1,x2) in X]\n",
    "print(Y)\n",
    "with tf.Session() as sess:\n",
    "    init_op = tf.initialize_all_variables()\n",
    "    sess.run(init_op)\n",
    "    print (sess.run(w1))\n",
    "    print (sess.run(w2))\n",
    "    \n",
    "    steps = 5000\n",
    "    for i in range(steps):\n",
    "        start = (i*batch_size)%dataset_size\n",
    "        end = min(start+batch_size,dataset_size)\n",
    "        \n",
    "        sess.run(train_step,feed_dict = {x:X[start:end],y_:Y[start:end]})\n",
    "        if i%1000==0:\n",
    "            total_cross_entropy = sess.run(\n",
    "                cross_entropy,feed_dict={x:X,y_:Y})\n",
    "            print(\"After %d training_step(s) ,cross_entropy on all data is %g\"%(i,total_cross_entropy))\n",
    "    print (sess.run(w1))\n",
    "    print (sess.run(w2))"
   ]
  },
  {
   "cell_type": "code",
   "execution_count": null,
   "metadata": {},
   "outputs": [],
   "source": []
  },
  {
   "cell_type": "code",
   "execution_count": null,
   "metadata": {},
   "outputs": [],
   "source": []
  },
  {
   "cell_type": "code",
   "execution_count": null,
   "metadata": {},
   "outputs": [],
   "source": []
  },
  {
   "cell_type": "code",
   "execution_count": null,
   "metadata": {},
   "outputs": [],
   "source": []
  }
 ],
 "metadata": {
  "kernelspec": {
   "display_name": "Python 3",
   "language": "python",
   "name": "python3"
  },
  "language_info": {
   "codemirror_mode": {
    "name": "ipython",
    "version": 3
   },
   "file_extension": ".py",
   "mimetype": "text/x-python",
   "name": "python",
   "nbconvert_exporter": "python",
   "pygments_lexer": "ipython3",
   "version": "3.6.6"
  },
  "toc": {
   "base_numbering": 1,
   "nav_menu": {},
   "number_sections": true,
   "sideBar": true,
   "skip_h1_title": false,
   "title_cell": "Table of Contents",
   "title_sidebar": "Contents",
   "toc_cell": false,
   "toc_position": {},
   "toc_section_display": true,
   "toc_window_display": false
  }
 },
 "nbformat": 4,
 "nbformat_minor": 2
}
