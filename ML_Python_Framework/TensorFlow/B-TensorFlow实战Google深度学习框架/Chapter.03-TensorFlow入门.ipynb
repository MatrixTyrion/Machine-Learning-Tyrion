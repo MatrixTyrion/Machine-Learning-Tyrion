{
 "cells": [
  {
   "cell_type": "code",
   "execution_count": 1,
   "metadata": {},
   "outputs": [],
   "source": [
    "import tensorflow as tf"
   ]
  },
  {
   "cell_type": "markdown",
   "metadata": {},
   "source": [
    "**`tf.get_default_graph() : 获取当前默认计算图`**"
   ]
  },
  {
   "cell_type": "code",
   "execution_count": 2,
   "metadata": {},
   "outputs": [],
   "source": [
    "a = tf.constant(1)"
   ]
  },
  {
   "cell_type": "code",
   "execution_count": 3,
   "metadata": {},
   "outputs": [
    {
     "data": {
      "text/plain": [
       "True"
      ]
     },
     "execution_count": 3,
     "metadata": {},
     "output_type": "execute_result"
    }
   ],
   "source": [
    "a.graph is tf.get_default_graph()"
   ]
  },
  {
   "cell_type": "code",
   "execution_count": null,
   "metadata": {},
   "outputs": [],
   "source": []
  },
  {
   "cell_type": "markdown",
   "metadata": {},
   "source": [
    "+ **`tf.get_variable() & tf.Variable()`**\n",
    "+ **`tf.Graph()`**\n",
    "+ **`tf.variable_scope()`**"
   ]
  },
  {
   "cell_type": "code",
   "execution_count": 4,
   "metadata": {},
   "outputs": [],
   "source": [
    "g1 = tf.Graph()\n",
    "with g1.as_default():\n",
    "    v = tf.get_variable('v', initializer=tf.zeros(shape=[1]))\n",
    "\n",
    "g2 = tf.Graph()\n",
    "with g2.as_default():\n",
    "    v = tf.get_variable('v', initializer=tf.ones(shape=[1]))"
   ]
  },
  {
   "cell_type": "code",
   "execution_count": 5,
   "metadata": {},
   "outputs": [
    {
     "name": "stdout",
     "output_type": "stream",
     "text": [
      "[0.] in Graph-01\n",
      "[1.] in Graph-02\n"
     ]
    }
   ],
   "source": [
    "with tf.Session(graph=g1) as sess:\n",
    "    tf.global_variables_initializer().run()\n",
    "    with tf.variable_scope(\"\", reuse=True):\n",
    "        print(sess.run(tf.get_variable('v')), \"in Graph-01\")\n",
    "\n",
    "with tf.Session(graph=g2) as sess:\n",
    "    tf.global_variables_initializer().run()\n",
    "    with tf.variable_scope(\"\", reuse=True):\n",
    "        print(sess.run(tf.get_variable('v')), \"in Graph-02\")"
   ]
  },
  {
   "cell_type": "code",
   "execution_count": 6,
   "metadata": {},
   "outputs": [
    {
     "name": "stdout",
     "output_type": "stream",
     "text": [
      "[0.]\n",
      "[[[1. 1. 1.]\n",
      "  [1. 1. 1.]]]\n"
     ]
    }
   ],
   "source": [
    "g = tf.Graph()\n",
    "with g.as_default():\n",
    "    zero = tf.Variable(initial_value=tf.zeros(shape=[1]), name='Var')\n",
    "    one = tf.Variable(initial_value=tf.ones(shape=[1,2,3]), name='Var1')\n",
    "    \n",
    "with tf.Session(graph=g) as sess:\n",
    "    init = tf.global_variables_initializer()\n",
    "    sess.run(init)\n",
    "    print(sess.run(zero))\n",
    "    print(sess.run(one))"
   ]
  },
  {
   "cell_type": "code",
   "execution_count": null,
   "metadata": {},
   "outputs": [],
   "source": []
  },
  {
   "cell_type": "markdown",
   "metadata": {},
   "source": [
    "**`tf.GraphKeys`**"
   ]
  },
  {
   "cell_type": "markdown",
   "metadata": {},
   "source": [
    "+ tf.GraphKeys.**GLOBAL_VARIABLES**\n",
    "    + 默认的 Variable 对象集合，在分布式环境共性\n",
    "    + 使用场景：持久化 Tensorflow 模型\n",
    "\n",
    "\n",
    "+ tf.GraphKeys.**LOCAL_VARIABLES**\n",
    "    + 每台计算机的局部变量\n",
    "    + 通常用于临时变量，如：计数器\n",
    "    + 使用 tf.contrib.framework.local_variable 添加到此集合\n",
    "\n",
    "\n",
    "+ tf.GraphKeys.**MODEL_VARIABLES**\n",
    "    + 在构建模型时，所有用于正向传播的 Variable 都将添加到这里\n",
    "    + 使用 tf.contrib.framework.model_variable 添加到此集合\n",
    "\n",
    "\n",
    "+ tf.GraphKeys.**TRAINABLE_VARIABLES**\n",
    "    + 将有优化器训练的变量\n",
    "    + tf.trainable_variables()\n",
    "\n",
    "\n",
    "+ tf.GraphKeys.**SUMMARIES**\n",
    "    + 日志生成相关的张量\n",
    "    + Tensorflow 计算可视化\n",
    "\n",
    "\n",
    "+ tf.GraphKeys.**MOVING_AVERAGE_VARIABLES**\n",
    "    + 所有计算了滑动平均值的变量\n",
    "    + tf.moving_average_variables\n",
    "\n",
    "\n",
    "+ tf.GraphKeys.**REGULARIZATION_LOSSES**\n",
    "    + 收集在图构造期间正则化损失"
   ]
  },
  {
   "cell_type": "markdown",
   "metadata": {},
   "source": [
    "**`tf.GraphKeys 使用`**"
   ]
  },
  {
   "cell_type": "code",
   "execution_count": null,
   "metadata": {},
   "outputs": [],
   "source": []
  },
  {
   "cell_type": "markdown",
   "metadata": {},
   "source": [
    "**`Tensor`**"
   ]
  },
  {
   "cell_type": "code",
   "execution_count": 7,
   "metadata": {},
   "outputs": [
    {
     "name": "stdout",
     "output_type": "stream",
     "text": [
      "Tensor(\"add:0\", shape=(4, 3), dtype=int32)\n"
     ]
    }
   ],
   "source": [
    "a = tf.constant([[1,2,3],[1,2,3],[1,2,3],[1,2,3]], name='a')\n",
    "b = tf.constant([[3,4,5],[3,4,5],[3,4,5],[3,4,5]], name='b')\n",
    "\n",
    "result = tf.add(a,b, name='add')\n",
    "print(result)"
   ]
  },
  {
   "cell_type": "code",
   "execution_count": 8,
   "metadata": {},
   "outputs": [
    {
     "data": {
      "text/plain": [
       "TensorShape([Dimension(4), Dimension(3)])"
      ]
     },
     "execution_count": 8,
     "metadata": {},
     "output_type": "execute_result"
    }
   ],
   "source": [
    "result.get_shape()"
   ]
  },
  {
   "cell_type": "code",
   "execution_count": null,
   "metadata": {},
   "outputs": [],
   "source": []
  },
  {
   "cell_type": "markdown",
   "metadata": {},
   "source": [
    "**`tf.Session()`**"
   ]
  },
  {
   "cell_type": "code",
   "execution_count": 9,
   "metadata": {},
   "outputs": [],
   "source": [
    "sess = tf.Session()\n",
    "# sess.run(...)\n",
    "sess.close()"
   ]
  },
  {
   "cell_type": "code",
   "execution_count": 10,
   "metadata": {},
   "outputs": [
    {
     "name": "stdout",
     "output_type": "stream",
     "text": [
      "[[4 6 8]\n",
      " [4 6 8]\n",
      " [4 6 8]\n",
      " [4 6 8]]\n"
     ]
    }
   ],
   "source": [
    "with tf.Session() as sess:\n",
    "    print(sess.run(result))"
   ]
  },
  {
   "cell_type": "code",
   "execution_count": null,
   "metadata": {},
   "outputs": [],
   "source": []
  },
  {
   "cell_type": "markdown",
   "metadata": {},
   "source": [
    "**`tf.Tensor.eval() / sess.run(t)`**"
   ]
  },
  {
   "cell_type": "markdown",
   "metadata": {},
   "source": [
    "+ Basic Usage"
   ]
  },
  {
   "cell_type": "code",
   "execution_count": 11,
   "metadata": {},
   "outputs": [],
   "source": [
    "test = tf.constant([1,2,3], name='test')"
   ]
  },
  {
   "cell_type": "code",
   "execution_count": 12,
   "metadata": {},
   "outputs": [
    {
     "name": "stdout",
     "output_type": "stream",
     "text": [
      "True\n",
      "[ True  True  True]\n",
      "[1 2 3]\n",
      "[1 2 3]\n"
     ]
    }
   ],
   "source": [
    "sess = tf.Session()\n",
    "with sess.as_default():\n",
    "    print(sess is tf.get_default_session())\n",
    "    \n",
    "    print(test.eval() == sess.run(test))\n",
    "    print(test.eval())\n",
    "    print(sess.run(test))"
   ]
  },
  {
   "cell_type": "markdown",
   "metadata": {},
   "source": [
    "+ **`sess.run() 可以一步获取多个tensor中的值`**"
   ]
  },
  {
   "cell_type": "code",
   "execution_count": 13,
   "metadata": {},
   "outputs": [],
   "source": [
    "a = tf.constant([1, 2, 3], name='a')\n",
    "b = tf.constant([3, 4, 5], name='b')"
   ]
  },
  {
   "cell_type": "code",
   "execution_count": 14,
   "metadata": {},
   "outputs": [],
   "source": [
    "add = tf.add(a, b, name='add')\n",
    "mul = tf.multiply(a, b, name='mul')"
   ]
  },
  {
   "cell_type": "code",
   "execution_count": 15,
   "metadata": {},
   "outputs": [
    {
     "name": "stdout",
     "output_type": "stream",
     "text": [
      "[array([4, 6, 8]), array([ 3,  8, 15])]\n",
      "[4 6 8] [ 3  8 15]\n"
     ]
    }
   ],
   "source": [
    "with tf.Session() as sess:\n",
    "    print(sess.run([add, mul]))\n",
    "    print(add.eval(session=sess), mul.eval(session=sess))"
   ]
  },
  {
   "cell_type": "code",
   "execution_count": null,
   "metadata": {},
   "outputs": [],
   "source": []
  },
  {
   "cell_type": "markdown",
   "metadata": {},
   "source": [
    "**`tf.Variable()`**"
   ]
  },
  {
   "cell_type": "code",
   "execution_count": 16,
   "metadata": {},
   "outputs": [
    {
     "name": "stdout",
     "output_type": "stream",
     "text": [
      "[[ 2.543382   -1.1242118   0.19272664]\n",
      " [ 1.2435081   0.7122078   2.5087514 ]]\n",
      "[[ 5.086764   -2.2484236   0.38545328]\n",
      " [ 2.4870162   1.4244156   5.017503  ]]\n"
     ]
    }
   ],
   "source": [
    "weights = tf.Variable(tf.random_normal([2,3], stddev=2))\n",
    "\n",
    "weights_ = tf.Variable(weights.initialized_value() * 2.0)\n",
    "\n",
    "with tf.Session() as sess:\n",
    "    tf.global_variables_initializer().run()\n",
    "    print(sess.run(weights))\n",
    "    print(sess.run(weights_))"
   ]
  },
  {
   "cell_type": "code",
   "execution_count": 17,
   "metadata": {},
   "outputs": [
    {
     "name": "stdout",
     "output_type": "stream",
     "text": [
      "[[ 0.3994433  -0.50394166  0.4995834 ]\n",
      " [ 0.5666524   1.4426688  -2.163211  ]]\n",
      "[[-0.01819523 -0.12233089]\n",
      " [-0.3465839   0.09228471]]\n",
      "\n",
      "[[-0.01819523 -0.12233089]\n",
      " [-0.3465839   0.09228471]]\n",
      "[[-0.01819523 -0.12233089]\n",
      " [-0.3465839   0.09228471]]\n"
     ]
    }
   ],
   "source": [
    "w1 = tf.Variable(tf.random_normal([2,3],stddev=1), name='w1')\n",
    "w2 = tf.Variable(tf.random_normal([2,2],stddev=1), name='w2')\n",
    "\n",
    "with tf.Session() as sess:\n",
    "    tf.global_variables_initializer().run()\n",
    "    print(sess.run(w1))\n",
    "    print(sess.run(w2))\n",
    "    print()\n",
    "    w1 = tf.assign(w1, w2, validate_shape=False)\n",
    "    print(sess.run(w1))\n",
    "    print(sess.run(w2))"
   ]
  },
  {
   "cell_type": "code",
   "execution_count": null,
   "metadata": {},
   "outputs": [],
   "source": []
  },
  {
   "cell_type": "markdown",
   "metadata": {},
   "source": [
    "**`tf.placeholder() & feed_dict=`**"
   ]
  },
  {
   "cell_type": "code",
   "execution_count": 18,
   "metadata": {},
   "outputs": [
    {
     "name": "stdout",
     "output_type": "stream",
     "text": [
      "[[1.0787733  0.60622525 0.8768816 ]]\n"
     ]
    }
   ],
   "source": [
    "w1 = tf.Variable(tf.random_normal([3,2], stddev=1))\n",
    "w2 = tf.Variable(tf.random_normal([1,3], stddev=1))\n",
    "\n",
    "x = tf.placeholder(tf.float32, shape=(2,3), name=\"input\")\n",
    "a = tf.matmul(w1, x)\n",
    "y = tf.matmul(w2, a)\n",
    "\n",
    "with tf.Session() as sess:\n",
    "    tf.global_variables_initializer().run()\n",
    "    res = sess.run(y, feed_dict={\n",
    "        x : [[0.7,0.5,0.5],[0.9,0.4,0.8]]\n",
    "    })\n",
    "    print(res)"
   ]
  },
  {
   "cell_type": "code",
   "execution_count": null,
   "metadata": {},
   "outputs": [],
   "source": []
  },
  {
   "cell_type": "markdown",
   "metadata": {},
   "source": [
    "**`cross_entropy & tf.train.XXX`**"
   ]
  },
  {
   "cell_type": "code",
   "execution_count": 19,
   "metadata": {},
   "outputs": [
    {
     "name": "stdout",
     "output_type": "stream",
     "text": [
      "[[-3.114949  -2.2617693 -2.2011478]]\n"
     ]
    }
   ],
   "source": [
    "w1 = tf.Variable(tf.random_normal([3,2], stddev=1))\n",
    "w2 = tf.Variable(tf.random_normal([1,3], stddev=1))\n",
    "\n",
    "x = tf.placeholder(tf.float32, shape=(2,3), name=\"input\")\n",
    "a = tf.matmul(w1, x)\n",
    "y = tf.matmul(w2, a)\n",
    "y_ = [[-1.5, -0.5, 1]]\n",
    "\n",
    "cross_entropy = tf.reduce_mean(y_ * tf.log(tf.clip_by_value(y, 1e-10, 1.0)))\n",
    "\n",
    "learning_rate = 0.001\n",
    "train_step = tf.train.AdadeltaOptimizer(learning_rate).minimize(cross_entropy)\n",
    "\n",
    "with tf.Session() as sess:\n",
    "    tf.global_variables_initializer().run()\n",
    "    res = sess.run(y, feed_dict={\n",
    "        x : [[0.7,0.5,0.5],[0.9,0.4,0.8]]\n",
    "    })\n",
    "    print(res)\n",
    "    tf.trainable_variables()"
   ]
  },
  {
   "cell_type": "code",
   "execution_count": null,
   "metadata": {},
   "outputs": [],
   "source": []
  },
  {
   "cell_type": "markdown",
   "metadata": {},
   "source": [
    "**`完整神经网络训练样例`**"
   ]
  },
  {
   "cell_type": "code",
   "execution_count": 20,
   "metadata": {
    "scrolled": false
   },
   "outputs": [
    {
     "name": "stdout",
     "output_type": "stream",
     "text": [
      "WARNING:tensorflow:From C:\\Matrix\\Jupyter\\lib\\site-packages\\tensorflow\\python\\util\\tf_should_use.py:118: initialize_all_variables (from tensorflow.python.ops.variables) is deprecated and will be removed after 2017-03-02.\n",
      "Instructions for updating:\n",
      "Use `tf.global_variables_initializer` instead.\n",
      "After 0 training_step(s) ,cross_entropy on all data is 0.0674925\n",
      "After 1000 training_step(s) ,cross_entropy on all data is 0.0163385\n",
      "After 2000 training_step(s) ,cross_entropy on all data is 0.00907547\n",
      "After 3000 training_step(s) ,cross_entropy on all data is 0.00714436\n",
      "After 4000 training_step(s) ,cross_entropy on all data is 0.00578471\n"
     ]
    }
   ],
   "source": [
    "import tensorflow as tf\n",
    "from numpy.random import RandomState\n",
    "\n",
    "batch_size=8\n",
    "\n",
    "w1 = tf.Variable(tf.random_normal([2,3],stddev=1,seed=1))\n",
    "w2 = tf.Variable(tf.random_normal([3,1],stddev=1,seed=1))\n",
    "\n",
    "x = tf.placeholder(tf.float32,shape=(None,2),name='x_input')\n",
    "y_ = tf.placeholder(tf.float32,shape=(None,1),name ='y_input')\n",
    "\n",
    "a = tf.matmul(x,w1)\n",
    "y = tf.matmul(a,w2)\n",
    "\n",
    "#tf.clip_by_value()可以将计算的数值限制在一个范围内（1e-10~1.0）\n",
    "#y_表示真实值，y表示预测值，定义的是交叉熵损失函数\n",
    "#对于回归问题，最常用的损失函数是均方误差（MSE）mse = tf.reduce_mean(tf.square(y_-y))\n",
    "cross_entropy = -tf.reduce_mean(\n",
    "            y_*tf.log(tf.clip_by_value(y,1e-10,1.0)))\n",
    "#多分类问题适合softmax+cross_entrpy\n",
    "#cross_entropy2 = tf.nn.softmax_cross_entropy_with_logits(y,y_)\n",
    "train_step = tf.train.AdamOptimizer(0.001).minimize(cross_entropy)\n",
    "\n",
    "rdm = RandomState(1)\n",
    "dataset_size=128\n",
    "X = rdm.rand(dataset_size,2)\n",
    "Y = [[int(x1+x2<1)] for (x1,x2) in X]\n",
    "\n",
    "with tf.Session() as sess:\n",
    "    init_op = tf.initialize_all_variables()\n",
    "    sess.run(init_op)\n",
    "    \n",
    "    steps = 5000\n",
    "    for i in range(steps):\n",
    "        start = (i*batch_size)%dataset_size\n",
    "        end = min(start+batch_size,dataset_size)\n",
    "        \n",
    "        sess.run(train_step,feed_dict = {x:X[start:end],y_:Y[start:end]})\n",
    "        if i%1000==0:\n",
    "            total_cross_entropy = sess.run(\n",
    "                cross_entropy,feed_dict={x:X,y_:Y})\n",
    "            print(\"After %d training_step(s) ,cross_entropy on all data is %g\"%(i,total_cross_entropy))"
   ]
  },
  {
   "cell_type": "code",
   "execution_count": null,
   "metadata": {},
   "outputs": [],
   "source": []
  },
  {
   "cell_type": "code",
   "execution_count": null,
   "metadata": {},
   "outputs": [],
   "source": []
  },
  {
   "cell_type": "code",
   "execution_count": null,
   "metadata": {},
   "outputs": [],
   "source": []
  },
  {
   "cell_type": "code",
   "execution_count": null,
   "metadata": {},
   "outputs": [],
   "source": []
  }
 ],
 "metadata": {
  "kernelspec": {
   "display_name": "Python 3",
   "language": "python",
   "name": "python3"
  },
  "language_info": {
   "codemirror_mode": {
    "name": "ipython",
    "version": 3
   },
   "file_extension": ".py",
   "mimetype": "text/x-python",
   "name": "python",
   "nbconvert_exporter": "python",
   "pygments_lexer": "ipython3",
   "version": "3.6.7"
  },
  "toc": {
   "base_numbering": 1,
   "nav_menu": {},
   "number_sections": true,
   "sideBar": true,
   "skip_h1_title": false,
   "title_cell": "Table of Contents",
   "title_sidebar": "Contents",
   "toc_cell": false,
   "toc_position": {},
   "toc_section_display": true,
   "toc_window_display": false
  }
 },
 "nbformat": 4,
 "nbformat_minor": 2
}
