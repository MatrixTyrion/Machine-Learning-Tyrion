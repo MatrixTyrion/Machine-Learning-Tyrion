{
 "cells": [
  {
   "cell_type": "markdown",
   "metadata": {},
   "source": [
    "![``sklearn model select``](dataset/sklearn_map.png)"
   ]
  },
  {
   "cell_type": "code",
   "execution_count": 1,
   "metadata": {},
   "outputs": [],
   "source": [
    "import sklearn as sk"
   ]
  },
  {
   "cell_type": "code",
   "execution_count": 2,
   "metadata": {},
   "outputs": [],
   "source": [
    "import numpy as np\n",
    "import scipy as sp\n",
    "import matplotlib.pyplot as plt\n",
    "import tensorflow as tf"
   ]
  },
  {
   "cell_type": "markdown",
   "metadata": {},
   "source": [
    "# **`机器学习基本流程`**"
   ]
  },
  {
   "cell_type": "markdown",
   "metadata": {},
   "source": [
    "**`3 Part`**\n",
    "+ 数据准备与预处理\n",
    "+ 模型选择与训练\n",
    "+ 模型验证与参数调优\n",
    "--------------\n",
    "+ **`特征工程`**: 数据清洗, 数据标准化, 特征选取, 特征降维\n",
    "+ **`模型选取`**: 超参数确定\n",
    "+ **`模型验证`**: 利用各种不同指标对模型性能进行检验"
   ]
  },
  {
   "cell_type": "markdown",
   "metadata": {},
   "source": [
    "**`6 Steps`**\n",
    "+ 首先应该加载训练模型所用的数据集\n",
    "+ 采用合适的比例将数据集划分为训练集和测试\n",
    "+ 选取合适或者创建合适的训练模型\n",
    "+ 将训练集中的数据输入到模型中进行训练\n",
    "+ 通过第四步的训练大致确定模型所用的合理参数\n",
    "+ 将测试集中的数据输入到模型中，根据模型得到的结果和真实的结果进行比较再次调整参数"
   ]
  },
  {
   "cell_type": "markdown",
   "metadata": {},
   "source": [
    "---------------"
   ]
  },
  {
   "cell_type": "markdown",
   "metadata": {},
   "source": [
    "**`Scikit-leanr level`**\n",
    "+ `调用`：知道算法的基本思想，能应用现有的库来做測试。简单说，就是了解kNN是做什么的，会调用sklearn中的kNN算法。\n",
    "+ `调參`：知道算法的主要影响參数，能进行參数调节优化。\n",
    "+ `嚼透`：理解算法的实现细节，而且能用代码实现出来。"
   ]
  },
  {
   "cell_type": "markdown",
   "metadata": {},
   "source": [
    "--------------------"
   ]
  },
  {
   "cell_type": "markdown",
   "metadata": {},
   "source": [
    "# Sklearn six parts"
   ]
  },
  {
   "cell_type": "markdown",
   "metadata": {},
   "source": [
    "**`分类`**\n",
    "+ 识别某个对象属于哪个类\n",
    "+ 应用:垃圾邮件检测, 图像识别\n",
    "+ 算法:SVM, nearest neighbors, random forest\n",
    "\n",
    "**`回归`**\n",
    "+ 预测与对象相关联的连续值属性\n",
    "+ 应用:药物反应, 股价\n",
    "+ 算法:SVR, ridge regression, Lasso\n",
    "\n",
    "**`聚类`**\n",
    "+ 将相似对象自动分组\n",
    "+ 应用:客户细分, 分组实验结果\n",
    "+ 算法: k-means, spectral clustering, mean-shirt\n",
    "\n",
    "**`降维`**\n",
    "+ 减少要考虑的随机变量的数量\n",
    "+ 应用:可视化, 提高效率\n",
    "+ 算法: PCA, feature selection, non-negative matrix factorization\n",
    "\n",
    "**`模型选择`**\n",
    "+ 比较, 验证, 选择参数和模型\n",
    "+ 目标: 通过参数调整提高精度\n",
    "+ 模型: grid search, cross validation, metrics\n",
    "\n",
    "**`预处理`**\n",
    "+ 特征提取和归一化\n",
    "+ 应用: 把输入数据(如本文)转换为机器学习算法可用的数据\n",
    "+ preprocessing, feature extraction"
   ]
  },
  {
   "cell_type": "markdown",
   "metadata": {},
   "source": [
    "------------------"
   ]
  },
  {
   "cell_type": "markdown",
   "metadata": {},
   "source": [
    "# **`API Reference`**"
   ]
  },
  {
   "cell_type": "markdown",
   "metadata": {},
   "source": [
    "**`sklearn.calibration`**: Probability Calibration / 概率校准\n",
    "+ Calibration of predicted probabilities."
   ]
  },
  {
   "cell_type": "markdown",
   "metadata": {},
   "source": [
    "**`sklearn.cluster`**: Clustering / 聚类\n",
    "+ The sklearn.cluster module gathers popular unsupervised clustering algorithms."
   ]
  },
  {
   "cell_type": "markdown",
   "metadata": {},
   "source": [
    "**`sklearn.datasets`**: Datasets / 数据集\n",
    "+ The sklearn.datasets module includes utilities to load datasets, including methods to load and fetch popular reference datasets. It also features some artificial data generators."
   ]
  },
  {
   "cell_type": "markdown",
   "metadata": {},
   "source": [
    "**`sklearn.exceptions`**: Exceptions and warnings / 异常和警告\n",
    "+ The sklearn.exceptions module includes all custom warnings and error classes used across scikit-learn."
   ]
  },
  {
   "cell_type": "markdown",
   "metadata": {},
   "source": [
    "**`sklearn.feature_extraction`**: Feature Extraction / 特征提取\n",
    "+ The sklearn.feature_extraction module deals with feature extraction from raw data. It currently includes methods to extract features from text and images."
   ]
  },
  {
   "cell_type": "markdown",
   "metadata": {},
   "source": [
    "**`sklearn.linear_model`**: Generalized Linear Models / 广义线性模型\n",
    "+ The sklearn.linear_model module implements generalized linear models. It includes Ridge regression, Bayesian Regression, Lasso and Elastic Net estimators computed with Least Angle Regression and coordinate descent. It also implements Stochastic Gradient Descent related algorithms."
   ]
  },
  {
   "cell_type": "markdown",
   "metadata": {},
   "source": [
    "**`sklearn.metrics`**: Metrics / 指标\n",
    "+ The sklearn.metrics module includes score functions, performance metrics and pairwise metrics and distance computations."
   ]
  },
  {
   "cell_type": "markdown",
   "metadata": {},
   "source": [
    "**`sklearn.model_selection`**: Model Selection / 模型选择"
   ]
  },
  {
   "cell_type": "markdown",
   "metadata": {},
   "source": [
    "**`sklearn.multiclass`**: Multiclass and multilabel classification / 多类别和多标签分类\n",
    "\n",
    "This module implements multiclass learning algorithms:\n",
    "\n",
    "        one-vs-the-rest / one-vs-all\n",
    "        one-vs-one\n",
    "        error correcting output codes"
   ]
  },
  {
   "cell_type": "markdown",
   "metadata": {},
   "source": [
    "**`sklearn.naive_bayes`**: Naive Bayes / 朴素贝叶斯\n",
    "+ The sklearn.naive_bayes module implements Naive Bayes algorithms. These are supervised learning methods based on applying Bayes’ theorem with strong (naive) feature independence assumptions."
   ]
  },
  {
   "cell_type": "markdown",
   "metadata": {},
   "source": [
    "**`sklearn.neighbors`**: Nearest Neighbors / 最近邻\n",
    "+ The sklearn.neighbors module implements the k-nearest neighbors algorithm."
   ]
  },
  {
   "cell_type": "markdown",
   "metadata": {},
   "source": [
    "**`sklearn.neural_network`**: Neural network models / 神经网络模型\n",
    "+ The sklearn.neural_network module includes models based on neural networks."
   ]
  },
  {
   "cell_type": "markdown",
   "metadata": {},
   "source": [
    "**`sklearn.pipeline`**: Pipeline / 管道线\n",
    "+ The sklearn.pipeline module implements utilities to build a composite estimator, as a chain of transforms and estimators."
   ]
  },
  {
   "cell_type": "markdown",
   "metadata": {},
   "source": [
    "**`sklearn.preprocessing`**: Preprocessing and Normalization / 预处理和正则化\n",
    "+ The sklearn.preprocessing module includes scaling, centering, normalization, binarization and imputation methods."
   ]
  },
  {
   "cell_type": "markdown",
   "metadata": {},
   "source": [
    "**`sklearn.semi_supervised`**:Semi-Supervised Learning / 半监督学习\n",
    "+ The sklearn.semi_supervised module implements semi-supervised learning algorithms. These algorithms utilized small amounts of labeled data and large amounts of unlabeled data for classification tasks. This module includes Label Propagation."
   ]
  },
  {
   "cell_type": "markdown",
   "metadata": {},
   "source": [
    "**`sklearn.svm`**: Support Vector Machines / 支持向量机\n",
    "+ The sklearn.svm module includes Support Vector Machine algorithms."
   ]
  },
  {
   "cell_type": "markdown",
   "metadata": {},
   "source": [
    "**`sklearn.tree`**: Decision Trees / 决策树\n",
    "+ The sklearn.tree module includes decision tree-based models for classification and regression."
   ]
  },
  {
   "cell_type": "markdown",
   "metadata": {},
   "source": [
    "---------"
   ]
  },
  {
   "cell_type": "markdown",
   "metadata": {},
   "source": [
    "**`sklearn.cluster.bicluster`**: Biclustering / 双向聚类\n",
    "+ Spectral biclustering algorithms."
   ]
  },
  {
   "cell_type": "markdown",
   "metadata": {},
   "source": [
    "**`sklearn.covariance`**: Covariance Estimators / 协方差估计\n",
    "+ The sklearn.covariance module includes methods and algorithms to robustly estimate the covariance of features given a set of points. The precision matrix defined as the inverse of the covariance is also estimated. Covariance estimation is closely related to the theory of Gaussian Graphical Models."
   ]
  },
  {
   "cell_type": "markdown",
   "metadata": {},
   "source": [
    "**`sklearn.cross_decomposition`**: Cross decomposition / 交叉分解"
   ]
  },
  {
   "cell_type": "markdown",
   "metadata": {},
   "source": [
    "**`sklearn.decomposition`**: Matrix Decomposition / 矩阵分解\n",
    "+ The sklearn.decomposition module includes matrix decomposition algorithms, including among others PCA, NMF or ICA. Most of the algorithms of this module can be regarded as dimensionality reduction techniques."
   ]
  },
  {
   "cell_type": "markdown",
   "metadata": {},
   "source": [
    "**`sklearn.discriminant_analysis`**: Discriminant Analysis / 判别分析\n",
    "+ Linear Discriminant Analysis and Quadratic Discriminant Analysis"
   ]
  },
  {
   "cell_type": "markdown",
   "metadata": {},
   "source": [
    "**`sklearn.dummy`**: Dummy estimators / 虚拟估计器"
   ]
  },
  {
   "cell_type": "markdown",
   "metadata": {},
   "source": [
    "**`sklearn.ensemble`**: Ensemble Methods / 集成方法\n",
    "+ The sklearn.ensemble module includes ensemble-based methods for classification, regression and anomaly detection."
   ]
  },
  {
   "cell_type": "markdown",
   "metadata": {},
   "source": [
    "**`sklearn.gaussian_process`**: Gaussian Processes / 高斯过程\n",
    "+ The sklearn.gaussian_process module implements Gaussian Process based regression and classification."
   ]
  },
  {
   "cell_type": "markdown",
   "metadata": {},
   "source": [
    "**`sklearn.isotonic`**: Isotonic regression / 保序回归"
   ]
  },
  {
   "cell_type": "markdown",
   "metadata": {},
   "source": [
    "**`sklearn.kernel_approximation`**: Kernel Approximation / 核近似\n",
    "+ The sklearn.kernel_approximation module implements several approximate kernel feature maps base on Fourier transforms."
   ]
  },
  {
   "cell_type": "markdown",
   "metadata": {},
   "source": [
    "**`sklearn.kernel_ridge`**: Kernel Ridge Regression / 内核岭回归\n",
    "+ Module sklearn.kernel_ridge implements kernel ridge regression."
   ]
  },
  {
   "cell_type": "markdown",
   "metadata": {},
   "source": [
    "**`sklearn.manifold`**: Manifold Learning / 集成学习\n",
    "+ The sklearn.manifold module implements data embedding techniques."
   ]
  },
  {
   "cell_type": "markdown",
   "metadata": {},
   "source": [
    "**`sklearn.mixture`**: Gaussian Mixture Models / 高斯混合模型\n",
    "+ The sklearn.mixture module implements mixture modeling algorithms."
   ]
  },
  {
   "cell_type": "markdown",
   "metadata": {},
   "source": [
    "**`sklearn.multioutput`**: Multioutput regression and classification / 多输出回归和分类\n",
    "+ This module implements multioutput regression and classification.\n",
    "\n",
    "The estimators provided in this module are meta-estimators: they require a base estimator to be provided in their constructor. The meta-estimator extends single output estimators to multioutput estimators."
   ]
  },
  {
   "cell_type": "markdown",
   "metadata": {},
   "source": [
    "**`sklearn.utils`**: Utilities / 效率\n",
    "+ The sklearn.utils module includes various utilities."
   ]
  },
  {
   "cell_type": "code",
   "execution_count": null,
   "metadata": {},
   "outputs": [],
   "source": [
    "[````]()"
   ]
  },
  {
   "cell_type": "code",
   "execution_count": null,
   "metadata": {},
   "outputs": [],
   "source": []
  },
  {
   "cell_type": "code",
   "execution_count": null,
   "metadata": {},
   "outputs": [],
   "source": []
  },
  {
   "cell_type": "markdown",
   "metadata": {},
   "source": []
  },
  {
   "cell_type": "markdown",
   "metadata": {},
   "source": [
    "**[``sklearn.linear_model.LinearRegression``](http://scikit-learn.org/stable/modules/generated/sklearn.linear_model.LinearRegression.html)**(fit_intercept=True, normalize=False, copy_X=True, n_jobs=None)\n",
    "+ Parameters :\n",
    "    + `fit_intercept` : boolean, optional, default True\n",
    "        + whether to calculate the intercept for this model.\n",
    "    + `normalize` : boolean, optional, default False\n",
    "        + This parameter is ignored when fit_intercept is set to False.\n",
    "        + If True, the regressors X will be normalized before regression by subtracting the mean and dividing by the l2-norm.\n",
    "        + If you wish to standardize, please use `sklearn.preprocessing.StandardScaler` before calling fit on an estimator with normalize=False.\n",
    "+ Attributes :\n",
    "    + `coef_` : array, shape (n_features, ) or (n_targets, n_features)\n",
    "        + Estimated coefficients/系数 for the linear regression problem.\n",
    "    + `intercept_` : array / 截距\n",
    "        + Independent term in the linear model."
   ]
  },
  {
   "cell_type": "markdown",
   "metadata": {},
   "source": [
    "**`Method`**"
   ]
  },
  {
   "cell_type": "markdown",
   "metadata": {},
   "source": [
    "+ **`fit`**(X, y, sample_weight=None) / Fit linear model.\n",
    "    + Parameters :\n",
    "        + X : (n_samples, n_features)\n",
    "        + y : (n_samples, n_targets)\n",
    "    + Returns :\n",
    "        + self : returns an instance of self."
   ]
  },
  {
   "cell_type": "markdown",
   "metadata": {},
   "source": [
    "+ **`predict`**(X) / Predict using the linear model\n",
    "    + Parameters :\n",
    "        + X : (n_samples, n_features)\n",
    "    + Returns :\n",
    "        + C : array, shape (n_samples,)"
   ]
  },
  {
   "cell_type": "markdown",
   "metadata": {},
   "source": [
    "+ **`score`**(X, y, sample_weight=None) / Returns the coefficient of determination R^2 of the prediction.\n",
    "    + Parameters :\n",
    "        + X : array-like, shape = (n_samples, n_features)\n",
    "        + y : array-like, shape = (n_samples) or (n_samples, n_outputs)\n",
    "    + Returns :\n",
    "        + score : float\n",
    "            + R^2 of self.predict(X) wrt. y."
   ]
  },
  {
   "cell_type": "markdown",
   "metadata": {},
   "source": [
    "+ **`get_params`**(deep=True) / Get parameters for this estimator.\n",
    "    + Parameters :\n",
    "        + deep : boolean, optional\n",
    "            + params : mapping of string to any\n",
    "    + Returns :\n",
    "        + params : mapping of string to any"
   ]
  },
  {
   "cell_type": "code",
   "execution_count": null,
   "metadata": {},
   "outputs": [],
   "source": []
  },
  {
   "cell_type": "markdown",
   "metadata": {},
   "source": [
    "-> 多项式回归 sklearn.preprocessing.PolynomialFeature"
   ]
  },
  {
   "cell_type": "code",
   "execution_count": null,
   "metadata": {},
   "outputs": [],
   "source": []
  },
  {
   "cell_type": "code",
   "execution_count": null,
   "metadata": {},
   "outputs": [],
   "source": []
  },
  {
   "cell_type": "code",
   "execution_count": null,
   "metadata": {},
   "outputs": [],
   "source": []
  },
  {
   "cell_type": "code",
   "execution_count": null,
   "metadata": {},
   "outputs": [],
   "source": []
  },
  {
   "cell_type": "code",
   "execution_count": null,
   "metadata": {},
   "outputs": [],
   "source": []
  },
  {
   "cell_type": "code",
   "execution_count": null,
   "metadata": {},
   "outputs": [],
   "source": []
  },
  {
   "cell_type": "code",
   "execution_count": null,
   "metadata": {},
   "outputs": [],
   "source": []
  },
  {
   "cell_type": "code",
   "execution_count": null,
   "metadata": {},
   "outputs": [],
   "source": []
  },
  {
   "cell_type": "code",
   "execution_count": null,
   "metadata": {},
   "outputs": [],
   "source": []
  },
  {
   "cell_type": "code",
   "execution_count": null,
   "metadata": {},
   "outputs": [],
   "source": []
  },
  {
   "cell_type": "code",
   "execution_count": null,
   "metadata": {},
   "outputs": [],
   "source": []
  },
  {
   "cell_type": "code",
   "execution_count": null,
   "metadata": {},
   "outputs": [],
   "source": []
  },
  {
   "cell_type": "code",
   "execution_count": null,
   "metadata": {},
   "outputs": [],
   "source": []
  },
  {
   "cell_type": "code",
   "execution_count": null,
   "metadata": {},
   "outputs": [],
   "source": []
  },
  {
   "cell_type": "code",
   "execution_count": null,
   "metadata": {},
   "outputs": [],
   "source": []
  },
  {
   "cell_type": "code",
   "execution_count": null,
   "metadata": {},
   "outputs": [],
   "source": []
  },
  {
   "cell_type": "code",
   "execution_count": null,
   "metadata": {},
   "outputs": [],
   "source": []
  },
  {
   "cell_type": "code",
   "execution_count": null,
   "metadata": {},
   "outputs": [],
   "source": []
  },
  {
   "cell_type": "code",
   "execution_count": null,
   "metadata": {},
   "outputs": [],
   "source": []
  },
  {
   "cell_type": "code",
   "execution_count": null,
   "metadata": {},
   "outputs": [],
   "source": []
  },
  {
   "cell_type": "code",
   "execution_count": null,
   "metadata": {},
   "outputs": [],
   "source": []
  },
  {
   "cell_type": "code",
   "execution_count": null,
   "metadata": {},
   "outputs": [],
   "source": []
  },
  {
   "cell_type": "code",
   "execution_count": null,
   "metadata": {},
   "outputs": [],
   "source": []
  },
  {
   "cell_type": "code",
   "execution_count": null,
   "metadata": {},
   "outputs": [],
   "source": []
  },
  {
   "cell_type": "code",
   "execution_count": null,
   "metadata": {},
   "outputs": [],
   "source": []
  },
  {
   "cell_type": "code",
   "execution_count": null,
   "metadata": {},
   "outputs": [],
   "source": []
  },
  {
   "cell_type": "code",
   "execution_count": null,
   "metadata": {},
   "outputs": [],
   "source": []
  },
  {
   "cell_type": "code",
   "execution_count": null,
   "metadata": {},
   "outputs": [],
   "source": []
  },
  {
   "cell_type": "code",
   "execution_count": null,
   "metadata": {},
   "outputs": [],
   "source": []
  },
  {
   "cell_type": "code",
   "execution_count": null,
   "metadata": {},
   "outputs": [],
   "source": []
  },
  {
   "cell_type": "code",
   "execution_count": null,
   "metadata": {},
   "outputs": [],
   "source": []
  },
  {
   "cell_type": "code",
   "execution_count": null,
   "metadata": {},
   "outputs": [],
   "source": []
  },
  {
   "cell_type": "code",
   "execution_count": null,
   "metadata": {},
   "outputs": [],
   "source": []
  },
  {
   "cell_type": "code",
   "execution_count": null,
   "metadata": {},
   "outputs": [],
   "source": []
  }
 ],
 "metadata": {
  "kernelspec": {
   "display_name": "Python 3",
   "language": "python",
   "name": "python3"
  },
  "language_info": {
   "codemirror_mode": {
    "name": "ipython",
    "version": 3
   },
   "file_extension": ".py",
   "mimetype": "text/x-python",
   "name": "python",
   "nbconvert_exporter": "python",
   "pygments_lexer": "ipython3",
   "version": "3.6.6"
  },
  "toc": {
   "base_numbering": 1,
   "nav_menu": {},
   "number_sections": true,
   "sideBar": true,
   "skip_h1_title": false,
   "title_cell": "Table of Contents",
   "title_sidebar": "Contents",
   "toc_cell": false,
   "toc_position": {},
   "toc_section_display": true,
   "toc_window_display": false
  }
 },
 "nbformat": 4,
 "nbformat_minor": 2
}
