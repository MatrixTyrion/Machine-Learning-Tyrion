{
 "cells": [
  {
   "cell_type": "markdown",
   "metadata": {},
   "source": [
    "Implement `regularized linear regression` and use it to study models with different `bias-variance properties`."
   ]
  },
  {
   "cell_type": "markdown",
   "metadata": {},
   "source": [
    "# Regularized Linear Regression"
   ]
  },
  {
   "cell_type": "markdown",
   "metadata": {},
   "source": [
    "Implement `regularized linear regression` to predict the amount of water flowing out of a dam using the change of water level in a reservoir"
   ]
  },
  {
   "cell_type": "code",
   "execution_count": 1,
   "metadata": {},
   "outputs": [],
   "source": [
    "import numpy  as np\n",
    "import pandas as pd\n",
    "\n",
    "import matplotlib as mpl\n",
    "import matplotlib.pyplot as plt\n",
    "\n",
    "import scipy\n",
    "import scipy.optimize as opt\n",
    "import scipy.io as sio\n",
    "from scipy.io import loadmat\n",
    "\n",
    "%matplotlib inline"
   ]
  },
  {
   "cell_type": "markdown",
   "metadata": {},
   "source": [
    "###### load data"
   ]
  },
  {
   "cell_type": "markdown",
   "metadata": {},
   "source": [
    "This dataset is divided into three parts:\n",
    "\n",
    "- A **training** set that your model will learn on: `X`, `y`\n",
    "- A **cross validation** set for determining the regularization parameter: `Xval`, `yval`\n",
    "- A **test** set for evaluating performance. These are “unseen” examples which your model did not see during training: `Xtest`, `ytest`"
   ]
  },
  {
   "cell_type": "code",
   "execution_count": 2,
   "metadata": {},
   "outputs": [
    {
     "name": "stdout",
     "output_type": "stream",
     "text": [
      "ori_data.keys() : dict_keys(['__header__', '__version__', '__globals__', 'X', 'y', 'Xtest', 'ytest', 'Xval', 'yval'])\n"
     ]
    }
   ],
   "source": [
    "path = \"dataset/ex5data1.mat\"\n",
    "ori_data = sio.loadmat(path)\n",
    "print(\"ori_data.keys() :\", ori_data.keys())"
   ]
  },
  {
   "cell_type": "code",
   "execution_count": 3,
   "metadata": {},
   "outputs": [],
   "source": [
    "X_ori = ori_data['X']\n",
    "y_ori = ori_data['y']\n",
    "\n",
    "X_train = ori_data['X']\n",
    "y_train = ori_data['y'].reshape((-1,))\n",
    "\n",
    "X_cv = ori_data['Xval']\n",
    "y_cv = ori_data['yval'].reshape((-1,))\n",
    "\n",
    "X_test = ori_data[\"Xtest\"]\n",
    "y_test = ori_data[\"ytest\"].reshape((-1,))\n",
    "\n",
    "sample = X_train.shape[0]"
   ]
  },
  {
   "cell_type": "markdown",
   "metadata": {},
   "source": [
    "## Plot Original Data"
   ]
  },
  {
   "cell_type": "code",
   "execution_count": 4,
   "metadata": {},
   "outputs": [
    {
     "data": {
      "image/png": "[encoded data removed]",
      "text/plain": [
       "<Figure size 720x432 with 1 Axes>"
      ]
     },
     "metadata": {
      "needs_background": "light"
     },
     "output_type": "display_data"
    }
   ],
   "source": [
    "def plot_ori_data(X_ori, y_ori, label_x, label_y, axes=None):\n",
    "    if axes == None:\n",
    "        axes = plt.gca()\n",
    "\n",
    "    axes.plot(X_ori, y_ori, \"rx\", markersize=6)\n",
    "        \n",
    "    axes.set_xlabel(label_x)\n",
    "    axes.set_ylabel(label_y)\n",
    "\n",
    "plt.figure(figsize=(10,6))\n",
    "plot_ori_data(X_ori, y_ori, 'Change in water level (x)', 'Water flowing out of the dam (y)', plt.gca())"
   ]
  },
  {
   "cell_type": "code",
   "execution_count": null,
   "metadata": {},
   "outputs": [],
   "source": []
  },
  {
   "cell_type": "markdown",
   "metadata": {},
   "source": [
    "**`Problem with sklearn-learnCurve`**\n",
    "> + Training with $\\lambda$\n",
    "> + But, calc `train_err` & `cv_err` must without $\\lambda$\n",
    "\n",
    "> + Ridge( ) will normal the data, with the param 'normalize=True'\n",
    "\n",
    "> + Ridge( ) have a little different with Andrew's Cost_function"
   ]
  },
  {
   "cell_type": "code",
   "execution_count": null,
   "metadata": {},
   "outputs": [],
   "source": []
  },
  {
   "cell_type": "markdown",
   "metadata": {},
   "source": [
    "###### model.fit( )\n",
    "[``sklearn.linear_model.Ridge()``](http://scikit-learn.org/stable/modules/generated/sklearn.linear_model.Ridge.html)"
   ]
  },
  {
   "cell_type": "code",
   "execution_count": 5,
   "metadata": {},
   "outputs": [],
   "source": [
    "from sklearn import linear_model"
   ]
  },
  {
   "cell_type": "code",
   "execution_count": 6,
   "metadata": {},
   "outputs": [
    {
     "name": "stdout",
     "output_type": "stream",
     "text": [
      ">>> Lamd = 0.0\n",
      "\t\t intercept_\t 13.087714160270583\n",
      "\t\t coef_\t\t [0.367742]\n"
     ]
    }
   ],
   "source": [
    "Lamd = 1.0\n",
    "Ridge = linear_model.Ridge(alpha=Lamd, fit_intercept=True, normalize=False)\n",
    "Ridge.fit(X_train, y_train)\n",
    "print(\">>> Lamd = 0.0\")\n",
    "print(\"\\t\\t intercept_\\t\", Ridge.intercept_)\n",
    "print(\"\\t\\t coef_\\t\\t\", Ridge.coef_)"
   ]
  },
  {
   "cell_type": "code",
   "execution_count": null,
   "metadata": {},
   "outputs": [],
   "source": []
  },
  {
   "cell_type": "markdown",
   "metadata": {},
   "source": [
    "###### cost function\n",
    "[``sklearn.metrics.mean_squared_error()``](http://scikit-learn.org/stable/modules/generated/sklearn.metrics.mean_squared_error.html)"
   ]
  },
  {
   "cell_type": "code",
   "execution_count": 7,
   "metadata": {},
   "outputs": [],
   "source": [
    "from sklearn import metrics"
   ]
  },
  {
   "cell_type": "code",
   "execution_count": 8,
   "metadata": {},
   "outputs": [
    {
     "name": "stdout",
     "output_type": "stream",
     "text": [
      "[ 7.22709892  2.3669394  26.396131   26.87516596 -4.5855357   9.79956457\n",
      " 18.71703247  0.3247627  13.59856456 -3.23405827 15.66687341 21.45853288]\n"
     ]
    }
   ],
   "source": [
    "y_pred = Ridge.predict(X_train)\n",
    "print(y_pred)"
   ]
  },
  {
   "cell_type": "code",
   "execution_count": 9,
   "metadata": {},
   "outputs": [
    {
     "name": "stdout",
     "output_type": "stream",
     "text": [
      "Cost : 22.373907065629478\n"
     ]
    }
   ],
   "source": [
    "cost = metrics.mean_squared_error(y_train, y_pred) / 2\n",
    "print(\"Cost :\", cost)"
   ]
  },
  {
   "cell_type": "markdown",
   "metadata": {},
   "source": []
  },
  {
   "cell_type": "code",
   "execution_count": 10,
   "metadata": {},
   "outputs": [],
   "source": [
    "from sklearn.preprocessing import PolynomialFeatures"
   ]
  },
  {
   "cell_type": "code",
   "execution_count": 11,
   "metadata": {},
   "outputs": [],
   "source": [
    "def poly_nomial_feature(degree, train_data, cv_data, test_data):\n",
    "    poly = PolynomialFeatures(degree, include_bias=False)\n",
    "    train_poly = poly.fit_transform(train_data)\n",
    "    cv_poly    = poly.fit_transform(cv_data)\n",
    "    test_poly  = poly.fit_transform(test_data)\n",
    "    \n",
    "    return poly, train_poly, cv_poly, test_poly"
   ]
  },
  {
   "cell_type": "code",
   "execution_count": null,
   "metadata": {},
   "outputs": [],
   "source": []
  }
 ],
 "metadata": {
  "kernelspec": {
   "display_name": "Python 3",
   "language": "python",
   "name": "python3"
  },
  "language_info": {
   "codemirror_mode": {
    "name": "ipython",
    "version": 3
   },
   "file_extension": ".py",
   "mimetype": "text/x-python",
   "name": "python",
   "nbconvert_exporter": "python",
   "pygments_lexer": "ipython3",
   "version": "3.6.6"
  },
  "toc": {
   "base_numbering": 1,
   "nav_menu": {},
   "number_sections": true,
   "sideBar": true,
   "skip_h1_title": false,
   "title_cell": "Table of Contents",
   "title_sidebar": "Contents",
   "toc_cell": false,
   "toc_position": {},
   "toc_section_display": true,
   "toc_window_display": false
  }
 },
 "nbformat": 4,
 "nbformat_minor": 2
}
