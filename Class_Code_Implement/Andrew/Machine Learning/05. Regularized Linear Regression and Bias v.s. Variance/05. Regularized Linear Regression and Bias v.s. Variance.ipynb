{
 "cells": [
  {
   "cell_type": "markdown",
   "metadata": {},
   "source": [
    "Implement `regularized linear regression` and use it to study models with different `bias-variance properties`."
   ]
  },
  {
   "cell_type": "markdown",
   "metadata": {},
   "source": [
    "# Regularized Linear Regression"
   ]
  },
  {
   "cell_type": "markdown",
   "metadata": {},
   "source": [
    "Implement `regularized linear regression` to predict the amount of water flowing out of a dam using the change of water level in a reservoir"
   ]
  },
  {
   "cell_type": "code",
   "execution_count": 1,
   "metadata": {},
   "outputs": [],
   "source": [
    "import numpy  as np\n",
    "import pandas as pd\n",
    "\n",
    "import matplotlib as mpl\n",
    "import matplotlib.pyplot as plt\n",
    "\n",
    "import scipy\n",
    "import scipy.optimize as opt\n",
    "import scipy.io as sio\n",
    "from scipy.io import loadmat\n",
    "\n",
    "%matplotlib inline"
   ]
  },
  {
   "cell_type": "markdown",
   "metadata": {},
   "source": [
    "###### load data"
   ]
  },
  {
   "cell_type": "markdown",
   "metadata": {},
   "source": [
    "This dataset is divided into three parts:\n",
    "\n",
    "- A **training** set that your model will learn on: `X`, `y`\n",
    "- A **cross validation** set for determining the regularization parameter: `Xval`, `yval`\n",
    "- A **test** set for evaluating performance. These are “unseen” examples which your model did not see during training: `Xtest`, `ytest`"
   ]
  },
  {
   "cell_type": "code",
   "execution_count": 2,
   "metadata": {},
   "outputs": [
    {
     "name": "stdout",
     "output_type": "stream",
     "text": [
      "ori_data.keys() : dict_keys(['__header__', '__version__', '__globals__', 'X', 'y', 'Xtest', 'ytest', 'Xval', 'yval'])\n"
     ]
    }
   ],
   "source": [
    "path = \"dataset/ex5data1.mat\"\n",
    "ori_data = sio.loadmat(path)\n",
    "print(\"ori_data.keys() :\", ori_data.keys())"
   ]
  },
  {
   "cell_type": "code",
   "execution_count": 3,
   "metadata": {},
   "outputs": [],
   "source": [
    "X_ori = ori_data['X']\n",
    "y_ori = ori_data['y']\n",
    "\n",
    "X_train = ori_data['X']\n",
    "y_train = ori_data['y'].reshape((-1,))\n",
    "\n",
    "X_cv = ori_data['Xval']\n",
    "y_cv = ori_data['yval'].reshape((-1,))\n",
    "\n",
    "X_test = ori_data[\"Xtest\"]\n",
    "y_test = ori_data[\"ytest\"].reshape((-1,))\n",
    "\n",
    "sample = X_train.shape[0]"
   ]
  },
  {
   "cell_type": "markdown",
   "metadata": {},
   "source": [
    "## Plot Original Data"
   ]
  },
  {
   "cell_type": "code",
   "execution_count": 4,
   "metadata": {},
   "outputs": [
    {
     "data": {
      "image/png": "[encoded data removed]",
      "text/plain": [
       "<Figure size 720x432 with 1 Axes>"
      ]
     },
     "metadata": {
      "needs_background": "light"
     },
     "output_type": "display_data"
    }
   ],
   "source": [
    "def plot_ori_data(X_ori, y_ori, label_x, label_y, axes=None):\n",
    "    if axes == None:\n",
    "        axes = plt.gca()\n",
    "\n",
    "    axes.plot(X_ori, y_ori, \"rx\", markersize=6)\n",
    "        \n",
    "    axes.set_xlabel(label_x, fontsize=15)\n",
    "    axes.set_ylabel(label_y, fontsize=15)\n",
    "\n",
    "plt.figure(figsize=(10,6))\n",
    "plot_ori_data(X_ori, y_ori, 'Change in water level (x)', 'Water flowing out of the dam (y)', plt.gca())"
   ]
  },
  {
   "cell_type": "code",
   "execution_count": null,
   "metadata": {},
   "outputs": [],
   "source": []
  },
  {
   "cell_type": "markdown",
   "metadata": {},
   "source": [
    "###### Regularized linear regression - Cost Function"
   ]
  },
  {
   "cell_type": "markdown",
   "metadata": {},
   "source": [
    "$$ J(\\theta) = \\frac{1}{2m} \\left( \\sum_{i=1}^m \\left( h_\\theta\\left( x^{(i)} \\right) - y^{(i)} \\right)^2 \\right) + \\frac{\\lambda}{2m} \\left( \\sum_{j=1}^n \\theta_j^2 \\right)$$\n",
    "\n",
    "where **$\\lambda$ is a regularization parameter** which `controls the degree of regularization` (thus, help preventing overfitting). The regularization term puts `a penalty` on the overall cost J. As the magnitudes of the model parameters $\\theta_j$ increase, the penalty increases as well. \n",
    "**Note that you should not regularize the $\\theta_0$ term.**\n",
    "\n",
    "Run your cost function using `theta` initialized at `[1, 1]`. You should expect to see an output of `303.993`."
   ]
  },
  {
   "cell_type": "code",
   "execution_count": 5,
   "metadata": {},
   "outputs": [],
   "source": [
    "def hypothesis(theta, X):\n",
    "    hyp = X @ theta    # np.dot(X, theta)\n",
    "    return hyp"
   ]
  },
  {
   "cell_type": "code",
   "execution_count": 6,
   "metadata": {},
   "outputs": [],
   "source": [
    "def cost_function(theta, X, y, lamd=0):\n",
    "    m = y.shape[0]\n",
    "    \n",
    "    err = hypothesis(theta, X) - y    # (m, )\n",
    "    cost = np.mean(np.square(err)) / 2\n",
    "    \n",
    "    reg_item = lamd * np.sum(np.power(theta[1:], 2)) / (2 * m)\n",
    "    \n",
    "    cost_reg = cost + reg_item\n",
    "    \n",
    "    return cost_reg"
   ]
  },
  {
   "cell_type": "markdown",
   "metadata": {},
   "source": [
    "When you are finished, the next cell will run your cost function using `theta` initialized at `[1, 1]`. You should expect to see an output of 303.993."
   ]
  },
  {
   "cell_type": "code",
   "execution_count": 7,
   "metadata": {},
   "outputs": [],
   "source": [
    "X_train_bias = np.insert(X_train, 0, 1, axis=1)\n",
    "X_cv_bias    = np.insert(X_cv, 0, 1, axis=1)\n",
    "theta_init_ones = np.ones((X_train_bias.shape[1],))"
   ]
  },
  {
   "cell_type": "code",
   "execution_count": 8,
   "metadata": {},
   "outputs": [
    {
     "name": "stdout",
     "output_type": "stream",
     "text": [
      "Cost : 303.952\n"
     ]
    }
   ],
   "source": [
    "Lamd = 0\n",
    "cost = cost_function(theta_init_ones, X_train_bias, y_train, lamd=Lamd)\n",
    "print(\"Cost : %.3f\" % cost)"
   ]
  },
  {
   "cell_type": "code",
   "execution_count": 9,
   "metadata": {},
   "outputs": [
    {
     "name": "stdout",
     "output_type": "stream",
     "text": [
      "Cost : 303.993\n"
     ]
    }
   ],
   "source": [
    "Lamd = 1\n",
    "cost = cost_function(theta_init_ones, X_train_bias, y_train, lamd=Lamd)\n",
    "print(\"Cost : %.3f\" % cost)"
   ]
  },
  {
   "cell_type": "markdown",
   "metadata": {},
   "source": [
    "###### Regularized linear regression - Gradient Descent"
   ]
  },
  {
   "cell_type": "markdown",
   "metadata": {},
   "source": [
    "$$\n",
    "\\begin{align}\n",
    "& \\frac{\\partial J(\\theta)}{\\partial \\theta_0} = \\frac{1}{m} \\sum_{i=1}^m \\left( h_\\theta \\left(x^{(i)} \\right) - y^{(i)} \\right) x_j^{(i)} & \\qquad \\text{for } j = 0 \\\\\n",
    "& \\frac{\\partial J(\\theta)}{\\partial \\theta_j} = \\left( \\frac{1}{m} \\sum_{i=1}^m \\left( h_\\theta \\left( x^{(i)} \\right) - y^{(i)} \\right) x_j^{(i)} \\right) + \\frac{\\lambda}{m} \\theta_j & \\qquad \\text{for } j \\ge 1\n",
    "\\end{align}\n",
    "$$\n",
    "\n",
    "Run your gradient function using theta initialized at `[1, 1]`. You should expect to see a gradient of `[-15.30, 598.250]`."
   ]
  },
  {
   "cell_type": "code",
   "execution_count": 10,
   "metadata": {},
   "outputs": [],
   "source": [
    "def gradient(theta, X, y, lamd=0):\n",
    "    m = y.shape[0]\n",
    "    \n",
    "    err = hypothesis(theta, X) - y\n",
    "    grad = (X.T @ err) / m\n",
    "    \n",
    "    reg_theta = lamd * theta[1:] / m\n",
    "    reg_item = np.r_[[0], reg_theta]\n",
    "    \n",
    "    grad_reg = grad + reg_item\n",
    "        \n",
    "    return grad_reg"
   ]
  },
  {
   "cell_type": "markdown",
   "metadata": {},
   "source": [
    "When you are finished, use the next cell to  run your gradient function using theta initialized at `[1, 1]`. You should expect to see a gradient of `[-15.30, 598.250]`."
   ]
  },
  {
   "cell_type": "code",
   "execution_count": 11,
   "metadata": {},
   "outputs": [
    {
     "name": "stdout",
     "output_type": "stream",
     "text": [
      "[-15.30301567 598.25074417]\n"
     ]
    }
   ],
   "source": [
    "grad = gradient(theta_init_ones, X_train_bias, y_train, lamd=Lamd)\n",
    "print(grad)"
   ]
  },
  {
   "cell_type": "markdown",
   "metadata": {},
   "source": [
    "## optimize"
   ]
  },
  {
   "cell_type": "markdown",
   "metadata": {},
   "source": [
    "In this part, we `set regularization parameter` $\\lambda$ `to zero`. **Because our current implementation of linear regression is trying to fit a 2-dimensional $\\theta$, regularization will not be incredibly helpful for a $\\theta$ of such low dimension**.\n",
    "\n",
    "Finally, the code in the next cell should also plot the best fit line, which should look like the figure below. \n",
    "\n",
    "![](Figures/linear_fit.png)\n",
    "\n",
    "The best fit line tells us that `the model is not a good fit to the data` because **the data has a non-linear pattern**."
   ]
  },
  {
   "cell_type": "code",
   "execution_count": 12,
   "metadata": {},
   "outputs": [],
   "source": [
    "def scipy_opt_minimize(theta, X, y, lamd=0):\n",
    "    res = opt.minimize(\n",
    "        fun    = cost_function,\n",
    "        x0     = theta,\n",
    "        args   = (X, y, lamd),\n",
    "        jac    = gradient,\n",
    "        method = 'CG'\n",
    "    )\n",
    "    \n",
    "    return res"
   ]
  },
  {
   "cell_type": "code",
   "execution_count": 13,
   "metadata": {},
   "outputs": [],
   "source": [
    "Lamd = 0\n",
    "res_lamd_0 = scipy_opt_minimize(theta_init_ones, X_train_bias, y_train, lamd=Lamd)"
   ]
  },
  {
   "cell_type": "code",
   "execution_count": 14,
   "metadata": {},
   "outputs": [
    {
     "data": {
      "text/plain": [
       "     fun: 22.373906495116028\n",
       "     jac: array([ 3.71382085e-06, -1.28328502e-07])\n",
       " message: 'Optimization terminated successfully.'\n",
       "    nfev: 28\n",
       "     nit: 18\n",
       "    njev: 28\n",
       "  status: 0\n",
       " success: True\n",
       "       x: array([13.08790734,  0.36777925])"
      ]
     },
     "execution_count": 14,
     "metadata": {},
     "output_type": "execute_result"
    }
   ],
   "source": [
    "res_lamd_0"
   ]
  },
  {
   "cell_type": "code",
   "execution_count": null,
   "metadata": {},
   "outputs": [],
   "source": []
  },
  {
   "cell_type": "code",
   "execution_count": 15,
   "metadata": {},
   "outputs": [],
   "source": [
    "Lamd = 1\n",
    "res_lamd_1 = scipy_opt_minimize(theta_init_ones, X_train_bias, y_train, lamd=Lamd)"
   ]
  },
  {
   "cell_type": "code",
   "execution_count": 16,
   "metadata": {},
   "outputs": [
    {
     "data": {
      "text/plain": [
       "     fun: 22.379541822947473\n",
       "     jac: array([ 3.73935436e-06, -1.29444073e-07])\n",
       " message: 'Optimization terminated successfully.'\n",
       "    nfev: 28\n",
       "     nit: 18\n",
       "    njev: 28\n",
       "  status: 0\n",
       " success: True\n",
       "       x: array([13.08771802,  0.36774202])"
      ]
     },
     "execution_count": 16,
     "metadata": {},
     "output_type": "execute_result"
    }
   ],
   "source": [
    "res_lamd_1"
   ]
  },
  {
   "cell_type": "code",
   "execution_count": null,
   "metadata": {},
   "outputs": [],
   "source": []
  },
  {
   "cell_type": "code",
   "execution_count": null,
   "metadata": {},
   "outputs": [],
   "source": []
  },
  {
   "cell_type": "markdown",
   "metadata": {},
   "source": [
    "## Fitting linear regression"
   ]
  },
  {
   "cell_type": "code",
   "execution_count": 17,
   "metadata": {},
   "outputs": [],
   "source": [
    "def do_predict(theta, X):\n",
    "    X_range = np.linspace(X.min(), X.max(), 100).reshape((-1,1))\n",
    "    X_pred = np.insert(X_range, 0, 1, axis=1)\n",
    "    y_pred = hypothesis(theta, X_pred)\n",
    "    \n",
    "    return X_pred, y_pred"
   ]
  },
  {
   "cell_type": "code",
   "execution_count": 18,
   "metadata": {},
   "outputs": [],
   "source": [
    "def plot_fit_curve(X_pred, y_pred, theta, axes=None):\n",
    "    if axes == None:\n",
    "        axes = plt.gca()\n",
    "    axes.plot(X_pred, y_pred, 'b--')"
   ]
  },
  {
   "cell_type": "code",
   "execution_count": 19,
   "metadata": {},
   "outputs": [],
   "source": [
    "X_pred, y_pred_lamd_0 = do_predict(res_lamd_0.x, X_train)\n",
    "X_pred, y_pred_lamd_1 = do_predict(res_lamd_1.x, X_train)"
   ]
  },
  {
   "cell_type": "code",
   "execution_count": 20,
   "metadata": {},
   "outputs": [
    {
     "data": {
      "image/png": "[encoded data removed]",
      "text/plain": [
       "<Figure size 720x432 with 1 Axes>"
      ]
     },
     "metadata": {
      "needs_background": "light"
     },
     "output_type": "display_data"
    }
   ],
   "source": [
    "plt.figure(figsize=(10,6))\n",
    "plot_ori_data(X_ori, y_ori, 'Change in water level (x)', 'Water flowing out of the dam (y)', axes=plt.gca())\n",
    "plot_fit_curve(X_pred[:,1], y_pred_lamd_0, res_lamd_0.x, axes=plt.gca())"
   ]
  },
  {
   "cell_type": "markdown",
   "metadata": {},
   "source": [
    "The best fit line tells us that `the model is not a good fit to the data` because **the data has a non-linear pattern**."
   ]
  },
  {
   "cell_type": "code",
   "execution_count": null,
   "metadata": {},
   "outputs": [],
   "source": []
  },
  {
   "cell_type": "code",
   "execution_count": null,
   "metadata": {},
   "outputs": [],
   "source": []
  },
  {
   "cell_type": "markdown",
   "metadata": {},
   "source": [
    "# Bias-variance"
   ]
  },
  {
   "cell_type": "markdown",
   "metadata": {},
   "source": [
    "+ **high bias** : not comple enough for the data and tend to underfit\n",
    "+ **high variance** : overfit to the training data\n",
    "\n",
    "> Plot `training and test errors` on a **learning curve** to `diagnose bias-variance problems`"
   ]
  },
  {
   "cell_type": "markdown",
   "metadata": {},
   "source": [
    "## Learning Curves"
   ]
  },
  {
   "cell_type": "markdown",
   "metadata": {},
   "source": [
    "Recall that **a learning curves** `plots traning and cross validation error` as a function of training set size.\n",
    "\n",
    "We need a training and cross validation set error for **different training set sizes**.\n",
    "\n",
    "**Traing the $\\theta$ parameters with $\\lambda\\$=0**. In particular, note that the training error does not include the regularization term\n",
    "\n",
    "$$ J_{\\text{train_k}} = \\frac{1}{2k} \\left[ \\sum_{i=1}^k \\left(h_\\theta \\left( x^{(i)} \\right) - y^{(i)} \\right)^2 \\right] $$\n",
    "\n",
    "$$ J_{\\text{cv}} = \\frac{1}{2m} \\left[ \\sum_{i=1}^m \\left(h_\\theta \\left( x^{(i)} \\right) - y^{(i)} \\right)^2 \\right] $$\n",
    "\n",
    "However, for **the cross validation error**, you should **compute it over `the entire cross validation set`**."
   ]
  },
  {
   "cell_type": "code",
   "execution_count": 21,
   "metadata": {},
   "outputs": [],
   "source": [
    "def plot_learning_curves(X_train, y_train, X_cv, y_cv, Lamd=0, axes=None):\n",
    "    if axes == None:\n",
    "        axes = plt.gca()\n",
    "    \n",
    "    sample = y_train.shape[0]\n",
    "    \n",
    "    error_train = np.zeros((sample,1))\n",
    "    error_cv    = np.zeros((sample,1))\n",
    "    \n",
    "    for i in np.arange(sample):\n",
    "        theta = np.zeros((X_train[:i+1].shape[1],))\n",
    "        res = scipy_opt_minimize(theta, X_train[:i+1], y_train[:i+1], lamd=Lamd)\n",
    "        \n",
    "        error_train[i] = cost_function(res.x, X_train[:i+1], y_train[:i+1])\n",
    "        error_cv[i]    = cost_function(res.x, X_cv, y_cv)\n",
    "\n",
    "    axes.plot(np.arange(len(error_train))+1, error_train, label='error_train')\n",
    "    axes.plot(np.arange(len(error_cv))+1, error_cv, '--', label='error_cv')\n",
    "    axes.set_title('Learning curve for linear regression')\n",
    "    axes.set_xlabel('Number of training examples')\n",
    "    axes.set_ylabel('Error')\n",
    "    axes.legend()    "
   ]
  },
  {
   "cell_type": "code",
   "execution_count": 22,
   "metadata": {},
   "outputs": [
    {
     "data": {
      "image/png": "[encoded data removed]",
      "text/plain": [
       "<Figure size 720x432 with 1 Axes>"
      ]
     },
     "metadata": {
      "needs_background": "light"
     },
     "output_type": "display_data"
    }
   ],
   "source": [
    "plt.figure(figsize=(10,6))\n",
    "plot_learning_curves(X_train_bias, y_train, X_cv_bias, y_cv, axes=plt.gca())"
   ]
  },
  {
   "cell_type": "markdown",
   "metadata": {},
   "source": [
    "You can observe that **both the train error and cross validation error are `high`** `when the number of training examples is increassed`\n",
    "\n",
    "This reflects **a high bias problem** in the model -- `the linear regression model is too simple and is unable to fit our dataset well`."
   ]
  },
  {
   "cell_type": "code",
   "execution_count": null,
   "metadata": {},
   "outputs": [],
   "source": []
  },
  {
   "cell_type": "markdown",
   "metadata": {},
   "source": [
    "# Polynomial regression"
   ]
  },
  {
   "cell_type": "markdown",
   "metadata": {},
   "source": [
    "The problem with our `linear model` was that it was `too simple for the data` and `resulted in underfitting (high bias)`."
   ]
  },
  {
   "cell_type": "markdown",
   "metadata": {},
   "source": [
    "## feature normalization"
   ]
  },
  {
   "cell_type": "markdown",
   "metadata": {},
   "source": [
    "For this part of the exercise, you will be using `a polynomial of degree 8.` It turns out that if we run the training directly on the projected data, will not work well as the features would be badly scaled (e.g., an example with $x = 40$ will now have a feature $x_8 = 40^8 = 6.5 \\times 10^{12}$). Therefore, you will need to use **`feature normalization`**."
   ]
  },
  {
   "cell_type": "code",
   "execution_count": 23,
   "metadata": {},
   "outputs": [],
   "source": [
    "mu_train  = 0\n",
    "std_train = 0\n",
    "\n",
    "def feature_normalization_train(data):\n",
    "    global mu_train, std_train\n",
    "    \n",
    "    mu_train = data[:,1:].mean(axis=0)\n",
    "    std_train = data[:,1:].std(axis=0)\n",
    "    data_norm = (data[:,1:] - mu_train) / std_train\n",
    "    data_norm = np.insert(data_norm, 0, 1, axis=1)\n",
    "        \n",
    "    return data_norm\n",
    "\n",
    "def feature_normalization_other(data):\n",
    "    data_norm = (data[:,1:] - mu_train) / std_train\n",
    "    data_norm = np.insert(data_norm, 0, 1, axis=1)\n",
    "        \n",
    "    return data_norm"
   ]
  },
  {
   "cell_type": "code",
   "execution_count": null,
   "metadata": {},
   "outputs": [],
   "source": []
  },
  {
   "cell_type": "code",
   "execution_count": 24,
   "metadata": {},
   "outputs": [],
   "source": [
    "from sklearn.preprocessing import StandardScaler"
   ]
  },
  {
   "cell_type": "code",
   "execution_count": 25,
   "metadata": {},
   "outputs": [],
   "source": [
    "def sk_scaler(data):\n",
    "    scaler = StandardScaler()\n",
    "    scaler.fit(data)\n",
    "\n",
    "    return scaler"
   ]
  },
  {
   "cell_type": "markdown",
   "metadata": {},
   "source": [
    "## poly noimal feature"
   ]
  },
  {
   "cell_type": "markdown",
   "metadata": {},
   "source": [
    "$$\n",
    "\\begin{align}\n",
    "h_\\theta(x)  &= \\theta_0 + \\theta_1 \\times (\\text{waterLevel}) + \\theta_2 \\times (\\text{waterLevel})^2 + \\cdots + \\theta_p \\times (\\text{waterLevel})^p \\\\\n",
    "& = \\theta_0 + \\theta_1 x_1 + \\theta_2 x_2 + \\cdots + \\theta_p x_p\n",
    "\\end{align}\n",
    "$$"
   ]
  },
  {
   "cell_type": "code",
   "execution_count": 26,
   "metadata": {},
   "outputs": [],
   "source": [
    "from sklearn.preprocessing import PolynomialFeatures"
   ]
  },
  {
   "cell_type": "code",
   "execution_count": 27,
   "metadata": {},
   "outputs": [],
   "source": [
    "def poly_nomial_feature(degree, train_data, cv_data, test_data):\n",
    "    poly = PolynomialFeatures(degree, include_bias=False)\n",
    "    train_poly = poly.fit_transform(train_data)\n",
    "    cv_poly    = poly.fit_transform(cv_data)\n",
    "    test_poly  = poly.fit_transform(test_data)\n",
    "    \n",
    "    return poly, train_poly, cv_poly, test_poly"
   ]
  },
  {
   "cell_type": "markdown",
   "metadata": {},
   "source": [
    "###### do poly noimal feature"
   ]
  },
  {
   "cell_type": "code",
   "execution_count": 28,
   "metadata": {},
   "outputs": [],
   "source": [
    "poly, X_train_poly, X_cv_poly, X_test_poly = poly_nomial_feature(6, X_train, X_cv, X_test)"
   ]
  },
  {
   "cell_type": "code",
   "execution_count": 29,
   "metadata": {},
   "outputs": [
    {
     "data": {
      "text/html": [
       "<div>\n",
       "<style scoped>\n",
       "    .dataframe tbody tr th:only-of-type {\n",
       "        vertical-align: middle;\n",
       "    }\n",
       "\n",
       "    .dataframe tbody tr th {\n",
       "        vertical-align: top;\n",
       "    }\n",
       "\n",
       "    .dataframe thead th {\n",
       "        text-align: right;\n",
       "    }\n",
       "</style>\n",
       "<table border=\"1\" class=\"dataframe\">\n",
       "  <thead>\n",
       "    <tr style=\"text-align: right;\">\n",
       "      <th></th>\n",
       "      <th>x0</th>\n",
       "      <th>x0^2</th>\n",
       "      <th>x0^3</th>\n",
       "      <th>x0^4</th>\n",
       "      <th>x0^5</th>\n",
       "      <th>x0^6</th>\n",
       "    </tr>\n",
       "  </thead>\n",
       "  <tbody>\n",
       "    <tr>\n",
       "      <th>0</th>\n",
       "      <td>-15.936758</td>\n",
       "      <td>253.980260</td>\n",
       "      <td>-4047.621971</td>\n",
       "      <td>6.450597e+04</td>\n",
       "      <td>-1.028016e+06</td>\n",
       "      <td>1.638324e+07</td>\n",
       "    </tr>\n",
       "    <tr>\n",
       "      <th>1</th>\n",
       "      <td>-29.152979</td>\n",
       "      <td>849.896197</td>\n",
       "      <td>-24777.006175</td>\n",
       "      <td>7.223235e+05</td>\n",
       "      <td>-2.105788e+07</td>\n",
       "      <td>6.139000e+08</td>\n",
       "    </tr>\n",
       "    <tr>\n",
       "      <th>2</th>\n",
       "      <td>36.189549</td>\n",
       "      <td>1309.683430</td>\n",
       "      <td>47396.852168</td>\n",
       "      <td>1.715271e+06</td>\n",
       "      <td>6.207487e+07</td>\n",
       "      <td>2.246462e+09</td>\n",
       "    </tr>\n",
       "    <tr>\n",
       "      <th>3</th>\n",
       "      <td>37.492187</td>\n",
       "      <td>1405.664111</td>\n",
       "      <td>52701.422173</td>\n",
       "      <td>1.975892e+06</td>\n",
       "      <td>7.408050e+07</td>\n",
       "      <td>2.777440e+09</td>\n",
       "    </tr>\n",
       "    <tr>\n",
       "      <th>4</th>\n",
       "      <td>-48.058829</td>\n",
       "      <td>2309.651088</td>\n",
       "      <td>-110999.127750</td>\n",
       "      <td>5.334488e+06</td>\n",
       "      <td>-2.563693e+08</td>\n",
       "      <td>1.232081e+10</td>\n",
       "    </tr>\n",
       "  </tbody>\n",
       "</table>\n",
       "</div>"
      ],
      "text/plain": [
       "          x0         x0^2           x0^3          x0^4          x0^5  \\\n",
       "0 -15.936758   253.980260   -4047.621971  6.450597e+04 -1.028016e+06   \n",
       "1 -29.152979   849.896197  -24777.006175  7.223235e+05 -2.105788e+07   \n",
       "2  36.189549  1309.683430   47396.852168  1.715271e+06  6.207487e+07   \n",
       "3  37.492187  1405.664111   52701.422173  1.975892e+06  7.408050e+07   \n",
       "4 -48.058829  2309.651088 -110999.127750  5.334488e+06 -2.563693e+08   \n",
       "\n",
       "           x0^6  \n",
       "0  1.638324e+07  \n",
       "1  6.139000e+08  \n",
       "2  2.246462e+09  \n",
       "3  2.777440e+09  \n",
       "4  1.232081e+10  "
      ]
     },
     "execution_count": 29,
     "metadata": {},
     "output_type": "execute_result"
    }
   ],
   "source": [
    "XX_df = pd.DataFrame(X_train_poly, columns=poly.get_feature_names())\n",
    "XX_df.head()"
   ]
  },
  {
   "cell_type": "markdown",
   "metadata": {},
   "source": [
    "###### do normalize poly-feature"
   ]
  },
  {
   "cell_type": "code",
   "execution_count": 30,
   "metadata": {},
   "outputs": [],
   "source": [
    "scaler = sk_scaler(X_train_poly)\n",
    "X_train_poly_norm = np.insert(scaler.transform(X_train_poly), 0, 1, axis=1)\n",
    "X_cv_poly_norm    = np.insert(scaler.transform(X_cv_poly), 0, 1, axis=1)\n",
    "X_test_poly_norm  = np.insert(scaler.transform(X_test_poly), 0, 1, axis=1)"
   ]
  },
  {
   "cell_type": "code",
   "execution_count": 31,
   "metadata": {},
   "outputs": [
    {
     "data": {
      "text/html": [
       "<div>\n",
       "<style scoped>\n",
       "    .dataframe tbody tr th:only-of-type {\n",
       "        vertical-align: middle;\n",
       "    }\n",
       "\n",
       "    .dataframe tbody tr th {\n",
       "        vertical-align: top;\n",
       "    }\n",
       "\n",
       "    .dataframe thead th {\n",
       "        text-align: right;\n",
       "    }\n",
       "</style>\n",
       "<table border=\"1\" class=\"dataframe\">\n",
       "  <thead>\n",
       "    <tr style=\"text-align: right;\">\n",
       "      <th></th>\n",
       "      <th>0</th>\n",
       "      <th>1</th>\n",
       "      <th>2</th>\n",
       "      <th>3</th>\n",
       "      <th>4</th>\n",
       "      <th>5</th>\n",
       "      <th>6</th>\n",
       "    </tr>\n",
       "  </thead>\n",
       "  <tbody>\n",
       "    <tr>\n",
       "      <th>0</th>\n",
       "      <td>1.0</td>\n",
       "      <td>-0.378244</td>\n",
       "      <td>-0.788662</td>\n",
       "      <td>0.190329</td>\n",
       "      <td>-0.737591</td>\n",
       "      <td>0.320252</td>\n",
       "      <td>-0.617152</td>\n",
       "    </tr>\n",
       "    <tr>\n",
       "      <th>1</th>\n",
       "      <td>1.0</td>\n",
       "      <td>-0.838920</td>\n",
       "      <td>0.001314</td>\n",
       "      <td>-0.258962</td>\n",
       "      <td>-0.341565</td>\n",
       "      <td>0.097549</td>\n",
       "      <td>-0.455197</td>\n",
       "    </tr>\n",
       "    <tr>\n",
       "      <th>2</th>\n",
       "      <td>1.0</td>\n",
       "      <td>1.438717</td>\n",
       "      <td>0.610832</td>\n",
       "      <td>1.305341</td>\n",
       "      <td>0.256220</td>\n",
       "      <td>1.021863</td>\n",
       "      <td>-0.012696</td>\n",
       "    </tr>\n",
       "    <tr>\n",
       "      <th>3</th>\n",
       "      <td>1.0</td>\n",
       "      <td>1.484123</td>\n",
       "      <td>0.738068</td>\n",
       "      <td>1.420312</td>\n",
       "      <td>0.413122</td>\n",
       "      <td>1.155348</td>\n",
       "      <td>0.131224</td>\n",
       "    </tr>\n",
       "    <tr>\n",
       "      <th>4</th>\n",
       "      <td>1.0</td>\n",
       "      <td>-1.497919</td>\n",
       "      <td>1.936440</td>\n",
       "      <td>-2.127747</td>\n",
       "      <td>2.435101</td>\n",
       "      <td>-2.518767</td>\n",
       "      <td>2.717922</td>\n",
       "    </tr>\n",
       "  </tbody>\n",
       "</table>\n",
       "</div>"
      ],
      "text/plain": [
       "     0         1         2         3         4         5         6\n",
       "0  1.0 -0.378244 -0.788662  0.190329 -0.737591  0.320252 -0.617152\n",
       "1  1.0 -0.838920  0.001314 -0.258962 -0.341565  0.097549 -0.455197\n",
       "2  1.0  1.438717  0.610832  1.305341  0.256220  1.021863 -0.012696\n",
       "3  1.0  1.484123  0.738068  1.420312  0.413122  1.155348  0.131224\n",
       "4  1.0 -1.497919  1.936440 -2.127747  2.435101 -2.518767  2.717922"
      ]
     },
     "execution_count": 31,
     "metadata": {},
     "output_type": "execute_result"
    }
   ],
   "source": [
    "XX_df = pd.DataFrame(X_train_poly_norm)\n",
    "XX_df.head()"
   ]
  },
  {
   "cell_type": "code",
   "execution_count": null,
   "metadata": {},
   "outputs": [],
   "source": []
  },
  {
   "cell_type": "markdown",
   "metadata": {},
   "source": [
    "###### learning $\\theta$ by $\\lambda$ = 0\n",
    "> Keep in mind that even though we have `polynomial terms` in our feature vector, we are still solving **a linear regression optimization problem**."
   ]
  },
  {
   "cell_type": "code",
   "execution_count": 32,
   "metadata": {},
   "outputs": [],
   "source": [
    "Lamd = 0\n",
    "theta_init_ones_poly = np.ones((X_train_poly_norm.shape[1],))\n",
    "\n",
    "res_lamd_0_poly = scipy_opt_minimize(theta_init_ones_poly, X_train_poly_norm, y_train, lamd=Lamd)"
   ]
  },
  {
   "cell_type": "code",
   "execution_count": 33,
   "metadata": {},
   "outputs": [
    {
     "data": {
      "text/plain": [
       "array([[-15.93675813],\n",
       "       [-29.15297922],\n",
       "       [ 36.18954863],\n",
       "       [ 37.49218733],\n",
       "       [-48.05882945],\n",
       "       [ -8.94145794],\n",
       "       [ 15.30779289],\n",
       "       [-34.70626581],\n",
       "       [  1.38915437],\n",
       "       [-44.38375985],\n",
       "       [  7.01350208],\n",
       "       [ 22.76274892]])"
      ]
     },
     "execution_count": 33,
     "metadata": {},
     "output_type": "execute_result"
    }
   ],
   "source": [
    "X_train"
   ]
  },
  {
   "cell_type": "code",
   "execution_count": 34,
   "metadata": {},
   "outputs": [
    {
     "data": {
      "text/plain": [
       "     fun: 0.19805294321823\n",
       "     jac: array([-5.25027879e-07, -2.44871742e-06,  2.02849467e-06,  6.44546379e-07,\n",
       "       -4.80153334e-09,  1.92217605e-06, -1.04964433e-06])\n",
       " message: 'Optimization terminated successfully.'\n",
       "    nfev: 328\n",
       "     nit: 170\n",
       "    njev: 328\n",
       "  status: 0\n",
       " success: True\n",
       "       x: array([ 11.2175888 ,  10.88681481,  12.86210046,  10.28471971,\n",
       "        -4.2012076 , -11.41374114,  -4.90336575])"
      ]
     },
     "execution_count": 34,
     "metadata": {},
     "output_type": "execute_result"
    }
   ],
   "source": [
    "res_lamd_0_poly"
   ]
  },
  {
   "cell_type": "code",
   "execution_count": null,
   "metadata": {},
   "outputs": [],
   "source": []
  },
  {
   "cell_type": "markdown",
   "metadata": {},
   "source": [
    "### do predict"
   ]
  },
  {
   "cell_type": "code",
   "execution_count": 35,
   "metadata": {},
   "outputs": [],
   "source": [
    "def do_predict_poly(theta, X):\n",
    "    X_range = np.linspace(X.min()-30, X.max()+20, 100).reshape((-1,1))\n",
    "    X_poly = poly.fit_transform(X_range)\n",
    "    X_poly_norm = np.insert(scaler.transform(X_poly), 0, 1, axis=1)\n",
    "    y_pred = hypothesis(theta, X_poly_norm)\n",
    "    \n",
    "    return X_poly, y_pred"
   ]
  },
  {
   "cell_type": "code",
   "execution_count": 36,
   "metadata": {},
   "outputs": [],
   "source": [
    "X_pred, y_pred = do_predict_poly(res_lamd_0_poly.x, X_train)"
   ]
  },
  {
   "cell_type": "code",
   "execution_count": 37,
   "metadata": {},
   "outputs": [
    {
     "data": {
      "text/html": [
       "<div>\n",
       "<style scoped>\n",
       "    .dataframe tbody tr th:only-of-type {\n",
       "        vertical-align: middle;\n",
       "    }\n",
       "\n",
       "    .dataframe tbody tr th {\n",
       "        vertical-align: top;\n",
       "    }\n",
       "\n",
       "    .dataframe thead th {\n",
       "        text-align: right;\n",
       "    }\n",
       "</style>\n",
       "<table border=\"1\" class=\"dataframe\">\n",
       "  <thead>\n",
       "    <tr style=\"text-align: right;\">\n",
       "      <th></th>\n",
       "      <th>x0</th>\n",
       "      <th>x0^2</th>\n",
       "      <th>x0^3</th>\n",
       "      <th>x0^4</th>\n",
       "      <th>x0^5</th>\n",
       "      <th>x0^6</th>\n",
       "    </tr>\n",
       "  </thead>\n",
       "  <tbody>\n",
       "    <tr>\n",
       "      <th>0</th>\n",
       "      <td>-78.058829</td>\n",
       "      <td>6093.180856</td>\n",
       "      <td>-475626.565224</td>\n",
       "      <td>3.712685e+07</td>\n",
       "      <td>-2.898079e+09</td>\n",
       "      <td>2.262206e+11</td>\n",
       "    </tr>\n",
       "    <tr>\n",
       "      <th>1</th>\n",
       "      <td>-76.689627</td>\n",
       "      <td>5881.298930</td>\n",
       "      <td>-451034.622741</td>\n",
       "      <td>3.458968e+07</td>\n",
       "      <td>-2.652669e+09</td>\n",
       "      <td>2.034322e+11</td>\n",
       "    </tr>\n",
       "    <tr>\n",
       "      <th>2</th>\n",
       "      <td>-75.320425</td>\n",
       "      <td>5673.166433</td>\n",
       "      <td>-427305.307258</td>\n",
       "      <td>3.218482e+07</td>\n",
       "      <td>-2.424174e+09</td>\n",
       "      <td>1.825898e+11</td>\n",
       "    </tr>\n",
       "    <tr>\n",
       "      <th>3</th>\n",
       "      <td>-73.951223</td>\n",
       "      <td>5468.783366</td>\n",
       "      <td>-404423.217595</td>\n",
       "      <td>2.990759e+07</td>\n",
       "      <td>-2.211703e+09</td>\n",
       "      <td>1.635581e+11</td>\n",
       "    </tr>\n",
       "    <tr>\n",
       "      <th>4</th>\n",
       "      <td>-72.582021</td>\n",
       "      <td>5268.149728</td>\n",
       "      <td>-382372.952572</td>\n",
       "      <td>2.775340e+07</td>\n",
       "      <td>-2.014398e+09</td>\n",
       "      <td>1.462091e+11</td>\n",
       "    </tr>\n",
       "  </tbody>\n",
       "</table>\n",
       "</div>"
      ],
      "text/plain": [
       "          x0         x0^2           x0^3          x0^4          x0^5  \\\n",
       "0 -78.058829  6093.180856 -475626.565224  3.712685e+07 -2.898079e+09   \n",
       "1 -76.689627  5881.298930 -451034.622741  3.458968e+07 -2.652669e+09   \n",
       "2 -75.320425  5673.166433 -427305.307258  3.218482e+07 -2.424174e+09   \n",
       "3 -73.951223  5468.783366 -404423.217595  2.990759e+07 -2.211703e+09   \n",
       "4 -72.582021  5268.149728 -382372.952572  2.775340e+07 -2.014398e+09   \n",
       "\n",
       "           x0^6  \n",
       "0  2.262206e+11  \n",
       "1  2.034322e+11  \n",
       "2  1.825898e+11  \n",
       "3  1.635581e+11  \n",
       "4  1.462091e+11  "
      ]
     },
     "execution_count": 37,
     "metadata": {},
     "output_type": "execute_result"
    }
   ],
   "source": [
    "XX_df = pd.DataFrame(X_pred, columns=poly.get_feature_names())\n",
    "XX_df.head()"
   ]
  },
  {
   "cell_type": "code",
   "execution_count": null,
   "metadata": {},
   "outputs": [],
   "source": []
  },
  {
   "cell_type": "code",
   "execution_count": 38,
   "metadata": {},
   "outputs": [
    {
     "data": {
      "image/png": "[encoded data removed]",
      "text/plain": [
       "<Figure size 1152x432 with 2 Axes>"
      ]
     },
     "metadata": {
      "needs_background": "light"
     },
     "output_type": "display_data"
    }
   ],
   "source": [
    "fig, axes = plt.subplots(1, 2, figsize=((16, 6)))\n",
    "for i in range(2):\n",
    "    axes_i = axes.flatten()[i]\n",
    "    \n",
    "    if i == 0:\n",
    "        plot_ori_data(X_ori, y_ori, 'Change in water level (x)', 'Water flowing out of the dam (y)', axes_i)\n",
    "        plot_fit_curve(X_pred[:,0], y_pred, res_lamd_0_poly.x, axes_i)\n",
    "        axes_i.set_title ('Polynomial Regression Fit (lambda = {:f})'.format(0.0), fontsize=15)\n",
    "    elif i == 1:\n",
    "        plot_learning_curves(X_train_poly_norm, y_train, X_cv_poly_norm, y_cv, axes=axes_i)"
   ]
  },
  {
   "cell_type": "markdown",
   "metadata": {},
   "source": [
    "###### $\\lambda$ = 0\n",
    "\n",
    "You should see that the polynomial fit is able to follow the datapoints very well, thus, obtaining **`a low training error`**. The figure on the right shows that `the training error essentially stays zero for all numbers of training samples`. However, the polynomial fit is very complex and even drops off at the extremes. This is an indicator that the polynomial regression model is **`overfitting the training data`** and will `not generalize well`.\n",
    "\n",
    "To better understand the problems with the unregularized ($\\lambda = 0$) model, you can see that the learning curve  shows the same effect where **the training error is low, but the cross validation error is high**. There is **`a gap between the training and cross validation errors`**, indicating **`a high variance problem`**.\n",
    "\n",
    "One way to **`combat the overfitting (high-variance) problem`** is to **`add regularization to the model`**."
   ]
  },
  {
   "cell_type": "code",
   "execution_count": null,
   "metadata": {},
   "outputs": [],
   "source": []
  },
  {
   "cell_type": "code",
   "execution_count": 39,
   "metadata": {},
   "outputs": [],
   "source": [
    "Lamd = 1\n",
    "theta_init_ones_poly = np.ones((X_train_poly_norm.shape[1],))\n",
    "\n",
    "res_lamd_1_poly = scipy_opt_minimize(theta_init_ones_poly, X_train_poly_norm, y_train, lamd=Lamd)"
   ]
  },
  {
   "cell_type": "code",
   "execution_count": 40,
   "metadata": {},
   "outputs": [],
   "source": [
    "X_pred, y_pred = do_predict_poly(res_lamd_1_poly.x, X_train)"
   ]
  },
  {
   "cell_type": "code",
   "execution_count": 41,
   "metadata": {},
   "outputs": [
    {
     "data": {
      "image/png": "[encoded data removed]",
      "text/plain": [
       "<Figure size 1152x432 with 2 Axes>"
      ]
     },
     "metadata": {
      "needs_background": "light"
     },
     "output_type": "display_data"
    }
   ],
   "source": [
    "fig, axes = plt.subplots(1, 2, figsize=((16, 6)))\n",
    "for i in range(2):\n",
    "    axes_i = axes.flatten()[i]\n",
    "    \n",
    "    if i == 0:\n",
    "        plot_ori_data(X_ori, y_ori, 'Change in water level (x)', 'Water flowing out of the dam (y)', axes_i)\n",
    "        plot_fit_curve(X_pred[:,0], y_pred, res_lamd_1_poly.x, axes_i)\n",
    "        axes_i.set_title ('Polynomial Regression Fit (lambda = {:f})'.format(1.0), fontsize=15)\n",
    "    elif i == 1:\n",
    "        plot_learning_curves(X_train_poly_norm, y_train, X_cv_poly_norm, y_cv, axes=axes_i, Lamd=1)"
   ]
  },
  {
   "cell_type": "markdown",
   "metadata": {},
   "source": [
    "###### $\\lambda$ = 1\n",
    "\n",
    "You should see a polynomial fit that follows the data trend well (left) and a learning curve (right) showing that **`both the cross validation and training error converge to a relatively low value`**. This shows the $\\lambda = 1$ regularized polynomial regression model **`does not have the high-bias or high-variance problems`**. In effect, it achieves a good trade-off between bias and variance."
   ]
  },
  {
   "cell_type": "code",
   "execution_count": null,
   "metadata": {},
   "outputs": [],
   "source": []
  },
  {
   "cell_type": "code",
   "execution_count": 42,
   "metadata": {},
   "outputs": [],
   "source": [
    "Lamd = 100\n",
    "theta_init_ones_poly = np.ones((X_train_poly_norm.shape[1],))\n",
    "\n",
    "res_lamd_100_poly = scipy_opt_minimize(theta_init_ones_poly, X_train_poly_norm, y_train, lamd=Lamd)"
   ]
  },
  {
   "cell_type": "code",
   "execution_count": 43,
   "metadata": {},
   "outputs": [],
   "source": [
    "X_pred, y_pred = do_predict_poly(res_lamd_100_poly.x, X_train)"
   ]
  },
  {
   "cell_type": "code",
   "execution_count": 44,
   "metadata": {},
   "outputs": [
    {
     "data": {
      "image/png": "[encoded data removed]",
      "text/plain": [
       "<Figure size 1152x432 with 2 Axes>"
      ]
     },
     "metadata": {
      "needs_background": "light"
     },
     "output_type": "display_data"
    }
   ],
   "source": [
    "fig, axes = plt.subplots(1, 2, figsize=((16, 6)))\n",
    "for i in range(2):\n",
    "    axes_i = axes.flatten()[i]\n",
    "    \n",
    "    if i == 0:\n",
    "        plot_ori_data(X_ori, y_ori, 'Change in water level (x)', 'Water flowing out of the dam (y)', axes_i)\n",
    "        plot_fit_curve(X_pred[:,0], y_pred, res_lamd_100_poly.x, axes_i)\n",
    "        axes_i.set_title ('Polynomial Regression Fit (lambda = {:f})'.format(100.0), fontsize=15)\n",
    "    elif i == 1:\n",
    "        plot_learning_curves(X_train_poly_norm, y_train, X_cv_poly_norm, y_cv, axes=axes_i, Lamd=100)"
   ]
  },
  {
   "cell_type": "markdown",
   "metadata": {},
   "source": [
    "###### $\\lambda$ = 100\n",
    "\n",
    "In this case, there is **`too much regularization`** and the model is unable to fit the training data. **`High bias`**"
   ]
  },
  {
   "cell_type": "code",
   "execution_count": null,
   "metadata": {},
   "outputs": [],
   "source": []
  },
  {
   "cell_type": "markdown",
   "metadata": {},
   "source": [
    "## Selecting $\\lambda$ using a cross validation set"
   ]
  },
  {
   "cell_type": "code",
   "execution_count": 45,
   "metadata": {},
   "outputs": [],
   "source": [
    "lamd_range = np.array([0, 0.001, 0.003, 0.01, 0.03, 0.1, 0.3, 1, 3, 10])\n",
    "train_cost, cv_cost = [], []\n",
    "test_cost = []"
   ]
  },
  {
   "cell_type": "code",
   "execution_count": 46,
   "metadata": {},
   "outputs": [],
   "source": [
    "for Lamd in lamd_range:\n",
    "    theta_init_ones_poly = np.ones((X_train_poly_norm.shape[1],))\n",
    "    res = scipy_opt_minimize(theta_init_ones_poly, X_train_poly_norm, y_train, lamd=Lamd)\n",
    "    \n",
    "    train_cost.append(cost_function(res.x, X_train_poly_norm, y_train))\n",
    "    cv_cost.append(cost_function(res.x, X_cv_poly_norm, y_cv))\n",
    "    test_cost.append(cost_function(res.x, X_test_poly_norm, y_test))\n",
    "\n",
    "train_cost = np.array(train_cost)\n",
    "cv_cost = np.array(cv_cost)\n",
    "test_cost = np.array(test_cost)"
   ]
  },
  {
   "cell_type": "code",
   "execution_count": 47,
   "metadata": {},
   "outputs": [
    {
     "name": "stdout",
     "output_type": "stream",
     "text": [
      "lambda\t\tTrain Error\tValidation Error\tTest Error\n",
      "\n",
      " 0.000000\t0.198053\t22.118920\t\t18.680500\n",
      "\n",
      " 0.001000\t0.199037\t19.797546\t\t17.087743\n",
      "\n",
      " 0.003000\t0.203432\t17.276773\t\t15.368135\n",
      "\n",
      " 0.010000\t0.224046\t13.765380\t\t13.027882\n",
      "\n",
      " 0.030000\t0.282881\t10.426900\t\t10.812814\n",
      "\n",
      " 0.100000\t0.449613\t7.012358\t\t7.779879\n",
      "\n",
      " 0.300000\t0.878637\t4.796847\t\t4.684120\n",
      "\n",
      " 1.000000\t1.911364\t3.933506\t\t3.098759\n",
      "\n",
      " 3.000000\t4.497521\t3.540889\t\t4.397589\n",
      "\n",
      " 10.000000\t15.240871\t10.596092\t\t17.234173\n",
      "\n"
     ]
    },
    {
     "data": {
      "image/png": "[encoded data removed]",
      "text/plain": [
       "<Figure size 432x288 with 1 Axes>"
      ]
     },
     "metadata": {
      "needs_background": "light"
     },
     "output_type": "display_data"
    }
   ],
   "source": [
    "print('lambda\\t\\tTrain Error\\tValidation Error\\tTest Error\\n')\n",
    "for i in np.arange(len(lamd_range)):\n",
    "    print(' {:f}\\t{:f}\\t{:f}\\t\\t{:f}\\n'.format(lamd_range[i], train_cost[i], cv_cost[i], test_cost[i]))\n",
    "    \n",
    "plt.plot(lamd_range, train_cost, label='train_cost')\n",
    "plt.plot(lamd_range, cv_cost, '--', label='cv_cost')\n",
    "#plt.plot(lamd_range, test_cost, label='test_cost')\n",
    "\n",
    "ind = np.where(cv_cost == np.amin(cv_cost))\n",
    "optLambda = lamd_range[ind]\n",
    "plt.scatter(optLambda, cv_cost[ind], label=\"best lamd - {%f - %0.4f}\" % (optLambda, cv_cost[ind]))\n",
    "plt.legend()\n",
    "plt.xlabel('lambda')\n",
    "plt.ylabel('cost')\n",
    "plt.show()"
   ]
  },
  {
   "cell_type": "markdown",
   "metadata": {},
   "source": [
    "In this figure, we can see that the best value of $\\lambda$ is around 3. \n",
    "\n",
    "Due to randomness in the training and validation splits of the dataset, the cross validation error can sometimes be lower than the training error."
   ]
  },
  {
   "cell_type": "code",
   "execution_count": null,
   "metadata": {},
   "outputs": [],
   "source": []
  },
  {
   "cell_type": "markdown",
   "metadata": {},
   "source": [
    "## Computing test set error\n",
    "In our cross validation, we obtained a test error of `3.8599` for $\\lambda = 3$."
   ]
  },
  {
   "cell_type": "code",
   "execution_count": 48,
   "metadata": {},
   "outputs": [],
   "source": [
    "res = scipy_opt_minimize(theta_init_ones_poly, X_train_poly_norm, y_train, lamd=3)"
   ]
  },
  {
   "cell_type": "code",
   "execution_count": 49,
   "metadata": {},
   "outputs": [
    {
     "data": {
      "text/plain": [
       "4.397589018879664"
      ]
     },
     "execution_count": 49,
     "metadata": {},
     "output_type": "execute_result"
    }
   ],
   "source": [
    "cost_function(res.x, X_test_poly_norm, y_test)"
   ]
  },
  {
   "cell_type": "code",
   "execution_count": null,
   "metadata": {},
   "outputs": [],
   "source": []
  },
  {
   "cell_type": "markdown",
   "metadata": {},
   "source": [
    "##  Plotting learning curves with randomly selected examples"
   ]
  },
  {
   "cell_type": "markdown",
   "metadata": {},
   "source": [
    "In practice, especially for `small training sets`, when you plot learning curves to debug your algorithms, it is often helpful to average across multiple sets of randomly selected examples to determine the training error and cross validation error.\n",
    "\n",
    "Concretely, to determine the training error and cross validation error for $i$ examples, you should first randomly select $i$ examples from the training set and $i$ examples from the cross validation set. You will then learn the parameters $\\theta$ using the randomly chosen training set and evaluate the parameters $\\theta$ on the randomly chosen training set and cross validation set. The above steps should then be `repeated multiple times` (say 50) and the averaged error should be used to determine the training error and cross validation error for $i$ examples."
   ]
  },
  {
   "cell_type": "code",
   "execution_count": 50,
   "metadata": {},
   "outputs": [],
   "source": [
    "def plot_learning_curves_random(lamd=0, times=100):\n",
    "    error_train_rand = np.zeros((sample, times))\n",
    "    error_cv_rand    = np.zeros((sample, times))\n",
    "    \n",
    "    for i in range(1, sample+1):\n",
    "        for t in range(times):\n",
    "            rand_sample_train = np.random.permutation(X_train_poly_norm.shape[0])\n",
    "            rand_sample_train = rand_sample_train[:i]\n",
    "            \n",
    "            rand_sample_cv    = np.random.permutation(X_cv_poly_norm.shape[0])\n",
    "            rand_sample_cv    = rand_sample_cv[:i]\n",
    "            \n",
    "            X_train_poly_norm_rand   = X_train_poly_norm[rand_sample_train,:]\n",
    "            y_train_rand             = y_train[rand_sample_train]\n",
    "            X_cv_poly_norm_rand      = X_cv_poly_norm[rand_sample_cv,:]\n",
    "            y_cv_rand                = y_cv[rand_sample_cv]\n",
    "            \n",
    "            theta_rand = np.ones((X_train_poly_norm_rand.shape[1],))\n",
    "            res = scipy_opt_minimize(theta_rand, X_train_poly_norm_rand, y_train_rand, lamd)\n",
    "            theta = res.x\n",
    "            \n",
    "            error_train_rand[i-1,t] = cost_function(theta, X_train_poly_norm_rand, y_train_rand)\n",
    "            error_cv_rand[i-1,t]    = cost_function(theta, X_cv_poly_norm_rand,   y_cv_rand)\n",
    "        \n",
    "    error_train = np.mean(error_train_rand, axis=1)\n",
    "    error_cv    = np.mean(error_cv_rand, axis=1)\n",
    "\n",
    "    plt.plot(np.arange(len(error_train))+1, error_train, label='Training error')\n",
    "    plt.plot(np.arange(len(error_cv))+1, error_cv, '--', label='Validation error')\n",
    "    plt.title('Learning curve for linear regression')\n",
    "    plt.xlabel('Number of training examples')\n",
    "    plt.ylabel('Error')\n",
    "    plt.legend()   \n",
    "    \n",
    "    print('Training Examples\\tTrain Error\\t\\tValidation Error\\n')\n",
    "    for i in np.arange(sample):\n",
    "        print(' {:f}\\t\\t{:f}\\t\\t{:f}\\n'.format(i+1, error_train[i], error_cv[i]))"
   ]
  },
  {
   "cell_type": "code",
   "execution_count": 51,
   "metadata": {},
   "outputs": [
    {
     "name": "stdout",
     "output_type": "stream",
     "text": [
      "Training Examples\tTrain Error\t\tValidation Error\n",
      "\n",
      " 1.000000\t\t0.000000\t\t195.688208\n",
      "\n",
      " 2.000000\t\t0.004401\t\t102.071928\n",
      "\n",
      " 3.000000\t\t0.017665\t\t32.807798\n",
      "\n",
      " 4.000000\t\t0.030813\t\t26.030391\n",
      "\n",
      " 5.000000\t\t0.050549\t\t17.339099\n",
      "\n",
      " 6.000000\t\t0.078854\t\t14.339228\n",
      "\n",
      " 7.000000\t\t0.109455\t\t14.739492\n",
      "\n",
      " 8.000000\t\t0.148026\t\t13.883105\n",
      "\n",
      " 9.000000\t\t0.170941\t\t13.936846\n",
      "\n",
      " 10.000000\t\t0.183919\t\t14.429258\n",
      "\n",
      " 11.000000\t\t0.205556\t\t13.918138\n",
      "\n",
      " 12.000000\t\t0.224031\t\t13.200509\n",
      "\n"
     ]
    },
    {
     "data": {
      "image/png": "[encoded data removed]",
      "text/plain": [
       "<Figure size 432x288 with 1 Axes>"
      ]
     },
     "metadata": {
      "needs_background": "light"
     },
     "output_type": "display_data"
    }
   ],
   "source": [
    "plot_learning_curves_random(0.01)"
   ]
  },
  {
   "cell_type": "code",
   "execution_count": 52,
   "metadata": {},
   "outputs": [
    {
     "name": "stdout",
     "output_type": "stream",
     "text": [
      "Training Examples\tTrain Error\t\tValidation Error\n",
      "\n",
      " 1.000000\t\t0.000000\t\t181.035196\n",
      "\n",
      " 2.000000\t\t7.343877\t\t100.666568\n",
      "\n",
      " 3.000000\t\t11.618485\t\t41.262407\n",
      "\n",
      " 4.000000\t\t9.161488\t\t43.571457\n",
      "\n",
      " 5.000000\t\t9.132814\t\t27.524302\n",
      "\n",
      " 6.000000\t\t7.620595\t\t22.272467\n",
      "\n",
      " 7.000000\t\t7.228114\t\t13.073387\n",
      "\n",
      " 8.000000\t\t6.670246\t\t9.335529\n",
      "\n",
      " 9.000000\t\t6.011157\t\t6.264556\n",
      "\n",
      " 10.000000\t\t5.309799\t\t4.301669\n",
      "\n",
      " 11.000000\t\t4.923078\t\t3.942752\n",
      "\n",
      " 12.000000\t\t4.497521\t\t3.470559\n",
      "\n"
     ]
    },
    {
     "data": {
      "image/png": "[encoded data removed]",
      "text/plain": [
       "<Figure size 432x288 with 1 Axes>"
      ]
     },
     "metadata": {
      "needs_background": "light"
     },
     "output_type": "display_data"
    }
   ],
   "source": [
    "plot_learning_curves_random(3)"
   ]
  },
  {
   "cell_type": "code",
   "execution_count": null,
   "metadata": {},
   "outputs": [],
   "source": []
  }
 ],
 "metadata": {
  "kernelspec": {
   "display_name": "Python 3",
   "language": "python",
   "name": "python3"
  },
  "language_info": {
   "codemirror_mode": {
    "name": "ipython",
    "version": 3
   },
   "file_extension": ".py",
   "mimetype": "text/x-python",
   "name": "python",
   "nbconvert_exporter": "python",
   "pygments_lexer": "ipython3",
   "version": "3.6.6"
  },
  "toc": {
   "base_numbering": 1,
   "nav_menu": {},
   "number_sections": true,
   "sideBar": true,
   "skip_h1_title": false,
   "title_cell": "Table of Contents",
   "title_sidebar": "Contents",
   "toc_cell": false,
   "toc_position": {},
   "toc_section_display": true,
   "toc_window_display": false
  }
 },
 "nbformat": 4,
 "nbformat_minor": 2
}
