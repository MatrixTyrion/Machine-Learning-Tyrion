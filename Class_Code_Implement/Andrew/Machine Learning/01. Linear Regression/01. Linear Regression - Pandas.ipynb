{
 "cells": [
  {
   "cell_type": "code",
   "execution_count": 38,
   "metadata": {},
   "outputs": [],
   "source": [
    "%matplotlib inline\n",
    "import numpy  as np\n",
    "import pandas as pd\n",
    "import matplotlib.pyplot as plt\n",
    "import scipy.optimize as opt"
   ]
  },
  {
   "cell_type": "markdown",
   "metadata": {},
   "source": [
    "# Linear Regression With One Variable"
   ]
  },
  {
   "cell_type": "code",
   "execution_count": 39,
   "metadata": {},
   "outputs": [
    {
     "name": "stdout",
     "output_type": "stream",
     "text": [
      "> ori_one_variable.shape (97, 2)\n"
     ]
    },
    {
     "data": {
      "text/html": [
       "<div>\n",
       "<style scoped>\n",
       "    .dataframe tbody tr th:only-of-type {\n",
       "        vertical-align: middle;\n",
       "    }\n",
       "\n",
       "    .dataframe tbody tr th {\n",
       "        vertical-align: top;\n",
       "    }\n",
       "\n",
       "    .dataframe thead th {\n",
       "        text-align: right;\n",
       "    }\n",
       "</style>\n",
       "<table border=\"1\" class=\"dataframe\">\n",
       "  <thead>\n",
       "    <tr style=\"text-align: right;\">\n",
       "      <th></th>\n",
       "      <th>Population</th>\n",
       "      <th>Profit</th>\n",
       "    </tr>\n",
       "  </thead>\n",
       "  <tbody>\n",
       "    <tr>\n",
       "      <th>0</th>\n",
       "      <td>6.1101</td>\n",
       "      <td>17.5920</td>\n",
       "    </tr>\n",
       "    <tr>\n",
       "      <th>1</th>\n",
       "      <td>5.5277</td>\n",
       "      <td>9.1302</td>\n",
       "    </tr>\n",
       "    <tr>\n",
       "      <th>2</th>\n",
       "      <td>8.5186</td>\n",
       "      <td>13.6620</td>\n",
       "    </tr>\n",
       "    <tr>\n",
       "      <th>3</th>\n",
       "      <td>7.0032</td>\n",
       "      <td>11.8540</td>\n",
       "    </tr>\n",
       "    <tr>\n",
       "      <th>4</th>\n",
       "      <td>5.8598</td>\n",
       "      <td>6.8233</td>\n",
       "    </tr>\n",
       "  </tbody>\n",
       "</table>\n",
       "</div>"
      ],
      "text/plain": [
       "   Population   Profit\n",
       "0      6.1101  17.5920\n",
       "1      5.5277   9.1302\n",
       "2      8.5186  13.6620\n",
       "3      7.0032  11.8540\n",
       "4      5.8598   6.8233"
      ]
     },
     "execution_count": 39,
     "metadata": {},
     "output_type": "execute_result"
    }
   ],
   "source": [
    "path = \"dataset/ex1data1.txt\"\n",
    "ori_one_variable = pd.read_csv(path, names=['Population', 'Profit'])\n",
    "print(\"> ori_one_variable.shape\", ori_one_variable.shape)\n",
    "ori_one_variable.head()"
   ]
  },
  {
   "cell_type": "markdown",
   "metadata": {},
   "source": [
    "###### add 1's columns of one to dataset"
   ]
  },
  {
   "cell_type": "code",
   "execution_count": 40,
   "metadata": {},
   "outputs": [
    {
     "data": {
      "text/html": [
       "<div>\n",
       "<style scoped>\n",
       "    .dataframe tbody tr th:only-of-type {\n",
       "        vertical-align: middle;\n",
       "    }\n",
       "\n",
       "    .dataframe tbody tr th {\n",
       "        vertical-align: top;\n",
       "    }\n",
       "\n",
       "    .dataframe thead th {\n",
       "        text-align: right;\n",
       "    }\n",
       "</style>\n",
       "<table border=\"1\" class=\"dataframe\">\n",
       "  <thead>\n",
       "    <tr style=\"text-align: right;\">\n",
       "      <th></th>\n",
       "      <th>Ones</th>\n",
       "      <th>Population</th>\n",
       "      <th>Profit</th>\n",
       "    </tr>\n",
       "  </thead>\n",
       "  <tbody>\n",
       "    <tr>\n",
       "      <th>0</th>\n",
       "      <td>1</td>\n",
       "      <td>6.1101</td>\n",
       "      <td>17.5920</td>\n",
       "    </tr>\n",
       "    <tr>\n",
       "      <th>1</th>\n",
       "      <td>1</td>\n",
       "      <td>5.5277</td>\n",
       "      <td>9.1302</td>\n",
       "    </tr>\n",
       "    <tr>\n",
       "      <th>2</th>\n",
       "      <td>1</td>\n",
       "      <td>8.5186</td>\n",
       "      <td>13.6620</td>\n",
       "    </tr>\n",
       "    <tr>\n",
       "      <th>3</th>\n",
       "      <td>1</td>\n",
       "      <td>7.0032</td>\n",
       "      <td>11.8540</td>\n",
       "    </tr>\n",
       "    <tr>\n",
       "      <th>4</th>\n",
       "      <td>1</td>\n",
       "      <td>5.8598</td>\n",
       "      <td>6.8233</td>\n",
       "    </tr>\n",
       "  </tbody>\n",
       "</table>\n",
       "</div>"
      ],
      "text/plain": [
       "   Ones  Population   Profit\n",
       "0     1      6.1101  17.5920\n",
       "1     1      5.5277   9.1302\n",
       "2     1      8.5186  13.6620\n",
       "3     1      7.0032  11.8540\n",
       "4     1      5.8598   6.8233"
      ]
     },
     "execution_count": 40,
     "metadata": {},
     "output_type": "execute_result"
    }
   ],
   "source": [
    "def add_intercept(ori):\n",
    "    ori.insert(0, 'Ones', 1)\n",
    "    return ori\n",
    "    \n",
    "train_set = add_intercept(ori_one_variable)\n",
    "train_set.head()"
   ]
  },
  {
   "cell_type": "markdown",
   "metadata": {},
   "source": [
    "###### get train data"
   ]
  },
  {
   "cell_type": "code",
   "execution_count": 41,
   "metadata": {},
   "outputs": [
    {
     "name": "stdout",
     "output_type": "stream",
     "text": [
      "> X_train.shape :  (97, 2)\n",
      "> y_train.shape :  (97,)\n",
      "> Sample :  97\n"
     ]
    }
   ],
   "source": [
    "def get_train_data(train_set, method=0):\n",
    "    m = train_set.shape[0]\n",
    "    if method == 0:      # return numpy.ndarray  <通用>\n",
    "        X_train = train_set.iloc[:, :-1].values\n",
    "        y_train = train_set.iloc[:, -1:].values.reshape((-1,))\n",
    "    elif method == 1:\n",
    "        X_train = train_set[[\"Population\"]].values\n",
    "        y_train = train_set[[\"Profit\"]].values.reshape((-1,))\n",
    "    elif method == 2:\n",
    "        X_train = train_set[[\"Size\", \"Bedrooms\"]].values\n",
    "        y_train = train_set[[\"Price\"]].values.reshape((-1,))\n",
    "    \n",
    "    print(\"> X_train.shape : \", X_train.shape)\n",
    "    print(\"> y_train.shape : \", y_train.shape)\n",
    "    print(\"> Sample : \", m)\n",
    "    \n",
    "    return X_train, y_train, m\n",
    "\n",
    "X_train, y_train, m = get_train_data(train_set)"
   ]
  },
  {
   "cell_type": "markdown",
   "metadata": {},
   "source": [
    "###### plot original data"
   ]
  },
  {
   "cell_type": "code",
   "execution_count": 42,
   "metadata": {},
   "outputs": [
    {
     "data": {
      "text/plain": [
       "<matplotlib.axes._subplots.AxesSubplot at 0x7f97dd5cd278>"
      ]
     },
     "execution_count": 42,
     "metadata": {},
     "output_type": "execute_result"
    },
    {
     "data": {
      "image/png": "[encoded data removed]",
      "text/plain": [
       "<Figure size 432x288 with 1 Axes>"
      ]
     },
     "metadata": {},
     "output_type": "display_data"
    }
   ],
   "source": [
    "ori_one_variable.plot(kind='scatter', x='Population', y='Profit')"
   ]
  },
  {
   "cell_type": "markdown",
   "metadata": {},
   "source": [
    "###### hypothesis"
   ]
  },
  {
   "cell_type": "code",
   "execution_count": 43,
   "metadata": {},
   "outputs": [],
   "source": [
    "def hypothesis(theta, X):\n",
    "    hyp = X @ theta    # np.dot(X, theta)\n",
    "    return hyp"
   ]
  },
  {
   "cell_type": "code",
   "execution_count": 44,
   "metadata": {},
   "outputs": [
    {
     "name": "stdout",
     "output_type": "stream",
     "text": [
      "Cost : 32.073\n",
      "Cost : 32.073\n",
      "Cost : 32.073\n"
     ]
    }
   ],
   "source": [
    "def cost_function(theta, X, y, method=0):\n",
    "    global J_history\n",
    "\n",
    "    err = hypothesis(theta, X) - y    # (m, )\n",
    "    if method == 0:\n",
    "        sum_err = err.T @ err\n",
    "        cost = sum_err / (2 * m)\n",
    "    elif method == 1:\n",
    "        sum_err = np.sum(np.square(err))\n",
    "        cost = sum_err / (2 * m)\n",
    "    elif method == 2:\n",
    "        cost = np.mean(np.square(err)) / 2\n",
    "    J_history.append(cost)\n",
    "    \n",
    "    return cost\n",
    "\n",
    "\n",
    "J_history = []\n",
    "for i in range(3):\n",
    "    theta = np.zeros((X_train.shape[1],))\n",
    "    J_history = []\n",
    "    cost = cost_function(theta, X_train, y_train, i)\n",
    "    print(\"Cost : %.3f\" % cost)"
   ]
  },
  {
   "cell_type": "code",
   "execution_count": 45,
   "metadata": {},
   "outputs": [],
   "source": [
    "def gradient(theta, X, y):\n",
    "    err = hypothesis(theta, X) - y\n",
    "    grad = (X.T @ err) / m\n",
    "        \n",
    "    return grad"
   ]
  },
  {
   "cell_type": "code",
   "execution_count": 9,
   "metadata": {},
   "outputs": [],
   "source": [
    "def batch_gradient_descent(theta, X, y, lr=0.01, iterations=1500):\n",
    "    global J_history\n",
    "    J_history = []\n",
    "    theta_history = []\n",
    "    cost_function(theta, X, y)\n",
    "    theta_history.append(list(theta))\n",
    "    \n",
    "    for _ in range(iterations):\n",
    "        cost_function(theta, X, y)\n",
    "        grad = gradient(theta, X, y)\n",
    "        theta = theta - lr * grad\n",
    "        theta_history.append(list(theta))\n",
    "    \n",
    "    return {\n",
    "        \"lr\":lr,\n",
    "        \"iterations\":iterations,\n",
    "        \"theta\":theta,\n",
    "        \"cost_history\":J_history.copy(),\n",
    "        \"theta_history\":theta_history#.copy()\n",
    "    }"
   ]
  },
  {
   "cell_type": "code",
   "execution_count": 46,
   "metadata": {},
   "outputs": [
    {
     "name": "stdout",
     "output_type": "stream",
     "text": [
      "result_dict :\n",
      "\t dict_keys(['lr', 'iterations', 'theta', 'cost_history', 'theta_history'])\n",
      "Batch Gradient Descent Theta :\n",
      "\t [-3.63029144  1.16636235]\n"
     ]
    }
   ],
   "source": [
    "theta = np.zeros((X_train.shape[1],))\n",
    "results_batch_GD = []\n",
    "res = batch_gradient_descent(theta, X_train, y_train)\n",
    "results_batch_GD.append(res)\n",
    "print(\"result_dict :\\n\\t\", results_batch_GD[0].keys())\n",
    "print(\"Batch Gradient Descent Theta :\\n\\t\", results_batch_GD[0][\"theta\"])"
   ]
  },
  {
   "cell_type": "code",
   "execution_count": 47,
   "metadata": {},
   "outputs": [
    {
     "data": {
      "image/png": "[encoded data removed]",
      "text/plain": [
       "<Figure size 720x432 with 1 Axes>"
      ]
     },
     "metadata": {},
     "output_type": "display_data"
    }
   ],
   "source": [
    "def plot_convergenct_curve(j_history):\n",
    "    plt.figure(figsize=(10,6))\n",
    "    plt.plot(np.arange(len(j_history)), j_history)\n",
    "    #plt.scatter(np.arange(len(j_history)), j_history)\n",
    "    plt.grid(True)\n",
    "    plt.title(\"Convergence of Cost Function\")\n",
    "    plt.xlabel(\"Iteration number\")\n",
    "    plt.ylabel(\"Cost function\")\n",
    "    \n",
    "plot_convergenct_curve(results_batch_GD[0][\"cost_history\"])\n",
    "#plot_convergenct_curve(results_scipy[0][\"cost_history\"])\n",
    "#plot_convergenct_curve(results_scipy[1][\"cost_history\"])"
   ]
  },
  {
   "cell_type": "code",
   "execution_count": 48,
   "metadata": {},
   "outputs": [
    {
     "data": {
      "image/png": "[encoded data removed]",
      "text/plain": [
       "<Figure size 720x432 with 1 Axes>"
      ]
     },
     "metadata": {},
     "output_type": "display_data"
    }
   ],
   "source": [
    "def plot_fit_curve(predict_x, predict_y, theta):\n",
    "    plt.figure(figsize=(10,6))\n",
    "    plt.plot(X_train[:,1:], y_train, 'rx', markersize=10, label='Train Set')\n",
    "    plt.plot(predict_x, predict_y, 'b-', label='Hypothesis: h(x) = %0.2f + %0.2f * x' % (theta[0], theta[1]))\n",
    "    plt.grid(True)\n",
    "    plt.ylabel('Profit in $10,000s')\n",
    "    plt.xlabel('Population of City in 10,000s')\n",
    "    plt.legend()\n",
    "    plt.show()\n",
    "\n",
    "\n",
    "predict_x = np.linspace(X_train[:,1].min(), X_train[:,1].max(), 100).reshape((-1,1))\n",
    "predict_x = np.insert(predict_x, 0, 1, axis=1)\n",
    "theta = results_batch_GD[0]['theta']\n",
    "predict_y = hypothesis(theta, predict_x)\n",
    "plot_fit_curve(predict_x[:,1], predict_y, theta)"
   ]
  },
  {
   "cell_type": "code",
   "execution_count": null,
   "metadata": {},
   "outputs": [],
   "source": []
  },
  {
   "cell_type": "markdown",
   "metadata": {},
   "source": [
    "# Linear Regression With Multiple Variables"
   ]
  },
  {
   "cell_type": "code",
   "execution_count": 49,
   "metadata": {},
   "outputs": [
    {
     "name": "stdout",
     "output_type": "stream",
     "text": [
      "> ori_mul_variable.shape (47, 3)\n"
     ]
    },
    {
     "data": {
      "text/html": [
       "<div>\n",
       "<style scoped>\n",
       "    .dataframe tbody tr th:only-of-type {\n",
       "        vertical-align: middle;\n",
       "    }\n",
       "\n",
       "    .dataframe tbody tr th {\n",
       "        vertical-align: top;\n",
       "    }\n",
       "\n",
       "    .dataframe thead th {\n",
       "        text-align: right;\n",
       "    }\n",
       "</style>\n",
       "<table border=\"1\" class=\"dataframe\">\n",
       "  <thead>\n",
       "    <tr style=\"text-align: right;\">\n",
       "      <th></th>\n",
       "      <th>Size</th>\n",
       "      <th>Bedrooms</th>\n",
       "      <th>Price</th>\n",
       "    </tr>\n",
       "  </thead>\n",
       "  <tbody>\n",
       "    <tr>\n",
       "      <th>0</th>\n",
       "      <td>2104</td>\n",
       "      <td>3</td>\n",
       "      <td>399900</td>\n",
       "    </tr>\n",
       "    <tr>\n",
       "      <th>1</th>\n",
       "      <td>1600</td>\n",
       "      <td>3</td>\n",
       "      <td>329900</td>\n",
       "    </tr>\n",
       "    <tr>\n",
       "      <th>2</th>\n",
       "      <td>2400</td>\n",
       "      <td>3</td>\n",
       "      <td>369000</td>\n",
       "    </tr>\n",
       "    <tr>\n",
       "      <th>3</th>\n",
       "      <td>1416</td>\n",
       "      <td>2</td>\n",
       "      <td>232000</td>\n",
       "    </tr>\n",
       "    <tr>\n",
       "      <th>4</th>\n",
       "      <td>3000</td>\n",
       "      <td>4</td>\n",
       "      <td>539900</td>\n",
       "    </tr>\n",
       "  </tbody>\n",
       "</table>\n",
       "</div>"
      ],
      "text/plain": [
       "   Size  Bedrooms   Price\n",
       "0  2104         3  399900\n",
       "1  1600         3  329900\n",
       "2  2400         3  369000\n",
       "3  1416         2  232000\n",
       "4  3000         4  539900"
      ]
     },
     "execution_count": 49,
     "metadata": {},
     "output_type": "execute_result"
    }
   ],
   "source": [
    "path = \"dataset/ex1data2.txt\"\n",
    "ori_mul_variable = pd.read_csv(path, names=['Size', 'Bedrooms','Price'])\n",
    "print(\"> ori_mul_variable.shape\", ori_mul_variable.shape)\n",
    "ori_mul_variable.head()"
   ]
  },
  {
   "cell_type": "code",
   "execution_count": 50,
   "metadata": {},
   "outputs": [
    {
     "data": {
      "text/plain": [
       "(47, 3)"
      ]
     },
     "execution_count": 50,
     "metadata": {},
     "output_type": "execute_result"
    }
   ],
   "source": [
    "ori_mul_variable.shape"
   ]
  },
  {
   "cell_type": "code",
   "execution_count": 51,
   "metadata": {},
   "outputs": [
    {
     "name": "stdout",
     "output_type": "stream",
     "text": [
      "<class 'pandas.core.frame.DataFrame'>\n",
      "RangeIndex: 47 entries, 0 to 46\n",
      "Data columns (total 3 columns):\n",
      "Size        47 non-null int64\n",
      "Bedrooms    47 non-null int64\n",
      "Price       47 non-null int64\n",
      "dtypes: int64(3)\n",
      "memory usage: 1.2 KB\n"
     ]
    }
   ],
   "source": [
    "ori_mul_variable.info()"
   ]
  },
  {
   "cell_type": "code",
   "execution_count": 52,
   "metadata": {},
   "outputs": [
    {
     "data": {
      "text/html": [
       "<div>\n",
       "<style scoped>\n",
       "    .dataframe tbody tr th:only-of-type {\n",
       "        vertical-align: middle;\n",
       "    }\n",
       "\n",
       "    .dataframe tbody tr th {\n",
       "        vertical-align: top;\n",
       "    }\n",
       "\n",
       "    .dataframe thead th {\n",
       "        text-align: right;\n",
       "    }\n",
       "</style>\n",
       "<table border=\"1\" class=\"dataframe\">\n",
       "  <thead>\n",
       "    <tr style=\"text-align: right;\">\n",
       "      <th></th>\n",
       "      <th>Size</th>\n",
       "      <th>Bedrooms</th>\n",
       "      <th>Price</th>\n",
       "    </tr>\n",
       "  </thead>\n",
       "  <tbody>\n",
       "    <tr>\n",
       "      <th>count</th>\n",
       "      <td>47.000000</td>\n",
       "      <td>47.000000</td>\n",
       "      <td>47.000000</td>\n",
       "    </tr>\n",
       "    <tr>\n",
       "      <th>mean</th>\n",
       "      <td>2000.680851</td>\n",
       "      <td>3.170213</td>\n",
       "      <td>340412.659574</td>\n",
       "    </tr>\n",
       "    <tr>\n",
       "      <th>std</th>\n",
       "      <td>794.702354</td>\n",
       "      <td>0.760982</td>\n",
       "      <td>125039.899586</td>\n",
       "    </tr>\n",
       "    <tr>\n",
       "      <th>min</th>\n",
       "      <td>852.000000</td>\n",
       "      <td>1.000000</td>\n",
       "      <td>169900.000000</td>\n",
       "    </tr>\n",
       "    <tr>\n",
       "      <th>25%</th>\n",
       "      <td>1432.000000</td>\n",
       "      <td>3.000000</td>\n",
       "      <td>249900.000000</td>\n",
       "    </tr>\n",
       "    <tr>\n",
       "      <th>50%</th>\n",
       "      <td>1888.000000</td>\n",
       "      <td>3.000000</td>\n",
       "      <td>299900.000000</td>\n",
       "    </tr>\n",
       "    <tr>\n",
       "      <th>75%</th>\n",
       "      <td>2269.000000</td>\n",
       "      <td>4.000000</td>\n",
       "      <td>384450.000000</td>\n",
       "    </tr>\n",
       "    <tr>\n",
       "      <th>max</th>\n",
       "      <td>4478.000000</td>\n",
       "      <td>5.000000</td>\n",
       "      <td>699900.000000</td>\n",
       "    </tr>\n",
       "  </tbody>\n",
       "</table>\n",
       "</div>"
      ],
      "text/plain": [
       "              Size   Bedrooms          Price\n",
       "count    47.000000  47.000000      47.000000\n",
       "mean   2000.680851   3.170213  340412.659574\n",
       "std     794.702354   0.760982  125039.899586\n",
       "min     852.000000   1.000000  169900.000000\n",
       "25%    1432.000000   3.000000  249900.000000\n",
       "50%    1888.000000   3.000000  299900.000000\n",
       "75%    2269.000000   4.000000  384450.000000\n",
       "max    4478.000000   5.000000  699900.000000"
      ]
     },
     "execution_count": 52,
     "metadata": {},
     "output_type": "execute_result"
    }
   ],
   "source": [
    "ori_mul_variable.describe()"
   ]
  },
  {
   "cell_type": "markdown",
   "metadata": {},
   "source": [
    "###### Feature Normalization"
   ]
  },
  {
   "cell_type": "code",
   "execution_count": 53,
   "metadata": {},
   "outputs": [
    {
     "data": {
      "text/html": [
       "<div>\n",
       "<style scoped>\n",
       "    .dataframe tbody tr th:only-of-type {\n",
       "        vertical-align: middle;\n",
       "    }\n",
       "\n",
       "    .dataframe tbody tr th {\n",
       "        vertical-align: top;\n",
       "    }\n",
       "\n",
       "    .dataframe thead th {\n",
       "        text-align: right;\n",
       "    }\n",
       "</style>\n",
       "<table border=\"1\" class=\"dataframe\">\n",
       "  <thead>\n",
       "    <tr style=\"text-align: right;\">\n",
       "      <th></th>\n",
       "      <th>Size</th>\n",
       "      <th>Bedrooms</th>\n",
       "      <th>Price</th>\n",
       "    </tr>\n",
       "  </thead>\n",
       "  <tbody>\n",
       "    <tr>\n",
       "      <th>0</th>\n",
       "      <td>0.130010</td>\n",
       "      <td>-0.223675</td>\n",
       "      <td>399900</td>\n",
       "    </tr>\n",
       "    <tr>\n",
       "      <th>1</th>\n",
       "      <td>-0.504190</td>\n",
       "      <td>-0.223675</td>\n",
       "      <td>329900</td>\n",
       "    </tr>\n",
       "    <tr>\n",
       "      <th>2</th>\n",
       "      <td>0.502476</td>\n",
       "      <td>-0.223675</td>\n",
       "      <td>369000</td>\n",
       "    </tr>\n",
       "    <tr>\n",
       "      <th>3</th>\n",
       "      <td>-0.735723</td>\n",
       "      <td>-1.537767</td>\n",
       "      <td>232000</td>\n",
       "    </tr>\n",
       "    <tr>\n",
       "      <th>4</th>\n",
       "      <td>1.257476</td>\n",
       "      <td>1.090417</td>\n",
       "      <td>539900</td>\n",
       "    </tr>\n",
       "  </tbody>\n",
       "</table>\n",
       "</div>"
      ],
      "text/plain": [
       "       Size  Bedrooms  Price \n",
       "0  0.130010 -0.223675  399900\n",
       "1 -0.504190 -0.223675  329900\n",
       "2  0.502476 -0.223675  369000\n",
       "3 -0.735723 -1.537767  232000\n",
       "4  1.257476  1.090417  539900"
      ]
     },
     "execution_count": 53,
     "metadata": {},
     "output_type": "execute_result"
    }
   ],
   "source": [
    "dataset = ori_mul_variable.copy()\n",
    "dataset_norm = (dataset.iloc[:,:-1] - dataset.iloc[:,:-1].mean()) / dataset.iloc[:,:-1].std()\n",
    "dataset_norm[\"Price \"] = dataset.iloc[:,-1]\n",
    "dataset_norm.head()"
   ]
  },
  {
   "cell_type": "markdown",
   "metadata": {},
   "source": [
    "###### add 1's columns of one to dataset"
   ]
  },
  {
   "cell_type": "code",
   "execution_count": 54,
   "metadata": {},
   "outputs": [
    {
     "data": {
      "text/html": [
       "<div>\n",
       "<style scoped>\n",
       "    .dataframe tbody tr th:only-of-type {\n",
       "        vertical-align: middle;\n",
       "    }\n",
       "\n",
       "    .dataframe tbody tr th {\n",
       "        vertical-align: top;\n",
       "    }\n",
       "\n",
       "    .dataframe thead th {\n",
       "        text-align: right;\n",
       "    }\n",
       "</style>\n",
       "<table border=\"1\" class=\"dataframe\">\n",
       "  <thead>\n",
       "    <tr style=\"text-align: right;\">\n",
       "      <th></th>\n",
       "      <th>Ones</th>\n",
       "      <th>Size</th>\n",
       "      <th>Bedrooms</th>\n",
       "      <th>Price</th>\n",
       "    </tr>\n",
       "  </thead>\n",
       "  <tbody>\n",
       "    <tr>\n",
       "      <th>0</th>\n",
       "      <td>1</td>\n",
       "      <td>0.130010</td>\n",
       "      <td>-0.223675</td>\n",
       "      <td>399900</td>\n",
       "    </tr>\n",
       "    <tr>\n",
       "      <th>1</th>\n",
       "      <td>1</td>\n",
       "      <td>-0.504190</td>\n",
       "      <td>-0.223675</td>\n",
       "      <td>329900</td>\n",
       "    </tr>\n",
       "    <tr>\n",
       "      <th>2</th>\n",
       "      <td>1</td>\n",
       "      <td>0.502476</td>\n",
       "      <td>-0.223675</td>\n",
       "      <td>369000</td>\n",
       "    </tr>\n",
       "    <tr>\n",
       "      <th>3</th>\n",
       "      <td>1</td>\n",
       "      <td>-0.735723</td>\n",
       "      <td>-1.537767</td>\n",
       "      <td>232000</td>\n",
       "    </tr>\n",
       "    <tr>\n",
       "      <th>4</th>\n",
       "      <td>1</td>\n",
       "      <td>1.257476</td>\n",
       "      <td>1.090417</td>\n",
       "      <td>539900</td>\n",
       "    </tr>\n",
       "  </tbody>\n",
       "</table>\n",
       "</div>"
      ],
      "text/plain": [
       "   Ones      Size  Bedrooms  Price \n",
       "0     1  0.130010 -0.223675  399900\n",
       "1     1 -0.504190 -0.223675  329900\n",
       "2     1  0.502476 -0.223675  369000\n",
       "3     1 -0.735723 -1.537767  232000\n",
       "4     1  1.257476  1.090417  539900"
      ]
     },
     "execution_count": 54,
     "metadata": {},
     "output_type": "execute_result"
    }
   ],
   "source": [
    "train_set = add_intercept(dataset_norm)\n",
    "train_set.head()"
   ]
  },
  {
   "cell_type": "markdown",
   "metadata": {},
   "source": [
    "###### get train data"
   ]
  },
  {
   "cell_type": "code",
   "execution_count": 55,
   "metadata": {},
   "outputs": [
    {
     "name": "stdout",
     "output_type": "stream",
     "text": [
      "> X_train.shape :  (47, 3)\n",
      "> y_train.shape :  (47,)\n",
      "> Sample :  47\n"
     ]
    }
   ],
   "source": [
    "X_train, y_train, m = get_train_data(train_set)"
   ]
  },
  {
   "cell_type": "code",
   "execution_count": 56,
   "metadata": {},
   "outputs": [
    {
     "name": "stdout",
     "output_type": "stream",
     "text": [
      "> X_train.shape :  (47, 2)\n",
      "> y_train.shape :  (47,)\n",
      "> Sample :  47\n"
     ]
    }
   ],
   "source": [
    "X_ori, y_ori, _ = get_train_data(ori_mul_variable)"
   ]
  },
  {
   "cell_type": "markdown",
   "metadata": {},
   "source": [
    "###### plot original data"
   ]
  },
  {
   "cell_type": "code",
   "execution_count": 21,
   "metadata": {},
   "outputs": [
    {
     "data": {
      "text/plain": [
       "<matplotlib.legend.Legend at 0x7f97e36ac908>"
      ]
     },
     "execution_count": 21,
     "metadata": {},
     "output_type": "execute_result"
    },
    {
     "data": {
      "image/png": "[encoded data removed]",
      "text/plain": [
       "<Figure size 864x360 with 2 Axes>"
      ]
     },
     "metadata": {},
     "output_type": "display_data"
    }
   ],
   "source": [
    "# > hist\n",
    "plt.figure(figsize=(12, 5))\n",
    "plt.subplot(1,2,1)\n",
    "plt.hist(dataset[\"Size\"], label=\"Size\")\n",
    "plt.hist(dataset[\"Bedrooms\"], label=\"Bedrooms\")\n",
    "plt.title('Before Feature Normalization')\n",
    "plt.xlabel('Column Value')\n",
    "plt.ylabel('Counts')\n",
    "plt.legend()\n",
    "\n",
    "plt.subplot(1,2,2)\n",
    "plt.hist(dataset_norm[\"Size\"], label=\"Size\")\n",
    "plt.hist(dataset_norm[\"Bedrooms\"], label=\"Bedrooms\")\n",
    "plt.title('After Feature Normalization')\n",
    "plt.xlabel('Column Value')\n",
    "plt.ylabel('Counts')\n",
    "plt.legend()"
   ]
  },
  {
   "cell_type": "code",
   "execution_count": 22,
   "metadata": {},
   "outputs": [
    {
     "data": {
      "image/png": "[encoded data removed]",
      "text/plain": [
       "<Figure size 1008x288 with 2 Axes>"
      ]
     },
     "metadata": {},
     "output_type": "display_data"
    },
    {
     "data": {
      "image/png": "[encoded data removed]",
      "text/plain": [
       "<Figure size 1008x288 with 2 Axes>"
      ]
     },
     "metadata": {},
     "output_type": "display_data"
    }
   ],
   "source": [
    "def plot_multi_variable(X, y):\n",
    "    plt.figure(figsize=(14,4))\n",
    "    plt.subplot(1,2,1)\n",
    "    plt.scatter(X[:,0], y)\n",
    "    plt.ylabel('Price')\n",
    "    plt.xlabel('the size of the house')\n",
    "\n",
    "    plt.subplot(1,2,2)\n",
    "    plt.scatter(X[:,1], y)\n",
    "    plt.ylabel('Price')\n",
    "    plt.xlabel('the number of bedrooms')\n",
    "\n",
    "plot_multi_variable(X_ori, y_ori)\n",
    "plot_multi_variable(X_train[:,1:], y_train)"
   ]
  },
  {
   "cell_type": "code",
   "execution_count": 23,
   "metadata": {},
   "outputs": [
    {
     "data": {
      "image/png": "[encoded data removed]",
      "text/plain": [
       "<Figure size 1008x288 with 4 Axes>"
      ]
     },
     "metadata": {},
     "output_type": "display_data"
    }
   ],
   "source": [
    "def plot_colorbar(X, y):\n",
    "    sc = plt.scatter(X[:,0],X[:,1], c = y, s= 50)\n",
    "    cb = plt.colorbar(sc)\n",
    "    cb.ax.set_ylabel('House Price $')\n",
    "    plt.xlabel('Size m^2')\n",
    "    plt.ylabel('# of Bedrooms')\n",
    "\n",
    "plt.figure(figsize=(14,4))\n",
    "plt.subplot(1,2,1)\n",
    "plot_colorbar(X_ori, y_ori)\n",
    "plt.subplot(1,2,2)\n",
    "plot_colorbar(X_train[:,1:], y_train)"
   ]
  },
  {
   "cell_type": "markdown",
   "metadata": {},
   "source": [
    "###### Trainning"
   ]
  },
  {
   "cell_type": "code",
   "execution_count": 65,
   "metadata": {},
   "outputs": [
    {
     "name": "stdout",
     "output_type": "stream",
     "text": [
      "> X_train.shape :  (47, 3)\n",
      "> y_train.shape :  (47,)\n",
      "> Sample :  47\n"
     ]
    }
   ],
   "source": [
    "X_train, y_train, m = get_train_data(train_set)"
   ]
  },
  {
   "cell_type": "markdown",
   "metadata": {},
   "source": [
    "###### Trainning - batch gradient descent"
   ]
  },
  {
   "cell_type": "code",
   "execution_count": 57,
   "metadata": {},
   "outputs": [
    {
     "name": "stdout",
     "output_type": "stream",
     "text": [
      "result_dict :\n",
      "\t dict_keys(['lr', 'iterations', 'theta', 'cost_history', 'theta_history'])\n",
      "Batch Gradient Descent Theta :\n",
      "\t [340412.56301439 110540.56654627  -6558.99054811]\n"
     ]
    }
   ],
   "source": [
    "theta = np.zeros((X_train.shape[1],))\n",
    "results_batch_GD = []\n",
    "res = batch_gradient_descent(theta, X_train, y_train)\n",
    "results_batch_GD.append(res)\n",
    "print(\"result_dict :\\n\\t\", results_batch_GD[0].keys())\n",
    "print(\"Batch Gradient Descent Theta :\\n\\t\", results_batch_GD[0][\"theta\"])"
   ]
  },
  {
   "cell_type": "code",
   "execution_count": 58,
   "metadata": {},
   "outputs": [
    {
     "data": {
      "image/png": "[encoded data removed]",
      "text/plain": [
       "<Figure size 720x432 with 1 Axes>"
      ]
     },
     "metadata": {},
     "output_type": "display_data"
    }
   ],
   "source": [
    "plot_convergenct_curve(results_batch_GD[0][\"cost_history\"])"
   ]
  },
  {
   "cell_type": "code",
   "execution_count": 67,
   "metadata": {},
   "outputs": [
    {
     "data": {
      "text/plain": [
       "array([340412.56301439, 110540.56654627,  -6558.99054811])"
      ]
     },
     "execution_count": 67,
     "metadata": {},
     "output_type": "execute_result"
    }
   ],
   "source": [
    "results_batch_GD[0][\"theta\"]"
   ]
  },
  {
   "cell_type": "markdown",
   "metadata": {},
   "source": [
    "###### Trainning - scipy"
   ]
  },
  {
   "cell_type": "code",
   "execution_count": 60,
   "metadata": {},
   "outputs": [],
   "source": [
    "def scipy_optimizer(theta, X, y, Method):\n",
    "    res = opt.minimize(\n",
    "        fun    = cost_function,\n",
    "        x0     = theta,\n",
    "        args   = (X, y),\n",
    "        method = Method,\n",
    "        jac    = gradient\n",
    "    )\n",
    "    \n",
    "    return {\n",
    "        \"theta\" : res.x,\n",
    "        \"cost_history\" : J_history.copy()\n",
    "    }"
   ]
  },
  {
   "cell_type": "code",
   "execution_count": 61,
   "metadata": {},
   "outputs": [],
   "source": [
    "optimizer_dict = {\n",
    "    \"BFGS\" : \"BFGS\",\n",
    "    \"TNC\"  : \"TNC\"\n",
    "}\n",
    "\n",
    "results_scipy = []\n",
    "for name in optimizer_dict:\n",
    "    J_history = []\n",
    "    theta = np.zeros((X_train.shape[1],))\n",
    "    res = scipy_optimizer(theta, X_train, y_train, optimizer_dict[name])\n",
    "    res['name'] = name\n",
    "    results_scipy.append(res)"
   ]
  },
  {
   "cell_type": "code",
   "execution_count": 70,
   "metadata": {},
   "outputs": [
    {
     "name": "stdout",
     "output_type": "stream",
     "text": [
      "Method BFGS\n",
      "> theta 340412.660 110631.050 -6649.474 \n",
      "\n",
      "Method TNC\n",
      "> theta 340412.660 110631.050 -6649.474 \n",
      "\n"
     ]
    }
   ],
   "source": [
    "for res in results_scipy:\n",
    "    print(\"Method %s\" % res['name'])    \n",
    "    print(\"> theta\", ' '.join('%.3f' % i for i in res['theta']), '\\n')\n",
    "    #print(\"> cost_history\\n\", ' '.join('%.3f' % i for i in res['cost_history']), \"\\n\")"
   ]
  },
  {
   "cell_type": "markdown",
   "metadata": {},
   "source": [
    "###### Trainning - sklearn"
   ]
  },
  {
   "cell_type": "code",
   "execution_count": 63,
   "metadata": {},
   "outputs": [
    {
     "name": "stdout",
     "output_type": "stream",
     "text": [
      "> model.intercept_ 0.0\n",
      "> model.coef_ [340412.65957447 110631.05027885  -6649.47427082]\n"
     ]
    }
   ],
   "source": [
    "from sklearn.linear_model import LinearRegression\n",
    "model = LinearRegression(fit_intercept=False)\n",
    "model.fit(X_train, y_train)\n",
    "print(\"> model.intercept_\", model.intercept_)\n",
    "print(\"> model.coef_\", model.coef_)"
   ]
  },
  {
   "cell_type": "markdown",
   "metadata": {},
   "source": [
    "###### Trainning - fmin_bfgs"
   ]
  },
  {
   "cell_type": "code",
   "execution_count": 72,
   "metadata": {},
   "outputs": [
    {
     "name": "stdout",
     "output_type": "stream",
     "text": [
      "Warning: Desired error not necessarily achieved due to precision loss.\n",
      "         Current function value: 2043280050.602828\n",
      "         Iterations: 8\n",
      "         Function evaluations: 75\n",
      "         Gradient evaluations: 63\n"
     ]
    }
   ],
   "source": [
    "theta = np.zeros((X_train.shape[1],))\n",
    "theta, theta_history = opt.fmin_bfgs(cost_function, theta, fprime=gradient, \n",
    "                                     args=(X_train, y_train), retall=True, disp=True)"
   ]
  },
  {
   "cell_type": "code",
   "execution_count": 75,
   "metadata": {},
   "outputs": [
    {
     "name": "stdout",
     "output_type": "stream",
     "text": [
      "> fmin_bfgs - theta : [340412.65954721 110631.05032881  -6649.47430645]\n"
     ]
    },
    {
     "data": {
      "text/plain": [
       "[<matplotlib.lines.Line2D at 0x7f97e34cec88>]"
      ]
     },
     "execution_count": 75,
     "metadata": {},
     "output_type": "execute_result"
    },
    {
     "data": {
      "image/png": "[encoded data removed]",
      "text/plain": [
       "<Figure size 432x288 with 1 Axes>"
      ]
     },
     "metadata": {},
     "output_type": "display_data"
    }
   ],
   "source": [
    "J = []\n",
    "print(\"> fmin_bfgs - theta :\", theta)\n",
    "for i in theta_history:\n",
    "    T = cost_function(i.reshape((-1,)), X_train, y_train)\n",
    "    J.append(T)\n",
    "\n",
    "plt.plot(np.arange(len(J)), J)"
   ]
  },
  {
   "cell_type": "markdown",
   "metadata": {},
   "source": [
    "###### do predict"
   ]
  },
  {
   "cell_type": "code",
   "execution_count": 76,
   "metadata": {},
   "outputs": [
    {
     "data": {
      "text/html": [
       "<div>\n",
       "<style scoped>\n",
       "    .dataframe tbody tr th:only-of-type {\n",
       "        vertical-align: middle;\n",
       "    }\n",
       "\n",
       "    .dataframe tbody tr th {\n",
       "        vertical-align: top;\n",
       "    }\n",
       "\n",
       "    .dataframe thead th {\n",
       "        text-align: right;\n",
       "    }\n",
       "</style>\n",
       "<table border=\"1\" class=\"dataframe\">\n",
       "  <thead>\n",
       "    <tr style=\"text-align: right;\">\n",
       "      <th></th>\n",
       "      <th>Size</th>\n",
       "      <th>Bedrooms</th>\n",
       "    </tr>\n",
       "  </thead>\n",
       "  <tbody>\n",
       "    <tr>\n",
       "      <th>0</th>\n",
       "      <td>-0.441273</td>\n",
       "      <td>-0.223675</td>\n",
       "    </tr>\n",
       "  </tbody>\n",
       "</table>\n",
       "</div>"
      ],
      "text/plain": [
       "       Size  Bedrooms\n",
       "0 -0.441273 -0.223675"
      ]
     },
     "execution_count": 76,
     "metadata": {},
     "output_type": "execute_result"
    }
   ],
   "source": [
    "X_test = pd.DataFrame({\n",
    "    'Size':1650,\n",
    "    'Bedrooms':3\n",
    "}, index=['0'])\n",
    "X_test_norm = (X_test - dataset.iloc[:,:-1].mean()) / dataset.iloc[:,:-1].std()\n",
    "X_test_norm"
   ]
  },
  {
   "cell_type": "code",
   "execution_count": 77,
   "metadata": {},
   "outputs": [
    {
     "data": {
      "text/plain": [
       "array([[ 1.        , -0.4412732 , -0.22367519]])"
      ]
     },
     "execution_count": 77,
     "metadata": {},
     "output_type": "execute_result"
    }
   ],
   "source": [
    "X_test_norm = np.insert(X_test_norm.values, 0, 1, axis=1)\n",
    "X_test_norm"
   ]
  },
  {
   "cell_type": "code",
   "execution_count": 79,
   "metadata": {},
   "outputs": [
    {
     "name": "stdout",
     "output_type": "stream",
     "text": [
      "Prediction : [293081.46429356]\n"
     ]
    }
   ],
   "source": [
    "prediction = hypothesis(theta ,X_test_norm)\n",
    "print('Prediction :', prediction)"
   ]
  },
  {
   "cell_type": "code",
   "execution_count": null,
   "metadata": {},
   "outputs": [],
   "source": []
  }
 ],
 "metadata": {
  "kernelspec": {
   "display_name": "Python 3",
   "language": "python",
   "name": "python3"
  },
  "language_info": {
   "codemirror_mode": {
    "name": "ipython",
    "version": 3
   },
   "file_extension": ".py",
   "mimetype": "text/x-python",
   "name": "python",
   "nbconvert_exporter": "python",
   "pygments_lexer": "ipython3",
   "version": "3.6.6"
  },
  "toc": {
   "base_numbering": 1,
   "nav_menu": {},
   "number_sections": true,
   "sideBar": true,
   "skip_h1_title": false,
   "title_cell": "Table of Contents",
   "title_sidebar": "Contents",
   "toc_cell": false,
   "toc_position": {},
   "toc_section_display": true,
   "toc_window_display": false
  }
 },
 "nbformat": 4,
 "nbformat_minor": 2
}
