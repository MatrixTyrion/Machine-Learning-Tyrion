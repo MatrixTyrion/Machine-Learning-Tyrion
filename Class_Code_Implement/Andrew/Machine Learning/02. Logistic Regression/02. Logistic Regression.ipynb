{
 "cells": [
  {
   "cell_type": "markdown",
   "metadata": {},
   "source": [
    "Programming Exercise 2: Logistic Regression"
   ]
  },
  {
   "cell_type": "code",
   "execution_count": 1,
   "metadata": {},
   "outputs": [],
   "source": [
    "%matplotlib inline\n",
    "import numpy  as np\n",
    "import pandas as pd\n",
    "import matplotlib.pyplot as plt\n",
    "import scipy.optimize as opt\n",
    "import scipy"
   ]
  },
  {
   "cell_type": "markdown",
   "metadata": {},
   "source": [
    "# Logistic Regression"
   ]
  },
  {
   "cell_type": "markdown",
   "metadata": {},
   "source": [
    "## Load & Process dataset"
   ]
  },
  {
   "cell_type": "markdown",
   "metadata": {},
   "source": [
    "###### load shape : (m , n)"
   ]
  },
  {
   "cell_type": "code",
   "execution_count": 2,
   "metadata": {},
   "outputs": [
    {
     "name": "stdout",
     "output_type": "stream",
     "text": [
      "> ori_data.shape (100, 3)\n",
      "\n",
      "> ori_data[:5]\n",
      " [[34.62365962 78.02469282  0.        ]\n",
      " [30.28671077 43.89499752  0.        ]\n",
      " [35.84740877 72.90219803  0.        ]\n",
      " [60.18259939 86.3085521   1.        ]\n",
      " [79.03273605 75.34437644  1.        ]]\n"
     ]
    }
   ],
   "source": [
    "dataset = 'dataset/ex2data1.txt'\n",
    "ori_data = np.loadtxt(dataset, delimiter=',')\n",
    "print(\"> ori_data.shape\", ori_data.shape)\n",
    "print(\"\\n> ori_data[:5]\\n\", ori_data[:5])"
   ]
  },
  {
   "cell_type": "markdown",
   "metadata": {},
   "source": [
    "###### get ori Matrix-X, Vector-y\n",
    "> + X_ori : (m, n)\n",
    "> + y_ori : (m, )"
   ]
  },
  {
   "cell_type": "code",
   "execution_count": 3,
   "metadata": {},
   "outputs": [
    {
     "name": "stdout",
     "output_type": "stream",
     "text": [
      "> X_ori.shape :  (100, 2)\n",
      "> y_ori.shape :  (100,)\n",
      "> Sample :  100\n"
     ]
    }
   ],
   "source": [
    "def get_ori_X_y(ori, method=0):\n",
    "    m = ori.shape[0]\n",
    "    size = ori.shape[1]\n",
    "    \n",
    "    if method == 0:          # Python Slice [通用]\n",
    "        X_ori = np.array(ori[:,:-1])\n",
    "        y_ori = np.array(ori[:,-1:]).reshape((-1,))\n",
    "    elif method == 1:        # np.reshape() [通用]   \n",
    "        X_ori = np.array(ori[:,:size-1]).reshape((-1,size-1))\n",
    "        y_ori = np.array(ori[:,-1:]).reshape((-1,))\n",
    "\n",
    "    print(\"> X_ori.shape : \", X_ori.shape)\n",
    "    print(\"> y_ori.shape : \", y_ori.shape)\n",
    "    print(\"> Sample : \", m)\n",
    "    \n",
    "    return X_ori, y_ori, m\n",
    "\n",
    "X_ori, y_ori, m = get_ori_X_y(ori_data)"
   ]
  },
  {
   "cell_type": "markdown",
   "metadata": {},
   "source": [
    "###### Feature Normalization"
   ]
  },
  {
   "cell_type": "code",
   "execution_count": 4,
   "metadata": {},
   "outputs": [
    {
     "name": "stdout",
     "output_type": "stream",
     "text": [
      "[4. 5. 6. 7.]\n",
      "[1.5 5.5 9.5]\n"
     ]
    }
   ],
   "source": [
    "A = np.arange(0, 12).reshape((3,4))\n",
    "print(np.mean(A, axis = 0))\n",
    "print(np.mean(A, axis = 1))"
   ]
  },
  {
   "cell_type": "code",
   "execution_count": 6,
   "metadata": {},
   "outputs": [
    {
     "name": "stdout",
     "output_type": "stream",
     "text": [
      "[65.64427406 66.22199809]\n",
      "[19.36068671 18.48963567]\n"
     ]
    }
   ],
   "source": [
    "mu_train = 0\n",
    "std_train = 0\n",
    "def feature_normalization(X):\n",
    "    global mu_train, std_train\n",
    "    \n",
    "    mu_train = np.mean(X, axis=0)\n",
    "    std_train = np.std(X, axis=0)\n",
    "    X_norm =  (X - mu_train) / std_train\n",
    "    \n",
    "    return X_norm\n",
    "\n",
    "X_norm = feature_normalization(X_ori)\n",
    "print(mu_train)\n",
    "print(std_train)"
   ]
  },
  {
   "cell_type": "code",
   "execution_count": 7,
   "metadata": {},
   "outputs": [
    {
     "data": {
      "text/plain": [
       "array([[-1.60224763,  0.63834112],\n",
       "       [-1.82625564, -1.2075414 ],\n",
       "       [-1.53903969,  0.3612943 ]])"
      ]
     },
     "execution_count": 7,
     "metadata": {},
     "output_type": "execute_result"
    }
   ],
   "source": [
    "X_norm[:3]"
   ]
  },
  {
   "cell_type": "markdown",
   "metadata": {},
   "source": [
    "###### Form Trainning Data\n",
    "> + X_train : (m, n+1)\n",
    "> + y_train : (m, )"
   ]
  },
  {
   "cell_type": "code",
   "execution_count": 7,
   "metadata": {},
   "outputs": [
    {
     "name": "stdout",
     "output_type": "stream",
     "text": [
      "> X_train.shape (100, 3)\n",
      "> X_train[:3]\n",
      " [[ 1.         34.62365962 78.02469282]\n",
      " [ 1.         30.28671077 43.89499752]\n",
      " [ 1.         35.84740877 72.90219803]]\n"
     ]
    }
   ],
   "source": [
    "def form_train_data(X_ori, y_ori, method=0):\n",
    "    y_train = y_ori\n",
    "    \n",
    "    if method == 0:          # np.insert(obj, pos, val, axis=？)\n",
    "        X_train = np.insert(X_ori, 0, 1, axis=1)\n",
    "    elif method == 1:        # np.hstack()\n",
    "        ones = np.ones((X_ori.shape[0],1))\n",
    "        X_train = np.hstack((ones, X_ori))\n",
    "    elif method == 2:        # np.c_[]\n",
    "        #ones = np.ones((m,1))\n",
    "        ones = np.ones(y_ori.shape)\n",
    "        X_train = np.c_[ones, X_ori]\n",
    "    \n",
    "    print(\"> X_train.shape\", X_train.shape)\n",
    "    print(\"> X_train[:3]\\n\", X_train[:3])\n",
    "    \n",
    "    return X_train, y_train\n",
    "\n",
    "\n",
    "X_train, y_train = form_train_data(X_ori, y_ori)"
   ]
  },
  {
   "cell_type": "markdown",
   "metadata": {},
   "source": [
    "### Plot Orignial Data"
   ]
  },
  {
   "cell_type": "markdown",
   "metadata": {},
   "source": [
    "###### method - 01 : split data to two array, pos & neg"
   ]
  },
  {
   "cell_type": "code",
   "execution_count": 8,
   "metadata": {},
   "outputs": [],
   "source": [
    "def distinguish_X(X_ori, y_ori):\n",
    "    pos = np.array([X_ori[i] for i in range(X_ori.shape[0]) if y_ori[i] == 1])\n",
    "    neg = np.array([X_ori[i] for i in range(X_ori.shape[0]) if y_ori[i] == 0])\n",
    "    print(\"pos.shape\", pos.shape)\n",
    "    print(\"neg.shape\", neg.shape)\n",
    "    print(pos[:3])\n",
    "    return pos, neg\n",
    "\n",
    "def plot_ori_data(X_ori, y_ori):\n",
    "    pos, neg = distinguish_X(X_ori, y_ori)\n",
    "    \n",
    "    plt.figure(figsize=(9, 6))\n",
    "    plt.plot(pos[:,0], pos[:,1], 'k+', label='    Admitted - Pos')\n",
    "    plt.plot(neg[:,0], neg[:,1], 'yo', label='Not admitted - Neg')\n",
    "\n",
    "    plt.xlabel('Exam 1 Score')\n",
    "    plt.ylabel('Exam 2 Score')\n",
    "\n",
    "    plt.legend()\n",
    "    plt.grid(True)\n",
    "\n",
    "#plot_ori_data(X_ori, y_ori)"
   ]
  },
  {
   "cell_type": "markdown",
   "metadata": {},
   "source": [
    "###### method - 02 : output two bool arrays"
   ]
  },
  {
   "cell_type": "code",
   "execution_count": 9,
   "metadata": {},
   "outputs": [],
   "source": [
    "neg = (ori_data[:,2] == 0)"
   ]
  },
  {
   "cell_type": "code",
   "execution_count": 10,
   "metadata": {},
   "outputs": [
    {
     "data": {
      "image/png": "[encoded data removed]",
      "text/plain": [
       "<Figure size 432x288 with 1 Axes>"
      ]
     },
     "metadata": {},
     "output_type": "display_data"
    }
   ],
   "source": [
    "def plot_ori_data(data, label_x1, label_x2, label_pos, label_neg, axes=None):\n",
    "    # split data to two bool arrays\n",
    "    neg = (data[:,-1] == 0)\n",
    "    pos = (data[:,-1] == 1)\n",
    "    \n",
    "    # Does Already have a axes\n",
    "    if axes == None:\n",
    "        axes = plt.gca()\n",
    "    \n",
    "    axes.scatter(data[pos][:,0], data[pos][:,1], c='k', s=50, marker='+', linewidth=2, label=label_pos)\n",
    "    axes.scatter(data[neg][:,0], data[neg][:,1], c='y', s=30, label=label_neg)\n",
    "    axes.set_xlabel(label_x1)\n",
    "    axes.set_ylabel(label_x2)\n",
    "    axes.legend()\n",
    "\n",
    "plot_ori_data(ori_data, 'Exam_1_Score', 'Exam_2_Score', 'Admitted', 'Not Admitted')"
   ]
  },
  {
   "cell_type": "markdown",
   "metadata": {},
   "source": [
    "###### method - 03 :"
   ]
  },
  {
   "cell_type": "code",
   "execution_count": 11,
   "metadata": {},
   "outputs": [
    {
     "data": {
      "text/plain": [
       "(array([ 3,  4,  6,  7,  8,  9, 12, 13, 15, 16, 18, 19, 21, 24, 25, 26, 30,\n",
       "        31, 33, 37, 40, 42, 46, 47, 48, 49, 50, 51, 52, 56, 58, 59, 60, 66,\n",
       "        68, 69, 71, 72, 73, 74, 75, 76, 77, 80, 81, 82, 83, 84, 85, 87, 88,\n",
       "        90, 91, 93, 94, 95, 96, 97, 98, 99]),)"
      ]
     },
     "execution_count": 11,
     "metadata": {},
     "output_type": "execute_result"
    }
   ],
   "source": [
    "np.where(ori_data[:,-1] == 1)"
   ]
  },
  {
   "cell_type": "code",
   "execution_count": 12,
   "metadata": {},
   "outputs": [
    {
     "data": {
      "text/plain": [
       "array([[60.18259939, 86.3085521 ,  1.        ],\n",
       "       [79.03273605, 75.34437644,  1.        ],\n",
       "       [61.10666454, 96.51142588,  1.        ],\n",
       "       [75.02474557, 46.55401354,  1.        ],\n",
       "       [76.0987867 , 87.42056972,  1.        ]])"
      ]
     },
     "execution_count": 12,
     "metadata": {},
     "output_type": "execute_result"
    }
   ],
   "source": [
    "pos = (np.where(ori_data[:, -1] == 1))\n",
    "neg = (np.where(ori_data[:, -1] == 0))\n",
    "ori_data[pos][:5]\n",
    "#ori_data[pos， 0] - scatter"
   ]
  },
  {
   "cell_type": "code",
   "execution_count": 13,
   "metadata": {},
   "outputs": [
    {
     "data": {
      "image/png": "[encoded data removed]",
      "text/plain": [
       "<Figure size 432x288 with 1 Axes>"
      ]
     },
     "metadata": {},
     "output_type": "display_data"
    }
   ],
   "source": [
    "def plot_ori_data(data, label_x1, label_x2, label_pos, label_neg, axes=None):\n",
    "    # split data to two index arrays\n",
    "    pos = (np.where(ori_data[:, -1] == 1))\n",
    "    neg = (np.where(ori_data[:, -1] == 0))\n",
    "    \n",
    "    # Does Already have a axes\n",
    "    if axes == None:\n",
    "        axes = plt.gca()\n",
    "    \n",
    "    axes.scatter(data[pos, 0], data[pos, 1], c='k', s=50, marker='+', linewidth=2, label=label_pos)\n",
    "    axes.scatter(data[neg, 0], data[neg, 1], c='y', s=30, label=label_neg)\n",
    "    axes.set_xlabel(label_x1)\n",
    "    axes.set_ylabel(label_x2)\n",
    "    axes.legend()\n",
    "\n",
    "plot_ori_data(ori_data, 'Exam_1_Score', 'Exam_2_Score', 'Admitted', 'Not Admitted')"
   ]
  },
  {
   "cell_type": "code",
   "execution_count": 14,
   "metadata": {},
   "outputs": [],
   "source": [
    "###### method - 04 : pandas"
   ]
  },
  {
   "cell_type": "code",
   "execution_count": 15,
   "metadata": {},
   "outputs": [],
   "source": [
    "# positive = data[data['Admitted'].isin([1])]\n",
    "# negative = data[data['Admitted'].isin([0])]"
   ]
  },
  {
   "cell_type": "markdown",
   "metadata": {},
   "source": [
    "## Logistic Regression"
   ]
  },
  {
   "cell_type": "markdown",
   "metadata": {},
   "source": [
    "### Sigmod"
   ]
  },
  {
   "cell_type": "markdown",
   "metadata": {},
   "source": [
    "+ $ g(z)=\\frac{1}{1+e^{−z}} $\n",
    "> + Z - (m, 1)\n",
    "> + (m,)"
   ]
  },
  {
   "cell_type": "code",
   "execution_count": 16,
   "metadata": {},
   "outputs": [],
   "source": [
    "def sigmoid(Z, method=1):\n",
    "    if method == 0:\n",
    "        g = sigmoid_exp(Z)\n",
    "    elif method == 1:\n",
    "        g = sigmoid_expit(Z)\n",
    "    \n",
    "    return g"
   ]
  },
  {
   "cell_type": "markdown",
   "metadata": {},
   "source": [
    "###### method 01 : np.exp( )"
   ]
  },
  {
   "cell_type": "code",
   "execution_count": 17,
   "metadata": {},
   "outputs": [
    {
     "data": {
      "text/plain": [
       "'\\nimport decimal\\ndecimal.getcontext().prec = 50\\ndef sigmod(Z):\\n    #z = np.array([x.astype(np.float64) for x in Z])\\n    z = np.array([x.astype(decimal.Decimal) for x in Z])\\n    g = 1.0 / (1 + np.exp(-Z))\\n    return g\\n'"
      ]
     },
     "execution_count": 17,
     "metadata": {},
     "output_type": "execute_result"
    }
   ],
   "source": [
    "def sigmoid_exp(Z):\n",
    "    return (1.0 / (1 + np.exp(-Z)))\n",
    "    \n",
    "\"\"\"\n",
    "import decimal\n",
    "decimal.getcontext().prec = 50\n",
    "def sigmod(Z):\n",
    "    #z = np.array([x.astype(np.float64) for x in Z])\n",
    "    z = np.array([x.astype(decimal.Decimal) for x in Z])\n",
    "    g = 1.0 / (1 + np.exp(-Z))\n",
    "    return g\n",
    "\"\"\""
   ]
  },
  {
   "cell_type": "markdown",
   "metadata": {},
   "source": [
    "###### method 02 : scipy.special.expit()"
   ]
  },
  {
   "cell_type": "markdown",
   "metadata": {},
   "source": [
    "Scipy actually has a convenience function which does exactly the same:<BR>\n",
    "http://docs.scipy.org/doc/scipy/reference/generated/scipy.special.expit.html#scipy.special.expit"
   ]
  },
  {
   "cell_type": "code",
   "execution_count": 18,
   "metadata": {},
   "outputs": [],
   "source": [
    "def sigmoid_expit(Z):\n",
    "    return scipy.special.expit(Z)"
   ]
  },
  {
   "cell_type": "code",
   "execution_count": null,
   "metadata": {},
   "outputs": [],
   "source": []
  },
  {
   "cell_type": "code",
   "execution_count": 19,
   "metadata": {},
   "outputs": [
    {
     "data": {
      "image/png": "[encoded data removed]",
      "text/plain": [
       "<Figure size 432x288 with 1 Axes>"
      ]
     },
     "metadata": {},
     "output_type": "display_data"
    }
   ],
   "source": [
    "def plot_sigmoid():\n",
    "    #X = np.arange(-10, 10, 1)\n",
    "    X = np.linspace(-10, 10 ,50)\n",
    "    plt.plot(X, sigmoid(X, 0))\n",
    "    plt.grid(True)\n",
    "\n",
    "plot_sigmoid()"
   ]
  },
  {
   "cell_type": "markdown",
   "metadata": {},
   "source": [
    "### Hypthesis"
   ]
  },
  {
   "cell_type": "markdown",
   "metadata": {},
   "source": [
    "+ $ h_{\\theta}(x) = g(\\theta^{T}x)$\n",
    "> + theta - (n+1, 1)\n",
    "> + X - (m, n+1)\n",
    "> + (m,)"
   ]
  },
  {
   "cell_type": "code",
   "execution_count": 20,
   "metadata": {},
   "outputs": [],
   "source": [
    "def hypthesis(theta, X):\n",
    "    hyp = sigmoid(X @ theta)\n",
    "    \n",
    "    return hyp"
   ]
  },
  {
   "cell_type": "markdown",
   "metadata": {},
   "source": [
    "### Cost Function"
   ]
  },
  {
   "cell_type": "markdown",
   "metadata": {},
   "source": [
    "+ Normal : $ J\\left( \\theta  \\right)=-\\frac{1}{m}\\sum\\limits_{i=1}^{m}{[{{y}^{(i)}}\\log \\left( {{h}_{\\theta }}\\left( {{x}^{(i)}} \\right) \\right)+\\left( 1-{{y}^{(i)}} \\right)\\log \\left( 1-{{h}_{\\theta }}\\left( {{x}^{(i)}} \\right) \\right)]} $\n",
    "+ Vector : $ J(\\theta) = -\\frac{1}{m}\\big((\\,log\\,(g(X\\theta))^Ty+(\\,log\\,(1-g(X\\theta))^T(1-y)\\big) $\n",
    "> + theta - (n+1, )\n",
    "> + X - (m, n+1)\n",
    "> + y - (m, )\n",
    "> + scalars"
   ]
  },
  {
   "cell_type": "code",
   "execution_count": 21,
   "metadata": {},
   "outputs": [],
   "source": [
    "J_history = []\n",
    "def cost_function_simple(theta, X, y):\n",
    "    hyp = hypthesis(theta, X)\n",
    "    y_1 = np.log(hyp).T @ y\n",
    "    y_0 = np.log(1 - hyp).T @ (1-y)\n",
    "    cost = -(y_1 + y_0) / y.size\n",
    "    \n",
    "    return cost\n",
    "\n",
    "#===========================================\n",
    "def replaceZeroes(data):\n",
    "    #print(data)\n",
    "    if np.count_nonzero(data):\n",
    "        min_nonzero = np.min(data[np.nonzero(data)])\n",
    "    else:\n",
    "        min_nonzero = 0.000000000001\n",
    "    data[data == 0] = min_nonzero\n",
    "    return data\n",
    "\n",
    "def cost_function_complex(theta, X, y):\n",
    "    global J_history_opt\n",
    "    \n",
    "    m = y.size\n",
    "    hyp = hypthesis(theta, X) # (m,1)\n",
    "    hyp_01 = replaceZeroes(hyp)\n",
    "    #print(\"------------\")\n",
    "    #print(hyp)\n",
    "    #print(y)\n",
    "    hyp_02 = replaceZeroes(1.0-hyp)\n",
    "    #hyp_02 = 1-hyp\n",
    "    first  = np.dot(np.log(hyp_01).T, -y) # (1,1)\n",
    "    second = np.dot(np.log(hyp_02).T, (1.0-y))\n",
    "    \n",
    "    J = (first - second) / float(m)\n",
    "    J_history_opt.append(J)\n",
    "    \n",
    "    return J"
   ]
  },
  {
   "cell_type": "code",
   "execution_count": 22,
   "metadata": {},
   "outputs": [
    {
     "data": {
      "text/plain": [
       "0.6931471805599452"
      ]
     },
     "execution_count": 22,
     "metadata": {},
     "output_type": "execute_result"
    }
   ],
   "source": [
    "def cost_function(theta, X, y, method=0):\n",
    "    global J_history\n",
    "    \n",
    "    if method == 0:\n",
    "        cost = cost_function_simple(theta, X, y)\n",
    "    elif method == 1:\n",
    "        cost = cost_function_complex(theta, X, y)\n",
    "    \n",
    "    J_history.append(cost)\n",
    "    # print(\">>\", J_history)\n",
    "    return cost\n",
    "'''\n",
    "    if np.isnan(J[0]):\n",
    "        return(np.inf)\n",
    "    return(J[0])\n",
    "'''\n",
    "    \n",
    "\n",
    "theta = np.zeros((X_train.shape[1],))\n",
    "cost_function(theta, X_train, y_train, 0)"
   ]
  },
  {
   "cell_type": "code",
   "execution_count": null,
   "metadata": {},
   "outputs": [],
   "source": []
  },
  {
   "cell_type": "code",
   "execution_count": null,
   "metadata": {},
   "outputs": [],
   "source": []
  },
  {
   "cell_type": "markdown",
   "metadata": {},
   "source": [
    "### Gradient Descent"
   ]
  },
  {
   "cell_type": "markdown",
   "metadata": {},
   "source": [
    "+ Normal : $$ \\frac{\\delta J(\\theta)}{\\delta\\theta_{j}} = \\frac{1}{m}\\sum_{i=1}^{m} ( h_\\theta (x^{(i)})-y^{(i)})x^{(i)}_{j} $$ \n",
    "+ Vector : $$ \\frac{\\delta J(\\theta)}{\\delta\\theta_{j}} = \\frac{1}{m} X^T(g(X\\theta)-y)$$\n",
    "+ $ {{\\theta }_{j}}:={{\\theta }_{j}} - {{a} * {Gradient}} $\n",
    "+ $ {Gradient} = \\frac{1}{m}\\sum\\limits_{i=1}^{m}{[{{h}_{\\theta }}\\left( {{x}^{(i)}} \\right)-{{y}^{(i)}}]x_{j}^{(i)}}$\n",
    "> + theta - (n+1, )\n",
    "> + X - (m, n+1)\n",
    "> + y - (m, )\n",
    "> + (n+1, )"
   ]
  },
  {
   "cell_type": "code",
   "execution_count": 23,
   "metadata": {},
   "outputs": [
    {
     "data": {
      "text/plain": [
       "array([ -0.1       , -12.00921659, -11.26284221])"
      ]
     },
     "execution_count": 23,
     "metadata": {},
     "output_type": "execute_result"
    }
   ],
   "source": [
    "def gradient(theta, X, y):\n",
    "    err = hypthesis(theta, X) - y\n",
    "    grad = (X.T @ err) / m\n",
    "    \n",
    "    return grad\n",
    "\n",
    "theta = np.zeros((X_train.shape[1],))\n",
    "gradient(theta, X_train, y_train)"
   ]
  },
  {
   "cell_type": "markdown",
   "metadata": {},
   "source": [
    "### Optimize"
   ]
  },
  {
   "cell_type": "code",
   "execution_count": 24,
   "metadata": {},
   "outputs": [],
   "source": [
    "# use fminunc\n",
    "# most loop for 400 steps\n",
    "# cost about 0.203"
   ]
  },
  {
   "cell_type": "markdown",
   "metadata": {},
   "source": [
    "#### Scipy"
   ]
  },
  {
   "cell_type": "code",
   "execution_count": 25,
   "metadata": {},
   "outputs": [
    {
     "name": "stdout",
     "output_type": "stream",
     "text": [
      "{'result':      fun: 0.20349770158947536\n",
      "     jac: array([9.09409796e-09, 9.53481005e-08, 4.73354162e-07])\n",
      " message: 'Local minimum reached (|pg| ~= 0)'\n",
      "    nfev: 36\n",
      "     nit: 17\n",
      "  status: 0\n",
      " success: True\n",
      "       x: array([-25.16131843,   0.20623159,   0.20147148]), 'theta': array([-25.16131843,   0.20623159,   0.20147148])}\n"
     ]
    }
   ],
   "source": [
    "def scipy_opt_minimize(theta, X, y, Method):\n",
    "    res = opt.minimize(\n",
    "        fun    = cost_function,\n",
    "        x0     = theta,\n",
    "        args   = (X, y),\n",
    "        method = Method,\n",
    "        jac    = gradient # , options={'maxiter':400}\n",
    "    )\n",
    "    \n",
    "    return {\n",
    "        \"result\" : res,\n",
    "        \"theta\" : res.x\n",
    "    }\n",
    "\n",
    "theta = np.zeros((X_train.shape[1],))\n",
    "res = scipy_opt_minimize(theta, X_train, y_train, \"tnc\")\n",
    "print(res)\n",
    "\n",
    "cost_function(res['theta'], X_train, y_train)\n",
    "theta_scipty = res['theta']"
   ]
  },
  {
   "cell_type": "code",
   "execution_count": 26,
   "metadata": {},
   "outputs": [],
   "source": [
    "def scipy_opt_fmin(theta, X, y):\n",
    "    opt.fmin(\n",
    "        fun = cost_function,\n",
    "        x0 = theta,\n",
    "        args = (X, y),\n",
    "    )\n",
    "    \n",
    "    opt.fmin_cg(\n",
    "        f = cost_function,\n",
    "        x0 = theta,\n",
    "        fprime = gradient,\n",
    "        args = (X, y)\n",
    "    )\n",
    "    \n",
    "    opt.fmin_bfgs(\n",
    "        f = cost_function,\n",
    "        x0 = theta,\n",
    "        fprime = gradient,\n",
    "        args = (X, y),   \n",
    "    )\n",
    "    \n",
    "    opt.fmin_tnc(\n",
    "        func = cost_function,\n",
    "        x0 = theta,\n",
    "        fprime = gradient,\n",
    "        args = (X, y)\n",
    "    )"
   ]
  },
  {
   "cell_type": "code",
   "execution_count": 27,
   "metadata": {},
   "outputs": [
    {
     "data": {
      "text/plain": [
       "\"\\ntheta, theta_i = fmin_bfgs(costFunction,inTheta,fprime = gradient,args=(X,y),retall = 1, disp = 0)\\n\\nJ = zeros(len(theta_i))\\nfor i,th in enumerate(theta_i):\\n    J[i] = costFunction(th,X,y)  \\nplot(J)\\n\\n\\nprint 'The optimize values for Theta are: %s '%theta\\n\\nacc = accuracy(theta,X,y)\\nprint 'The Accuracy of the algorithm is: %f' %acc\\n\""
      ]
     },
     "execution_count": 27,
     "metadata": {},
     "output_type": "execute_result"
    }
   ],
   "source": [
    "'''\n",
    "theta, theta_i = fmin_bfgs(costFunction,inTheta,fprime = gradient,args=(X,y),retall = 1, disp = 0)\n",
    "\n",
    "J = zeros(len(theta_i))\n",
    "for i,th in enumerate(theta_i):\n",
    "    J[i] = costFunction(th,X,y)  \n",
    "plot(J)\n",
    "\n",
    "\n",
    "print 'The optimize values for Theta are: %s '%theta\n",
    "\n",
    "acc = accuracy(theta,X,y)\n",
    "print 'The Accuracy of the algorithm is: %f' %acc\n",
    "'''"
   ]
  },
  {
   "cell_type": "markdown",
   "metadata": {},
   "source": [
    "#### Sklearn"
   ]
  },
  {
   "cell_type": "code",
   "execution_count": 28,
   "metadata": {},
   "outputs": [
    {
     "name": "stdout",
     "output_type": "stream",
     "text": [
      "> model.intercept_ 0.0\n",
      "> model.coef_ [[-24.87970176   0.20397944   0.19919232]]\n"
     ]
    },
    {
     "data": {
      "text/plain": [
       "array([0.20350961])"
      ]
     },
     "execution_count": 28,
     "metadata": {},
     "output_type": "execute_result"
    }
   ],
   "source": [
    "from sklearn.linear_model import LogisticRegression\n",
    "model = LogisticRegression(penalty=\"l2\", C=10000, fit_intercept=False, multi_class='ovr')\n",
    "model.fit(X_train, y_train)\n",
    "print(\"> model.intercept_\", model.intercept_)\n",
    "print(\"> model.coef_\", model.coef_)\n",
    "\n",
    "cost_function(model.coef_.T, X_train, y_train)"
   ]
  },
  {
   "cell_type": "code",
   "execution_count": 29,
   "metadata": {},
   "outputs": [
    {
     "data": {
      "text/plain": [
       "0.89"
      ]
     },
     "execution_count": 29,
     "metadata": {},
     "output_type": "execute_result"
    }
   ],
   "source": [
    "model.score(X_train, y_train)"
   ]
  },
  {
   "cell_type": "markdown",
   "metadata": {},
   "source": [
    "#### Batch Gradient Descent"
   ]
  },
  {
   "cell_type": "code",
   "execution_count": 30,
   "metadata": {},
   "outputs": [
    {
     "name": "stdout",
     "output_type": "stream",
     "text": [
      "(array([-0.04865855,  0.01076291,  0.00082964]), 0.6264279283330879)\n"
     ]
    }
   ],
   "source": [
    "def batch_gradient_descent(theta, X, y, lr=0.009, iterations=1500):\n",
    "    global J_history\n",
    "    J_history = []\n",
    "    \n",
    "    for _ in range(iterations):\n",
    "        grad = gradient(theta, X, y)\n",
    "        theta = theta - lr * grad\n",
    "        cost = cost_function(theta, X, y)\n",
    "    cost = cost_function(theta, X, y)\n",
    "    return theta, cost\n",
    "\n",
    "theta = np.zeros((X_train.shape[1],))\n",
    "res = batch_gradient_descent(theta, X_train, y_train, lr =0.0007, iterations=1000)  #1700000)\n",
    "print(res)"
   ]
  },
  {
   "cell_type": "markdown",
   "metadata": {},
   "source": [
    "## Predict && Accuary"
   ]
  },
  {
   "cell_type": "code",
   "execution_count": 31,
   "metadata": {},
   "outputs": [],
   "source": [
    "# predict - (45,85) - 0.776"
   ]
  },
  {
   "cell_type": "code",
   "execution_count": 32,
   "metadata": {},
   "outputs": [
    {
     "data": {
      "text/plain": [
       "\"\\npred_data = np.array([[1, 45, 85]])\\nhyp = hypthesis(theta_BFGS, pred_data)\\nprd = predict(theta_BFGS, pred_data)\\nprint('Hyp - ', hyp)\\nprint('Prd - ', prd)\\n\""
      ]
     },
     "execution_count": 32,
     "metadata": {},
     "output_type": "execute_result"
    }
   ],
   "source": [
    "def predict(theta, X, threshold=0.5):\n",
    "    #print(X)\n",
    "    hyp = hypthesis(theta, X)\n",
    "    pred = (hyp >= threshold).astype('int')\n",
    "    \n",
    "    return pred\n",
    "\n",
    "'''\n",
    "pred_data = np.array([[1, 45, 85]])\n",
    "hyp = hypthesis(theta_BFGS, pred_data)\n",
    "prd = predict(theta_BFGS, pred_data)\n",
    "print('Hyp - ', hyp)\n",
    "print('Prd - ', prd)\n",
    "'''"
   ]
  },
  {
   "cell_type": "code",
   "execution_count": 33,
   "metadata": {},
   "outputs": [
    {
     "data": {
      "text/plain": [
       "'\\ndef predict(theta, X):\\n    probability = sigmoid(X * theta.T)\\n    return [1 if x >= 0.5 else 0 for x in probability]\\n'"
      ]
     },
     "execution_count": 33,
     "metadata": {},
     "output_type": "execute_result"
    }
   ],
   "source": [
    "'''\n",
    "def predict(theta, X):\n",
    "    probability = sigmoid(X * theta.T)\n",
    "    return [1 if x >= 0.5 else 0 for x in probability]\n",
    "'''"
   ]
  },
  {
   "cell_type": "code",
   "execution_count": 34,
   "metadata": {},
   "outputs": [
    {
     "name": "stdout",
     "output_type": "stream",
     "text": [
      "0.89\n"
     ]
    }
   ],
   "source": [
    "def accuracy(theta, X, y, threshold=0.5):\n",
    "    pred = predict(theta, X, threshold)\n",
    "    accuracy = np.mean(pred == y)\n",
    "    return accuracy\n",
    "\n",
    "accu = accuracy(theta_scipty, X_train, y_train)\n",
    "print(accu)\n",
    "# print('Train accuracy {}%'.format(100*sum(p == y.ravel())/p.size))"
   ]
  },
  {
   "cell_type": "code",
   "execution_count": 35,
   "metadata": {},
   "outputs": [
    {
     "name": "stdout",
     "output_type": "stream",
     "text": [
      "             precision    recall  f1-score   support\n",
      "\n",
      "        0.0       0.87      0.85      0.86        40\n",
      "        1.0       0.90      0.92      0.91        60\n",
      "\n",
      "avg / total       0.89      0.89      0.89       100\n",
      "\n"
     ]
    }
   ],
   "source": [
    "from sklearn.metrics import classification_report\n",
    "y_pred = predict(theta_scipty, X_train)\n",
    "result = classification_report(y_train, y_pred)\n",
    "print(result)"
   ]
  },
  {
   "cell_type": "markdown",
   "metadata": {},
   "source": [
    "## Plot Convetgence Curves"
   ]
  },
  {
   "cell_type": "code",
   "execution_count": 36,
   "metadata": {},
   "outputs": [
    {
     "data": {
      "image/png": "[encoded data removed]",
      "text/plain": [
       "<Figure size 432x288 with 1 Axes>"
      ]
     },
     "metadata": {},
     "output_type": "display_data"
    }
   ],
   "source": [
    "def plot_convergence_curves(J_history, axes=None):   \n",
    "    # Does Already have a axes\n",
    "    if axes == None:\n",
    "        axes = plt.gca()\n",
    "    \n",
    "    axes.plot(np.arange(len(J_history)), J_history)\n",
    "    axes.scatter(np.arange(len(J_history)), J_history, c='b', s=10, linewidth=2)\n",
    "    axes.set_xlabel(\"iterations\")\n",
    "    axes.set_ylabel(\"Cost\")\n",
    "\n",
    "#plt.subplot(221)\n",
    "plot_convergence_curves(J_history)\n",
    "#plt.subplot(222)\n",
    "#plot_convergence_curves(J_history)"
   ]
  },
  {
   "cell_type": "markdown",
   "metadata": {},
   "source": [
    "## Plot Decision Boundary"
   ]
  },
  {
   "cell_type": "markdown",
   "metadata": {},
   "source": [
    "http://stats.stackexchange.com/questions/93569/why-is-logistic-regression-a-linear-classifier\n",
    "> $X \\times \\theta = 0$  (this is the line)"
   ]
  },
  {
   "cell_type": "code",
   "execution_count": 37,
   "metadata": {
    "scrolled": true
   },
   "outputs": [
    {
     "data": {
      "image/png": "[encoded data removed]",
      "text/plain": [
       "<Figure size 396x360 with 1 Axes>"
      ]
     },
     "metadata": {},
     "output_type": "display_data"
    }
   ],
   "source": [
    "def plot_decision_boundary(data, theta, axes=None):\n",
    "    X1_min, X1_max = data[:,0].min(), data[:,0].max()\n",
    "    X2_min, X2_max = data[:,1].min(), data[:,1].max()\n",
    "\n",
    "    xx1, xx2 = np.meshgrid(np.linspace(X1_min, X1_max), np.linspace(X2_min, X2_max))\n",
    "\n",
    "\n",
    "    Countour_X = np.c_[np.ones((xx1.ravel().size,1)), xx1.ravel().reshape(-1,1), xx2.ravel().reshape(-1,1)]\n",
    "    #ps('theta', theta)\n",
    "    #print('Countour_X',Countour_X)\n",
    "    \n",
    "    hyp = hypthesis(theta, Countour_X).reshape(xx1.shape)\n",
    "    \n",
    "    axes.contour(xx1, xx2, hyp, [0.5], linewidths=1, colors='b')\n",
    "    \n",
    "\n",
    "plt.figure(figsize=(5.5,5))\n",
    "plot_ori_data(ori_data, 'Exam_1_Score', 'Exam_2_Score', 'Admitted', 'Not Admitted', axes=plt.gca())\n",
    "plot_decision_boundary(ori_data, theta_scipty, axes=plt.gca())"
   ]
  },
  {
   "cell_type": "code",
   "execution_count": 38,
   "metadata": {},
   "outputs": [],
   "source": [
    "def plot_predict_data():\n",
    "    plt.scatter(pred_data[:,1], pred_data[:,2], s=60, c='r', marker='v', label='(45, 85) : Pred as %d'%(pred))\n",
    "    plt.legend()\n",
    "    pass\n",
    "\n",
    "pred_data = np.array([[1, 45, 70]])"
   ]
  },
  {
   "cell_type": "code",
   "execution_count": null,
   "metadata": {},
   "outputs": [],
   "source": []
  },
  {
   "cell_type": "markdown",
   "metadata": {},
   "source": [
    "# Regularized Logistic Regression"
   ]
  },
  {
   "cell_type": "markdown",
   "metadata": {},
   "source": [
    "## Load & Process dataset"
   ]
  },
  {
   "cell_type": "code",
   "execution_count": 39,
   "metadata": {},
   "outputs": [
    {
     "name": "stdout",
     "output_type": "stream",
     "text": [
      "> ori_data_02.shape (118, 3)\n",
      "\n",
      "> ori_data_02[:5]\n",
      " [[ 0.051267  0.69956   1.      ]\n",
      " [-0.092742  0.68494   1.      ]\n",
      " [-0.21371   0.69225   1.      ]\n",
      " [-0.375     0.50219   1.      ]\n",
      " [-0.51325   0.46564   1.      ]]\n"
     ]
    }
   ],
   "source": [
    "dataset_02 = 'dataset/ex2data2.txt'\n",
    "ori_data_02 = np.loadtxt(dataset_02, delimiter=',')\n",
    "print(\"> ori_data_02.shape\", ori_data_02.shape)\n",
    "print(\"\\n> ori_data_02[:5]\\n\", ori_data_02[:5])"
   ]
  },
  {
   "cell_type": "code",
   "execution_count": 40,
   "metadata": {},
   "outputs": [
    {
     "name": "stdout",
     "output_type": "stream",
     "text": [
      "> X_ori.shape :  (118, 2)\n",
      "> y_ori.shape :  (118,)\n",
      "> Sample :  118\n"
     ]
    }
   ],
   "source": [
    "X_ori_02, y_ori_02, m_02 = get_ori_X_y(ori_data_02)"
   ]
  },
  {
   "cell_type": "code",
   "execution_count": 41,
   "metadata": {},
   "outputs": [
    {
     "name": "stdout",
     "output_type": "stream",
     "text": [
      "> X_train.shape (118, 3)\n",
      "> X_train[:3]\n",
      " [[ 1.        0.051267  0.69956 ]\n",
      " [ 1.       -0.092742  0.68494 ]\n",
      " [ 1.       -0.21371   0.69225 ]]\n"
     ]
    }
   ],
   "source": [
    "X_train_02, y_train_02 = form_train_data(X_ori_02, y_ori_02)"
   ]
  },
  {
   "cell_type": "code",
   "execution_count": 42,
   "metadata": {},
   "outputs": [
    {
     "data": {
      "image/png": "[encoded data removed]",
      "text/plain": [
       "<Figure size 432x288 with 1 Axes>"
      ]
     },
     "metadata": {},
     "output_type": "display_data"
    }
   ],
   "source": [
    "plot_ori_data(ori_data_02, 'Microchip Test 1', 'Microchip Test 2', 'y = 1', 'y = 0')"
   ]
  },
  {
   "cell_type": "markdown",
   "metadata": {},
   "source": [
    "## Feature Mapping"
   ]
  },
  {
   "cell_type": "markdown",
   "metadata": {},
   "source": [
    "<img style=\"float: left;\" src=\"dataset/mapped_feature.png\">"
   ]
  },
  {
   "cell_type": "markdown",
   "metadata": {},
   "source": [
    "### Polynomials"
   ]
  },
  {
   "cell_type": "code",
   "execution_count": 43,
   "metadata": {},
   "outputs": [],
   "source": [
    "from sklearn.preprocessing import PolynomialFeatures"
   ]
  },
  {
   "cell_type": "code",
   "execution_count": 44,
   "metadata": {},
   "outputs": [],
   "source": [
    "poly = PolynomialFeatures(6)"
   ]
  },
  {
   "cell_type": "code",
   "execution_count": 45,
   "metadata": {},
   "outputs": [
    {
     "data": {
      "text/plain": [
       "(118, 3)"
      ]
     },
     "execution_count": 45,
     "metadata": {},
     "output_type": "execute_result"
    }
   ],
   "source": [
    "ori_data_02.shape"
   ]
  },
  {
   "cell_type": "code",
   "execution_count": 46,
   "metadata": {},
   "outputs": [
    {
     "name": "stdout",
     "output_type": "stream",
     "text": [
      "X_train_poly.shape (118, 28)\n"
     ]
    }
   ],
   "source": [
    "X_train_poly = poly.fit_transform(X_ori_02)\n",
    "print('X_train_poly.shape', X_train_poly.shape)"
   ]
  },
  {
   "cell_type": "code",
   "execution_count": 47,
   "metadata": {},
   "outputs": [
    {
     "data": {
      "text/html": [
       "<div>\n",
       "<style scoped>\n",
       "    .dataframe tbody tr th:only-of-type {\n",
       "        vertical-align: middle;\n",
       "    }\n",
       "\n",
       "    .dataframe tbody tr th {\n",
       "        vertical-align: top;\n",
       "    }\n",
       "\n",
       "    .dataframe thead th {\n",
       "        text-align: right;\n",
       "    }\n",
       "</style>\n",
       "<table border=\"1\" class=\"dataframe\">\n",
       "  <thead>\n",
       "    <tr style=\"text-align: right;\">\n",
       "      <th></th>\n",
       "      <th>1</th>\n",
       "      <th>x0</th>\n",
       "      <th>x1</th>\n",
       "      <th>x0^2</th>\n",
       "      <th>x0 x1</th>\n",
       "      <th>x1^2</th>\n",
       "      <th>x0^3</th>\n",
       "      <th>x0^2 x1</th>\n",
       "      <th>x0 x1^2</th>\n",
       "      <th>x1^3</th>\n",
       "      <th>...</th>\n",
       "      <th>x0^2 x1^3</th>\n",
       "      <th>x0 x1^4</th>\n",
       "      <th>x1^5</th>\n",
       "      <th>x0^6</th>\n",
       "      <th>x0^5 x1</th>\n",
       "      <th>x0^4 x1^2</th>\n",
       "      <th>x0^3 x1^3</th>\n",
       "      <th>x0^2 x1^4</th>\n",
       "      <th>x0 x1^5</th>\n",
       "      <th>x1^6</th>\n",
       "    </tr>\n",
       "  </thead>\n",
       "  <tbody>\n",
       "    <tr>\n",
       "      <th>0</th>\n",
       "      <td>1.0</td>\n",
       "      <td>0.051267</td>\n",
       "      <td>0.69956</td>\n",
       "      <td>0.002628</td>\n",
       "      <td>0.035864</td>\n",
       "      <td>0.489384</td>\n",
       "      <td>0.000135</td>\n",
       "      <td>0.001839</td>\n",
       "      <td>0.025089</td>\n",
       "      <td>0.342354</td>\n",
       "      <td>...</td>\n",
       "      <td>0.000900</td>\n",
       "      <td>0.012278</td>\n",
       "      <td>0.167542</td>\n",
       "      <td>1.815630e-08</td>\n",
       "      <td>2.477505e-07</td>\n",
       "      <td>0.000003</td>\n",
       "      <td>0.000046</td>\n",
       "      <td>0.000629</td>\n",
       "      <td>0.008589</td>\n",
       "      <td>0.117206</td>\n",
       "    </tr>\n",
       "    <tr>\n",
       "      <th>1</th>\n",
       "      <td>1.0</td>\n",
       "      <td>-0.092742</td>\n",
       "      <td>0.68494</td>\n",
       "      <td>0.008601</td>\n",
       "      <td>-0.063523</td>\n",
       "      <td>0.469143</td>\n",
       "      <td>-0.000798</td>\n",
       "      <td>0.005891</td>\n",
       "      <td>-0.043509</td>\n",
       "      <td>0.321335</td>\n",
       "      <td>...</td>\n",
       "      <td>0.002764</td>\n",
       "      <td>-0.020412</td>\n",
       "      <td>0.150752</td>\n",
       "      <td>6.362953e-07</td>\n",
       "      <td>-4.699318e-06</td>\n",
       "      <td>0.000035</td>\n",
       "      <td>-0.000256</td>\n",
       "      <td>0.001893</td>\n",
       "      <td>-0.013981</td>\n",
       "      <td>0.103256</td>\n",
       "    </tr>\n",
       "    <tr>\n",
       "      <th>2</th>\n",
       "      <td>1.0</td>\n",
       "      <td>-0.213710</td>\n",
       "      <td>0.69225</td>\n",
       "      <td>0.045672</td>\n",
       "      <td>-0.147941</td>\n",
       "      <td>0.479210</td>\n",
       "      <td>-0.009761</td>\n",
       "      <td>0.031616</td>\n",
       "      <td>-0.102412</td>\n",
       "      <td>0.331733</td>\n",
       "      <td>...</td>\n",
       "      <td>0.015151</td>\n",
       "      <td>-0.049077</td>\n",
       "      <td>0.158970</td>\n",
       "      <td>9.526844e-05</td>\n",
       "      <td>-3.085938e-04</td>\n",
       "      <td>0.001000</td>\n",
       "      <td>-0.003238</td>\n",
       "      <td>0.010488</td>\n",
       "      <td>-0.033973</td>\n",
       "      <td>0.110047</td>\n",
       "    </tr>\n",
       "    <tr>\n",
       "      <th>3</th>\n",
       "      <td>1.0</td>\n",
       "      <td>-0.375000</td>\n",
       "      <td>0.50219</td>\n",
       "      <td>0.140625</td>\n",
       "      <td>-0.188321</td>\n",
       "      <td>0.252195</td>\n",
       "      <td>-0.052734</td>\n",
       "      <td>0.070620</td>\n",
       "      <td>-0.094573</td>\n",
       "      <td>0.126650</td>\n",
       "      <td>...</td>\n",
       "      <td>0.017810</td>\n",
       "      <td>-0.023851</td>\n",
       "      <td>0.031940</td>\n",
       "      <td>2.780914e-03</td>\n",
       "      <td>-3.724126e-03</td>\n",
       "      <td>0.004987</td>\n",
       "      <td>-0.006679</td>\n",
       "      <td>0.008944</td>\n",
       "      <td>-0.011978</td>\n",
       "      <td>0.016040</td>\n",
       "    </tr>\n",
       "    <tr>\n",
       "      <th>4</th>\n",
       "      <td>1.0</td>\n",
       "      <td>-0.513250</td>\n",
       "      <td>0.46564</td>\n",
       "      <td>0.263426</td>\n",
       "      <td>-0.238990</td>\n",
       "      <td>0.216821</td>\n",
       "      <td>-0.135203</td>\n",
       "      <td>0.122661</td>\n",
       "      <td>-0.111283</td>\n",
       "      <td>0.100960</td>\n",
       "      <td>...</td>\n",
       "      <td>0.026596</td>\n",
       "      <td>-0.024128</td>\n",
       "      <td>0.021890</td>\n",
       "      <td>1.827990e-02</td>\n",
       "      <td>-1.658422e-02</td>\n",
       "      <td>0.015046</td>\n",
       "      <td>-0.013650</td>\n",
       "      <td>0.012384</td>\n",
       "      <td>-0.011235</td>\n",
       "      <td>0.010193</td>\n",
       "    </tr>\n",
       "  </tbody>\n",
       "</table>\n",
       "<p>5 rows × 28 columns</p>\n",
       "</div>"
      ],
      "text/plain": [
       "     1        x0       x1      x0^2     x0 x1      x1^2      x0^3   x0^2 x1  \\\n",
       "0  1.0  0.051267  0.69956  0.002628  0.035864  0.489384  0.000135  0.001839   \n",
       "1  1.0 -0.092742  0.68494  0.008601 -0.063523  0.469143 -0.000798  0.005891   \n",
       "2  1.0 -0.213710  0.69225  0.045672 -0.147941  0.479210 -0.009761  0.031616   \n",
       "3  1.0 -0.375000  0.50219  0.140625 -0.188321  0.252195 -0.052734  0.070620   \n",
       "4  1.0 -0.513250  0.46564  0.263426 -0.238990  0.216821 -0.135203  0.122661   \n",
       "\n",
       "    x0 x1^2      x1^3    ...     x0^2 x1^3   x0 x1^4      x1^5          x0^6  \\\n",
       "0  0.025089  0.342354    ...      0.000900  0.012278  0.167542  1.815630e-08   \n",
       "1 -0.043509  0.321335    ...      0.002764 -0.020412  0.150752  6.362953e-07   \n",
       "2 -0.102412  0.331733    ...      0.015151 -0.049077  0.158970  9.526844e-05   \n",
       "3 -0.094573  0.126650    ...      0.017810 -0.023851  0.031940  2.780914e-03   \n",
       "4 -0.111283  0.100960    ...      0.026596 -0.024128  0.021890  1.827990e-02   \n",
       "\n",
       "        x0^5 x1  x0^4 x1^2  x0^3 x1^3  x0^2 x1^4   x0 x1^5      x1^6  \n",
       "0  2.477505e-07   0.000003   0.000046   0.000629  0.008589  0.117206  \n",
       "1 -4.699318e-06   0.000035  -0.000256   0.001893 -0.013981  0.103256  \n",
       "2 -3.085938e-04   0.001000  -0.003238   0.010488 -0.033973  0.110047  \n",
       "3 -3.724126e-03   0.004987  -0.006679   0.008944 -0.011978  0.016040  \n",
       "4 -1.658422e-02   0.015046  -0.013650   0.012384 -0.011235  0.010193  \n",
       "\n",
       "[5 rows x 28 columns]"
      ]
     },
     "execution_count": 47,
     "metadata": {},
     "output_type": "execute_result"
    }
   ],
   "source": [
    "import pandas as pd\n",
    "XX_df = pd.DataFrame(X_train_poly, columns=poly.get_feature_names())\n",
    "XX_df.head()"
   ]
  },
  {
   "cell_type": "markdown",
   "metadata": {},
   "source": [
    "## Regularization Logistic Regression"
   ]
  },
  {
   "cell_type": "markdown",
   "metadata": {},
   "source": [
    "### Regularized Cost Function"
   ]
  },
  {
   "cell_type": "code",
   "execution_count": 48,
   "metadata": {},
   "outputs": [],
   "source": [
    "# cost_reg -> 0.693"
   ]
  },
  {
   "cell_type": "markdown",
   "metadata": {},
   "source": [
    "+ Normal : $ J\\left( \\theta  \\right)=\\frac{1}{m}\\sum\\limits_{i=1}^{m}{[-{{y}^{(i)}}\\log \\left( {{h}_{\\theta }}\\left( {{x}^{(i)}} \\right) \\right)-\\left( 1-{{y}^{(i)}} \\right)\\log \\left( 1-{{h}_{\\theta }}\\left( {{x}^{(i)}} \\right) \\right)]} + \\frac{\\lambda }{2m}\\sum\\limits_{j=1}^{n}{{\\theta }_{j}^{2}} $\n",
    "+ Vector : $ J(\\theta) = -\\frac{1}{m}\\big((\\,log\\,(g(X\\theta))^Ty+(\\,log\\,(1-g(X\\theta))^T(1-y)\\big) + \\frac{\\lambda }{2m}\\sum\\limits_{j=1}^{n}{{\\theta }_{j}^{2}} $\n",
    "> + theta - (n+1, )\n",
    "> + X - (m, n+1)\n",
    "> + y - (m, )\n",
    "> + (1, 1)"
   ]
  },
  {
   "cell_type": "code",
   "execution_count": 49,
   "metadata": {
    "scrolled": true
   },
   "outputs": [
    {
     "data": {
      "text/plain": [
       "0.6931471805599453"
      ]
     },
     "execution_count": 49,
     "metadata": {},
     "output_type": "execute_result"
    }
   ],
   "source": [
    "J_history_reg = []\n",
    "def cost_function_reg(theta, X, y, lamd = 0):\n",
    "    global J_history_reg\n",
    "    \n",
    "    cost = cost_function(theta, X, y)\n",
    "    reg_item = lamd * (theta[1:].T @ theta[1:]) / (2 * m)\n",
    "    cost_reg = cost + reg_item\n",
    "    \n",
    "    J_history_reg.append(cost_reg)\n",
    "    \n",
    "    return cost_reg\n",
    "\n",
    "theta_init = np.zeros((X_train_poly.shape[1],))\n",
    "cost_function_reg(theta_init, X_train_poly, y_train_02, lamd = 1)"
   ]
  },
  {
   "cell_type": "markdown",
   "metadata": {},
   "source": [
    "### Regrlarized Gradient Descent"
   ]
  },
  {
   "cell_type": "markdown",
   "metadata": {},
   "source": [
    "#### Partial derivative\n",
    "\n",
    "#### $$ \\frac{\\delta J(\\theta)}{\\delta\\theta_{j}} = \\frac{1}{m}\\sum_{i=1}^{m} ( h_\\theta (x^{(i)})-y^{(i)})x^{(i)}_{j} + \\frac{\\lambda}{m}\\theta_{j}$$ \n",
    "#### Vectorized\n",
    "#### $$ \\frac{\\delta J(\\theta)}{\\delta\\theta_{j}} = \\frac{1}{m} X^T(g(X\\theta)-y) + \\frac{\\lambda}{m}\\theta_{j}$$\n",
    "##### $$\\text{Note: intercept parameter } \\theta_{0} \\text{ is not to be regularized}$$"
   ]
  },
  {
   "cell_type": "markdown",
   "metadata": {},
   "source": [
    "+ $ {{\\theta }_{0}}:={{\\theta }_{0}}-a\\frac{1}{m}\\sum\\limits_{i=1}^{m}{[{{h}_{\\theta }}\\left( {{x}^{(i)}} \\right)-{{y}^{(i)}}]x_{_{0}}^{(i)}} $\n",
    "+ $ {{\\theta }_{j}}:={{\\theta }_{j}}-a\\frac{1}{m}\\sum\\limits_{i=1}^{m}{[{{h}_{\\theta }}\\left( {{x}^{(i)}} \\right)-{{y}^{(i)}}]x_{j}^{(i)}}+\\frac{\\lambda }{m}{{\\theta }_{j}} $\n",
    "> + theta - (n+1, )\n",
    "> + X - (m, n+1)\n",
    "> + y - (m, )\n",
    "> + (n+1, )"
   ]
  },
  {
   "cell_type": "code",
   "execution_count": 50,
   "metadata": {},
   "outputs": [
    {
     "data": {
      "text/plain": [
       "array([1.00000000e-02, 2.21699500e-02, 9.17700000e-05, 5.94066747e-02,\n",
       "       1.35715703e-02, 4.44445199e-02, 2.16600649e-02, 8.64224202e-03,\n",
       "       9.66708473e-03, 2.77022569e-02, 4.64313757e-02, 2.64230210e-03,\n",
       "       1.51748594e-02, 3.65320590e-03, 4.63773242e-02, 2.35654811e-02,\n",
       "       5.10920214e-03, 3.99599804e-03, 6.88910052e-03, 5.28202298e-03,\n",
       "       3.65894222e-02, 3.66168682e-02, 1.29493481e-03, 7.45253540e-03,\n",
       "       4.82033547e-04, 8.57275093e-03, 1.62422486e-03, 4.57764909e-02])"
      ]
     },
     "execution_count": 50,
     "metadata": {},
     "output_type": "execute_result"
    }
   ],
   "source": [
    "def gradient_reg(theta, X, y, lamd=0):\n",
    "    grad = gradient(theta, X, y)\n",
    "    reg_theta = lamd * theta[1:] / m\n",
    "    reg_item = np.r_[[0], reg_theta]\n",
    "    \n",
    "    grad_reg = grad + reg_item\n",
    "    \n",
    "    return grad_reg\n",
    "\n",
    "theta_init = np.zeros((X_train_poly.shape[1],))\n",
    "gradient_reg(theta_init, X_train_poly, y_train_02, lamd=1)"
   ]
  },
  {
   "cell_type": "markdown",
   "metadata": {},
   "source": [
    "### Regularized Optimize"
   ]
  },
  {
   "cell_type": "markdown",
   "metadata": {},
   "source": [
    "#### Scipy"
   ]
  },
  {
   "cell_type": "code",
   "execution_count": 51,
   "metadata": {},
   "outputs": [
    {
     "name": "stdout",
     "output_type": "stream",
     "text": [
      "{'result':      fun: 0.28724844245174935\n",
      "     jac: array([ 8.86080553e-05, -1.43096833e-05,  1.46591727e-05,  1.54446684e-05,\n",
      "       -1.99433788e-05,  3.09617058e-05, -3.72107747e-06,  7.16395461e-07,\n",
      "       -3.80750979e-06,  1.25599589e-06,  9.06222707e-06, -5.66420870e-07,\n",
      "        1.27092152e-06, -1.24258160e-05,  2.75516440e-05, -9.88203518e-08,\n",
      "        2.47830803e-07,  4.67027180e-07,  2.24746446e-06, -3.30401327e-06,\n",
      "        1.69354629e-05,  6.25441503e-06,  1.20587401e-06, -2.59327316e-07,\n",
      "       -6.38108294e-07,  1.99822073e-06, -4.78638379e-06,  2.06657721e-05])\n",
      " message: 'Max. number of function evaluations reached'\n",
      "    nfev: 280\n",
      "     nit: 22\n",
      "  status: 3\n",
      " success: False\n",
      "       x: array([  3.08317484,  -0.75659766,   2.92301711, -12.96145782,\n",
      "        -9.00944053,   5.25706978,   2.45603135,  15.70680452,\n",
      "        27.05563204,   1.98245823,  44.27748483,  11.01008815,\n",
      "        -5.92753003,  -5.75413442, -33.28974635,  10.35821496,\n",
      "        -7.47102465,  -4.28485336, -14.22688186, -16.91708105,\n",
      "        14.41734706, -72.32820637, -35.90830642, -13.00632745,\n",
      "        29.29202177, -51.81415044, -35.90091905,   0.3460477 ]), 'theta': array([  3.08317484,  -0.75659766,   2.92301711, -12.96145782,\n",
      "        -9.00944053,   5.25706978,   2.45603135,  15.70680452,\n",
      "        27.05563204,   1.98245823,  44.27748483,  11.01008815,\n",
      "        -5.92753003,  -5.75413442, -33.28974635,  10.35821496,\n",
      "        -7.47102465,  -4.28485336, -14.22688186, -16.91708105,\n",
      "        14.41734706, -72.32820637, -35.90830642, -13.00632745,\n",
      "        29.29202177, -51.81415044, -35.90091905,   0.3460477 ])}\n",
      "\n",
      "0.6931471805599453\n",
      "0.28724844245174935\n"
     ]
    }
   ],
   "source": [
    "def scipy_opt_minimize_reg(theta, X, y, Method, lamd=0):\n",
    "    res = opt.minimize(\n",
    "        fun    = cost_function_reg,\n",
    "        x0     = theta,\n",
    "        args   = (X, y, lamd),\n",
    "        method = Method,\n",
    "        jac    = gradient_reg\n",
    "    )\n",
    "    \n",
    "    return {\n",
    "        \"result\" : res,\n",
    "        \"theta\" : res.x\n",
    "    }\n",
    "\n",
    "lamd = 1 / 10000\n",
    "theta_init = np.zeros((X_train_poly.shape[1],))\n",
    "res = scipy_opt_minimize_reg(theta_init, X_train_poly, y_train_02, \"tnc\", lamd)\n",
    "print(res)\n",
    "\n",
    "print()\n",
    "print(cost_function_reg(theta_init, X_train_poly, y_train_02, lamd))\n",
    "print(cost_function_reg(res['theta'], X_train_poly, y_train_02, lamd))\n",
    "theta_scipy_reg = res['theta']"
   ]
  },
  {
   "cell_type": "code",
   "execution_count": 52,
   "metadata": {},
   "outputs": [],
   "source": [
    "def scipy_opt_fmin_reg(theta, X, y):\n",
    "    opt.fmin(\n",
    "        fun = cost_function,\n",
    "        x0 = theta,\n",
    "        args = (X, y),\n",
    "    )\n",
    "    \n",
    "    opt.fmin_cg(\n",
    "        f = cost_function,\n",
    "        x0 = theta,\n",
    "        fprime = gradient,\n",
    "        args = (X, y)\n",
    "    )\n",
    "    \n",
    "    opt.fmin_bfgs(\n",
    "        f = cost_function,\n",
    "        x0 = theta,\n",
    "        fprime = gradient,\n",
    "        args = (X, y),   \n",
    "    )\n",
    "    \n",
    "    opt.fmin_tnc(\n",
    "        func = cost_function,\n",
    "        x0 = theta,\n",
    "        fprime = gradient,\n",
    "        args = (X, y)\n",
    "    )"
   ]
  },
  {
   "cell_type": "markdown",
   "metadata": {},
   "source": [
    "#### Sklearn"
   ]
  },
  {
   "cell_type": "code",
   "execution_count": 53,
   "metadata": {},
   "outputs": [
    {
     "name": "stdout",
     "output_type": "stream",
     "text": [
      "LogisticRegression(C=10000, class_weight=None, dual=False,\n",
      "          fit_intercept=False, intercept_scaling=1, max_iter=100,\n",
      "          multi_class='ovr', n_jobs=1, penalty='l2', random_state=None,\n",
      "          solver='liblinear', tol=0.0001, verbose=0, warm_start=False)\n",
      "> model_reg.intercept_ 0.0\n",
      "> model_reg.coef_ [[  3.02935115  -0.80372003   2.59303057 -12.70970105  -9.27490898\n",
      "    5.47830677   2.52759111  16.48811663  27.54612797   3.77993264\n",
      "   43.95443389  11.46367536  -6.18491181  -4.57352495 -34.18267104\n",
      "   10.45228977  -7.7763198   -4.87431702 -16.27131298 -17.80192293\n",
      "   11.94256807 -72.45154062 -36.40082464 -12.58889675  28.65658599\n",
      "  -51.74319301 -36.94137618   2.01963105]]\n"
     ]
    },
    {
     "data": {
      "text/plain": [
       "array([[0.28724761]])"
      ]
     },
     "execution_count": 53,
     "metadata": {},
     "output_type": "execute_result"
    }
   ],
   "source": [
    "# from sklearn.linear_model import LogisticRegression\n",
    "model_reg = LogisticRegression(penalty=\"l2\", C=10000, fit_intercept=False, multi_class='ovr')\n",
    "print(model_reg.fit(X_train_poly, y_train_02))\n",
    "print(\"> model_reg.intercept_\", model_reg.intercept_)\n",
    "print(\"> model_reg.coef_\", model_reg.coef_)\n",
    "\n",
    "cost_function_reg(model_reg.coef_.T, X_train_poly, y_train_02, 1 / 10000)"
   ]
  },
  {
   "cell_type": "code",
   "execution_count": 54,
   "metadata": {},
   "outputs": [
    {
     "data": {
      "text/plain": [
       "0.864406779661017"
      ]
     },
     "execution_count": 54,
     "metadata": {},
     "output_type": "execute_result"
    }
   ],
   "source": [
    "model_reg.score(X_train_poly, y_train_02)"
   ]
  },
  {
   "cell_type": "markdown",
   "metadata": {},
   "source": [
    "#### Batch Gradient Descent"
   ]
  },
  {
   "cell_type": "code",
   "execution_count": 55,
   "metadata": {},
   "outputs": [
    {
     "name": "stdout",
     "output_type": "stream",
     "text": [
      "(array([ 0.15216518, -0.04732177,  0.08766342, -0.27651519, -0.07349812,\n",
      "       -0.16820815, -0.0708825 , -0.03714278, -0.04379026, -0.08609871,\n",
      "       -0.2210009 , -0.01092939, -0.0726057 , -0.0190421 , -0.19378532,\n",
      "       -0.09344144, -0.02402993, -0.01640575, -0.03176038, -0.02655684,\n",
      "       -0.14168817, -0.17242348, -0.00399397, -0.03672589, -0.00125678,\n",
      "       -0.04090365, -0.00831238, -0.19387313]), 0.6560467331570089)\n"
     ]
    }
   ],
   "source": [
    "def batch_gradient_descent_reg(theta, X, y, lr=0.009, iterations=1500, lamd = 0):\n",
    "    for _ in range(iterations):\n",
    "        grad_reg = gradient_reg(theta, X, y, lamd)\n",
    "        theta = theta - lr * grad_reg\n",
    "    cost = cost_function_reg(theta, X, y, lamd)\n",
    "    return theta, cost\n",
    "\n",
    "theta_init = np.zeros((X_train_poly.shape[1],))\n",
    "res = batch_gradient_descent_reg(theta_init, X_train_poly, y_train_02, iterations=1000, lamd=10)\n",
    "print(res)"
   ]
  },
  {
   "cell_type": "markdown",
   "metadata": {},
   "source": [
    "# Plot Regularize Decision Boundary"
   ]
  },
  {
   "cell_type": "code",
   "execution_count": 56,
   "metadata": {},
   "outputs": [],
   "source": [
    "def plot_decision_boundary(data, theta, axes=None, lamd=0):\n",
    "    X1_min, X1_max = data[:,0].min(), data[:,0].max()\n",
    "    X2_min, X2_max = data[:,1].min(), data[:,1].max()\n",
    "\n",
    "    xx1, xx2 = np.meshgrid(np.linspace(X1_min, X1_max), np.linspace(X2_min, X2_max))\n",
    "    XX = poly.fit_transform(np.c_[xx1.ravel(), xx2.ravel()])\n",
    "    hyp = hypthesis(theta, XX).reshape(xx1.shape)\n",
    "    print(\">> XX.shape :\", XX.shape)\n",
    "    print(\">> hyp.shape :\", hyp.shape)\n",
    "    cont = axes.contour(xx1, xx2, hyp, [0.5], linewidths=1, colors='b')\n",
    "    axes.clabel(cont, inline=True, colors='r', fontsize=15, fmt=('lambda = %d' %lamd))"
   ]
  },
  {
   "cell_type": "code",
   "execution_count": 57,
   "metadata": {},
   "outputs": [
    {
     "name": "stdout",
     "output_type": "stream",
     "text": [
      ">> XX.shape : (2500, 28)\n",
      ">> hyp.shape : (50, 50)\n",
      "[  3.08317484  -0.75659766   2.92301711 -12.96145782  -9.00944053\n",
      "   5.25706978   2.45603135  15.70680452  27.05563204   1.98245823\n",
      "  44.27748483  11.01008815  -5.92753003  -5.75413442 -33.28974635\n",
      "  10.35821496  -7.47102465  -4.28485336 -14.22688186 -16.91708105\n",
      "  14.41734706 -72.32820637 -35.90830642 -13.00632745  29.29202177\n",
      " -51.81415044 -35.90091905   0.3460477 ]\n"
     ]
    },
    {
     "data": {
      "image/png": "[encoded data removed]",
      "text/plain": [
       "<Figure size 396x360 with 1 Axes>"
      ]
     },
     "metadata": {},
     "output_type": "display_data"
    }
   ],
   "source": [
    "plt.figure(figsize=(5.5,5))\n",
    "plot_ori_data(ori_data_02, 'Microchip Test 1', 'Microchip Test 2', 'y = 1', 'y = 0')\n",
    "plot_decision_boundary(ori_data_02, theta_scipy_reg, axes=plt.gca())\n",
    "print(theta_scipy_reg)"
   ]
  },
  {
   "cell_type": "code",
   "execution_count": 58,
   "metadata": {},
   "outputs": [],
   "source": [
    "lamd = [0, 1, 100]\n",
    "theta_init = np.zeros((X_train_poly.shape[1],))\n",
    "res_0   = scipy_opt_minimize_reg(theta_init, X_train_poly, y_train_02, \"tnc\", lamd[0])\n",
    "res_1   = scipy_opt_minimize_reg(theta_init, X_train_poly, y_train_02, \"tnc\", lamd[1])\n",
    "res_100 = scipy_opt_minimize_reg(theta_init, X_train_poly, y_train_02, \"tnc\", lamd[1])\n",
    "theta_scipy_reg_0   = res_0['theta']\n",
    "theta_scipy_reg_1   = res_1['theta']\n",
    "theta_scipy_reg_100 = res_100['theta']"
   ]
  },
  {
   "cell_type": "code",
   "execution_count": 59,
   "metadata": {},
   "outputs": [
    {
     "name": "stdout",
     "output_type": "stream",
     "text": [
      ">> XX.shape : (2500, 28)\n",
      ">> hyp.shape : (50, 50)\n",
      ">> XX.shape : (2500, 28)\n",
      ">> hyp.shape : (50, 50)\n",
      ">> XX.shape : (2500, 28)\n",
      ">> hyp.shape : (50, 50)\n"
     ]
    },
    {
     "data": {
      "image/png": "[encoded data removed]",
      "text/plain": [
       "<Figure size 1224x360 with 3 Axes>"
      ]
     },
     "metadata": {},
     "output_type": "display_data"
    }
   ],
   "source": [
    "fig, axes = plt.subplots(1, 3, figsize=(17,5))\n",
    "axes_0 = axes.flatten()[0]\n",
    "axes_0.set_title(\"----------\")\n",
    "plot_ori_data(ori_data_02, 'Microchip Test 1', 'Microchip Test 2', 'y = 1', 'y = 0', axes_0)\n",
    "plot_decision_boundary(ori_data_02, theta_scipy_reg_0, axes_0)\n",
    "\n",
    "axes_1 = axes.flatten()[1]\n",
    "axes_1.set_title(\"----------\")\n",
    "plot_ori_data(ori_data_02, 'Microchip Test 1', 'Microchip Test 2', 'y = 1', 'y = 0', axes_1)\n",
    "plot_decision_boundary(ori_data_02, theta_scipy_reg_1, axes_1)\n",
    "\n",
    "axes_100 = axes.flatten()[2]\n",
    "#axes_100.set_title('Train accuracy {}% with Lambda = {}'.format(np.round(accuracy, decimals=2), C))\n",
    "plot_ori_data(ori_data_02, 'Microchip Test 1', 'Microchip Test 2', 'y = 1', 'y = 0', axes_100)\n",
    "plot_decision_boundary(ori_data_02, theta_scipy_reg_100, axes_100)"
   ]
  },
  {
   "cell_type": "code",
   "execution_count": 60,
   "metadata": {},
   "outputs": [
    {
     "name": "stdout",
     "output_type": "stream",
     "text": [
      "0\n",
      ">> XX.shape : (2500, 28)\n",
      ">> hyp.shape : (50, 50)\n",
      "1\n",
      ">> XX.shape : (2500, 28)\n",
      ">> hyp.shape : (50, 50)\n",
      "100\n",
      ">> XX.shape : (2500, 28)\n",
      ">> hyp.shape : (50, 50)\n"
     ]
    },
    {
     "data": {
      "image/png": "[encoded data removed]",
      "text/plain": [
       "<Figure size 1224x360 with 3 Axes>"
      ]
     },
     "metadata": {},
     "output_type": "display_data"
    }
   ],
   "source": [
    "fig, axes = plt.subplots(1, 3, figsize=(17,5))\n",
    "theta_init = np.zeros((X_train_poly.shape[1],))\n",
    "\n",
    "for i, C in enumerate([0, 1, 100]):\n",
    "    print(C)\n",
    "    res = scipy_opt_minimize_reg(theta_init, X_train_poly, y_train_02, \"tnc\", lamd = C)\n",
    "    # accuracy = 100*sum(predict(res2.x, XX) == y.ravel())/y.size\n",
    "    \n",
    "    axes_i = axes.flatten()[i]\n",
    "    plot_ori_data(ori_data_02, 'Microchip Test 1', 'Microchip Test 2', 'y = 1', 'y = 0', axes_i)\n",
    "    plot_decision_boundary(ori_data_02, res['theta'], axes_i, C)\n",
    "    #axes.flatten()[i].set_title('Train accuracy {}% with Lambda = {}'.format(np.round(accuracy, decimals=2), C))"
   ]
  },
  {
   "cell_type": "code",
   "execution_count": null,
   "metadata": {},
   "outputs": [],
   "source": []
  },
  {
   "cell_type": "markdown",
   "metadata": {},
   "source": [
    "    Train set & Cross Validation set"
   ]
  },
  {
   "cell_type": "code",
   "execution_count": 61,
   "metadata": {},
   "outputs": [],
   "source": [
    "# 4. Logistic Regresion - Quality vs Chip test 1 and chip test 2"
   ]
  },
  {
   "cell_type": "code",
   "execution_count": 99,
   "metadata": {},
   "outputs": [],
   "source": [
    "from sklearn.model_selection import cross_val_score\n",
    "from sklearn.model_selection import train_test_split\n",
    "\n",
    "sk_X_train, sk_X_test, sk_y_train, sk_y_test = train_test_split(\n",
    "    X_train_poly, y_train_02, test_size=0.4, random_state=0)"
   ]
  },
  {
   "cell_type": "code",
   "execution_count": 100,
   "metadata": {},
   "outputs": [
    {
     "name": "stdout",
     "output_type": "stream",
     "text": [
      "(70, 28)\n",
      "(48, 28)\n",
      "(70,)\n",
      "(48,)\n"
     ]
    }
   ],
   "source": [
    "print(sk_X_train.shape)\n",
    "print(sk_X_test.shape)\n",
    "print(sk_y_train.shape)\n",
    "print(sk_y_test.shape)"
   ]
  },
  {
   "cell_type": "code",
   "execution_count": 101,
   "metadata": {},
   "outputs": [
    {
     "name": "stdout",
     "output_type": "stream",
     "text": [
      "{'result':      fun: 0.21761748505230327\n",
      "     jac: array([-1.42958773e-05, -2.82598448e-05, -1.27420009e-05, -4.48264676e-06,\n",
      "        2.21514598e-06,  1.32203402e-05,  5.54655135e-07,  2.35891801e-06,\n",
      "       -1.29949682e-05, -1.35108447e-05, -1.86249913e-06,  4.83600569e-06,\n",
      "        3.16925762e-06, -4.50673906e-06,  2.35226652e-06,  3.52859222e-06,\n",
      "        2.39686943e-06, -1.34071373e-06, -6.22280185e-07, -1.92885146e-06,\n",
      "        4.27105985e-06,  9.74900890e-08,  2.85673939e-06,  1.40395077e-06,\n",
      "        2.05495499e-06, -1.45348879e-06,  7.47920166e-07, -4.80753531e-06])\n",
      " message: 'Converged (|f_n-f_(n-1)| ~= 0)'\n",
      "    nfev: 186\n",
      "     nit: 18\n",
      "  status: 1\n",
      " success: True\n",
      "       x: array([  7.52148517,  25.95854769,  12.50997378,  14.44461782,\n",
      "         7.4448838 ,  -7.99352335, -28.89368733,   3.14426311,\n",
      "       -41.72078101, -13.83886356, -31.47774371,  34.64183864,\n",
      "       -37.38176816, -19.19074644, -24.09539645, -15.14997292,\n",
      "        35.24589948, -13.7866267 , -26.97092794,  -4.05978022,\n",
      "         1.40816246, -35.76631402, -46.66752847,  14.13261007,\n",
      "        45.59435503, -62.01297369, -28.7376194 ,  18.43988921]), 'theta': array([  7.52148517,  25.95854769,  12.50997378,  14.44461782,\n",
      "         7.4448838 ,  -7.99352335, -28.89368733,   3.14426311,\n",
      "       -41.72078101, -13.83886356, -31.47774371,  34.64183864,\n",
      "       -37.38176816, -19.19074644, -24.09539645, -15.14997292,\n",
      "        35.24589948, -13.7866267 , -26.97092794,  -4.05978022,\n",
      "         1.40816246, -35.76631402, -46.66752847,  14.13261007,\n",
      "        45.59435503, -62.01297369, -28.7376194 ,  18.43988921])}\n",
      "\n",
      "0.6931471805599453\n",
      "0.21761748505230327\n"
     ]
    }
   ],
   "source": [
    "lamd = 1 / 10000\n",
    "theta_init = np.zeros((sk_X_train.shape[1],))\n",
    "res = scipy_opt_minimize_reg(theta_init, sk_X_train, sk_y_train, \"tnc\", lamd)\n",
    "print(res)\n",
    "\n",
    "print()\n",
    "print(cost_function_reg(theta_init, sk_X_train, sk_y_train, lamd))\n",
    "print(cost_function_reg(res['theta'], sk_X_train, sk_y_train, lamd))\n",
    "theta_scipy_reg = res['theta']"
   ]
  },
  {
   "cell_type": "code",
   "execution_count": 103,
   "metadata": {},
   "outputs": [],
   "source": [
    "lamdas = np.linspace(0.0001, 1, 500)\n",
    "\n",
    "Jtrain = np.empty(len(lamdas))\n",
    "Jcv = np.empty(len(lamdas))\n",
    "\n",
    "for i, lamda in enumerate(lamdas):\n",
    "    theta_init = np.zeros((sk_X_train.shape[1],))\n",
    "    res = scipy_opt_minimize_reg(theta_init, sk_X_train, sk_y_train, \"tnc\", lamda)\n",
    "    \n",
    "    Jtrain[i] = cost_function_reg(res['theta'], sk_X_train, sk_y_train, lamda)\n",
    "    Jcv[i] = cost_function_reg(res['theta'], sk_X_test, sk_y_test, lamda)\n"
   ]
  },
  {
   "cell_type": "code",
   "execution_count": 108,
   "metadata": {},
   "outputs": [
    {
     "data": {
      "text/plain": [
       "<matplotlib.collections.PathCollection at 0x7fa29308ce80>"
      ]
     },
     "execution_count": 108,
     "metadata": {},
     "output_type": "execute_result"
    },
    {
     "data": {
      "image/png": "[encoded data removed]",
      "text/plain": [
       "<Figure size 432x288 with 1 Axes>"
      ]
     },
     "metadata": {},
     "output_type": "display_data"
    }
   ],
   "source": [
    "plt.plot(lamdas, Jtrain, lamdas, Jcv)\n",
    "ind = np.where(Jcv == np.amin(Jcv))\n",
    "optLambda = lamdas[ind]\n",
    "plt.scatter(optLambda, Jcv[ind])"
   ]
  },
  {
   "cell_type": "code",
   "execution_count": 66,
   "metadata": {},
   "outputs": [
    {
     "data": {
      "text/plain": [
       "0.7291666666666666"
      ]
     },
     "execution_count": 66,
     "metadata": {},
     "output_type": "execute_result"
    }
   ],
   "source": [
    "accuracy(theta_scipy_reg, sk_X_test, sk_y_test, threshold=0.5)"
   ]
  },
  {
   "cell_type": "code",
   "execution_count": 76,
   "metadata": {},
   "outputs": [
    {
     "data": {
      "text/plain": [
       "0.7291666666666666"
      ]
     },
     "execution_count": 76,
     "metadata": {},
     "output_type": "execute_result"
    }
   ],
   "source": [
    "# from sklearn.linear_model import LogisticRegression\n",
    "model_reg_cv = LogisticRegression(penalty=\"l2\", C=10000, fit_intercept=False, multi_class='ovr')\n",
    "clk = model_reg_cv.fit(sk_X_train, sk_y_train)\n",
    "#print(\"> model_reg.intercept_\", model_reg.intercept_)\n",
    "#print(\"> model_reg.coef_\", model_reg.coef_)\n",
    "clk.score(sk_X_test, sk_y_test)\n",
    "#cost_function_reg(model_reg.coef_.T, X_train_poly, y_train_02, 1 / 10000)"
   ]
  },
  {
   "cell_type": "code",
   "execution_count": 79,
   "metadata": {},
   "outputs": [
    {
     "name": "stdout",
     "output_type": "stream",
     "text": [
      "[0.875      0.45833333 0.75       0.60869565 0.73913043]\n"
     ]
    }
   ],
   "source": [
    "scores = cross_val_score(clk, X_train_poly, y_train_02, cv=5)\n",
    "print(scores)"
   ]
  },
  {
   "cell_type": "code",
   "execution_count": 80,
   "metadata": {},
   "outputs": [
    {
     "name": "stdout",
     "output_type": "stream",
     "text": [
      "Accuracy : 0.69 (+/- 0.28)\n"
     ]
    }
   ],
   "source": [
    "print(\"Accuracy : %0.2f (+/- %0.2f)\" %(scores.mean(), scores.std() * 2)  )"
   ]
  },
  {
   "cell_type": "markdown",
   "metadata": {},
   "source": [
    "    Test by sklearn.dataset.load_iris"
   ]
  },
  {
   "cell_type": "code",
   "execution_count": null,
   "metadata": {},
   "outputs": [],
   "source": []
  },
  {
   "cell_type": "code",
   "execution_count": 81,
   "metadata": {},
   "outputs": [],
   "source": [
    "from sklearn.datasets import load_iris"
   ]
  },
  {
   "cell_type": "code",
   "execution_count": 83,
   "metadata": {},
   "outputs": [],
   "source": [
    "data_iris = load_iris()"
   ]
  },
  {
   "cell_type": "code",
   "execution_count": 88,
   "metadata": {},
   "outputs": [],
   "source": [
    "data = data_iris.data\n",
    "target = data_iris.target"
   ]
  },
  {
   "cell_type": "code",
   "execution_count": 90,
   "metadata": {},
   "outputs": [
    {
     "data": {
      "text/plain": [
       "array(['setosa', 'versicolor', 'virginica'], dtype='<U10')"
      ]
     },
     "execution_count": 90,
     "metadata": {},
     "output_type": "execute_result"
    }
   ],
   "source": [
    "data_iris.target_names"
   ]
  },
  {
   "cell_type": "code",
   "execution_count": 93,
   "metadata": {},
   "outputs": [
    {
     "data": {
      "text/plain": [
       "(150, 4)"
      ]
     },
     "execution_count": 93,
     "metadata": {},
     "output_type": "execute_result"
    }
   ],
   "source": [
    "data.shape"
   ]
  },
  {
   "cell_type": "code",
   "execution_count": 94,
   "metadata": {},
   "outputs": [
    {
     "data": {
      "text/plain": [
       "(150,)"
      ]
     },
     "execution_count": 94,
     "metadata": {},
     "output_type": "execute_result"
    }
   ],
   "source": [
    "target.shape"
   ]
  },
  {
   "cell_type": "code",
   "execution_count": 97,
   "metadata": {},
   "outputs": [
    {
     "name": "stdout",
     "output_type": "stream",
     "text": [
      "{'result':      fun: -inf\n",
      "     jac: array([-3.29380723, -1.53208897, -2.69749996, -0.97381368])\n",
      " message: 'Linear search failed'\n",
      "    nfev: 72\n",
      "     nit: 1\n",
      "  status: 4\n",
      " success: False\n",
      "       x: array([-1.63626388, -4.52093937,  7.8444085 ,  3.91778037]), 'theta': array([-1.63626388, -4.52093937,  7.8444085 ,  3.91778037])}\n",
      "\n",
      "0.6931471805599453\n"
     ]
    },
    {
     "name": "stderr",
     "output_type": "stream",
     "text": [
      "/home/local/SPREADTRUM/xing.jian/Public/Soft/Anaconda3/lib/python3.6/site-packages/ipykernel_launcher.py:5: RuntimeWarning: divide by zero encountered in log\n",
      "  \"\"\"\n"
     ]
    }
   ],
   "source": [
    "lamd = 1\n",
    "theta = np.zeros((data.shape[1], ))\n",
    "res = scipy_opt_minimize_reg(theta, data, target, \"tnc\", lamd)\n",
    "print(res)\n",
    "\n",
    "print()\n",
    "print(cost_function_reg(theta, data, target, lamd))"
   ]
  },
  {
   "cell_type": "code",
   "execution_count": null,
   "metadata": {},
   "outputs": [],
   "source": []
  }
 ],
 "metadata": {
  "kernelspec": {
   "display_name": "Python 3",
   "language": "python",
   "name": "python3"
  },
  "language_info": {
   "codemirror_mode": {
    "name": "ipython",
    "version": 3
   },
   "file_extension": ".py",
   "mimetype": "text/x-python",
   "name": "python",
   "nbconvert_exporter": "python",
   "pygments_lexer": "ipython3",
   "version": "3.6.6"
  },
  "toc": {
   "base_numbering": 1,
   "nav_menu": {},
   "number_sections": true,
   "sideBar": true,
   "skip_h1_title": false,
   "title_cell": "Table of Contents",
   "title_sidebar": "Contents",
   "toc_cell": false,
   "toc_position": {
    "height": "calc(100% - 180px)",
    "left": "10px",
    "top": "150px",
    "width": "250px"
   },
   "toc_section_display": true,
   "toc_window_display": false
  }
 },
 "nbformat": 4,
 "nbformat_minor": 2
}
